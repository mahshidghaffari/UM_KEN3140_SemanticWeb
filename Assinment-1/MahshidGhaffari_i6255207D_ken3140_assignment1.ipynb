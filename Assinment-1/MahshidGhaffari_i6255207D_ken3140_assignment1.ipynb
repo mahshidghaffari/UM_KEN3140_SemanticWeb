{
 "cells": [
  {
   "cell_type": "markdown",
   "id": "612eee16",
   "metadata": {
    "pycharm": {
     "name": "#%% md\n"
    }
   },
   "source": [
    "# Assignment 1 - Semantic web\n",
    "\n",
    "## Mahshid ghaffari\n",
    "\n",
    "### School community"
   ]
  },
  {
   "cell_type": "code",
   "execution_count": null,
   "id": "a94741a0",
   "metadata": {
    "pycharm": {
     "name": "#%%\n"
    }
   },
   "outputs": [],
   "source": [
    "!pip install rdflib\n",
    "!pip install validators"
   ]
  },
  {
   "cell_type": "markdown",
   "source": [
    "## import libraries"
   ],
   "metadata": {
    "collapsed": false,
    "pycharm": {
     "name": "#%% md\n"
    }
   }
  },
  {
   "cell_type": "code",
   "execution_count": null,
   "outputs": [],
   "source": [
    "from rdflib import URIRef, BNode, Literal, Namespace\n",
    "from rdflib.namespace import FOAF, DCTERMS, XSD, RDF, SDO\n",
    "from rdflib import Graph\n",
    "import validators"
   ],
   "metadata": {
    "collapsed": false,
    "pycharm": {
     "name": "#%%\n"
    }
   }
  },
  {
   "cell_type": "markdown",
   "source": [
    "### Defining the prefix & vars"
   ],
   "metadata": {
    "collapsed": false,
    "pycharm": {
     "name": "#%% md\n"
    }
   }
  },
  {
   "cell_type": "code",
   "execution_count": null,
   "outputs": [],
   "source": [
    "ex = Namespace(\"http://example.com/\")\n",
    "wd = Namespace(\"https://www.wikidata.org/wiki/\")\n",
    "sch = Namespace(\"https://schema.org/\")\n",
    "db = Namespace(\"https://www.dbpedia.org/\")\n",
    "\n",
    "\n",
    "# CLASSES\n",
    "headmaster = wd['Q12059741']\n",
    "teachTo = ex['teachTo']\n",
    "gpa = wd['Q1541470']\n",
    "level = wd['Q1046315']\n",
    "\n",
    "person = db['Person']\n",
    "occupation = sch['Occupation']\n",
    "school = sch['School']\n",
    "student = db['Student']\n",
    "teacher = db['Teacher']\n",
    "schoolmate = wd['Q28008283']\n",
    "colleague = sch['colleague']\n",
    "gender = sch['gender']\n",
    "female = sch['Female']\n",
    "male = sch['Male']\n",
    "\n",
    "\n",
    "# school\n",
    "Hogwarts=ex['Hogwarts']\n",
    "Hogwarts_name = Literal(\"hogwarts\")\n",
    "\n",
    "# people\n",
    "Luna = ex['Luna']\n",
    "Luna_firstName = Literal(\"Luna\")\n",
    "Luna_age = Literal(16, datatype=XSD.integer)\n",
    "Luna_height = Literal(155, datatype=XSD.integer)\n",
    "Luna_dob = Literal(28-0o2-2006, datatype=XSD.date)\n",
    "Luna_gpa = Literal(8.5, datatype=XSD.integer)\n",
    "\n",
    "Draco = ex['Draco']\n",
    "Draco_firstName = Literal(\"Draco\")\n",
    "Draco_age = Literal(18, datatype=XSD.integer)\n",
    "Draco_height = Literal(170, datatype=XSD.integer)\n",
    "Draco_dob = Literal(1-0o5-2004, datatype=XSD.date)\n",
    "Draco_gpa = Literal(6.5, datatype=XSD.integer)\n",
    "\n",
    "Harry = ex['Harry']\n",
    "Harry_firstName = Literal(\"Harry\")\n",
    "Harry_age = Literal(19, datatype=XSD.integer)\n",
    "Harry_height = Literal(162, datatype=XSD.integer)\n",
    "Harry_dob = Literal(8-0o2-2003, datatype=XSD.date)\n",
    "Harry_gpa = Literal(7.5, datatype=XSD.integer)\n",
    "\n",
    "Ron = ex[\"Ron\"]\n",
    "Ron_firstName = Literal(\"Ron\")\n",
    "Ron_age = Literal(19, datatype=XSD.integer)\n",
    "Ron_height = Literal(180, datatype=XSD.integer)\n",
    "Ron_dob = Literal(8-0o2-2003, datatype=XSD.date)\n",
    "Ron_gpa = Literal(7, datatype=XSD.integer)\n",
    "\n",
    "\n",
    "Snape = ex[\"Snape\"]\n",
    "Snape_firstName = Literal(\"Snape\")\n",
    "Snape_age = Literal(50, datatype=XSD.integer)\n",
    "Snape_height = Literal(180, datatype=XSD.integer)\n",
    "Snape_dob = Literal(20-0o4-1972, datatype=XSD.date)\n",
    "Snape_level = Literal(2, datatype=XSD.integer)\n",
    "\n",
    "Mcgonagall = ex[\"Mcgonagall\"]\n",
    "Mcgonagall_firstName = Literal(\"Mcgonagall\")\n",
    "Mcgonagall_age = Literal(70, datatype=XSD.integer)\n",
    "Mcgonagall_height = Literal(1650, datatype=XSD.integer)\n",
    "Mcgonagall_dob = Literal(12-0o1-1952, datatype=XSD.date)\n",
    "Mcgonagall_level = Literal(1, datatype=XSD.integer)\n",
    "\n",
    "\n",
    "Dumbledore = ex[\"Dumbledore\"]\n",
    "Dumbledore_firstName = Literal(\"Dumbledore\")\n",
    "Dumbledore_age = Literal(120, datatype=XSD.integer)\n",
    "Dumbledore_height = Literal(150, datatype=XSD.integer)\n",
    "Dumbledore_dob = Literal(12-0o1-1902, datatype=XSD.date)\n",
    "Dumbledore_level = Literal(1, datatype=XSD.integer)\n",
    "\n"
   ],
   "metadata": {
    "collapsed": false,
    "pycharm": {
     "name": "#%%\n"
    }
   }
  },
  {
   "cell_type": "markdown",
   "source": [
    "## validating the URIs"
   ],
   "metadata": {
    "collapsed": false,
    "pycharm": {
     "name": "#%% md\n"
    }
   }
  },
  {
   "cell_type": "code",
   "execution_count": 113,
   "outputs": [],
   "source": [
    "validation = [school,teacher,person,female,male,headmaster,colleague,schoolmate,headmaster,Hogwarts,occupation,teachTo]\n",
    "for var in validation:\n",
    "    if not validators.url(school):\n",
    "        print(var)"
   ],
   "metadata": {
    "collapsed": false,
    "pycharm": {
     "name": "#%%\n"
    }
   }
  },
  {
   "cell_type": "markdown",
   "source": [
    "## Plotting the graph\n",
    "### Include only class and data property types(data property and individuals are not included).\n"
   ],
   "metadata": {
    "collapsed": false,
    "pycharm": {
     "name": "#%% md\n"
    }
   }
  },
  {
   "cell_type": "code",
   "execution_count": 109,
   "outputs": [
    {
     "name": "stdout",
     "output_type": "stream",
     "text": [
      "[a rdfg:Graph;rdflib:storage [a rdflib:Store;rdfs:label 'Memory']].\n"
     ]
    }
   ],
   "source": [
    "g = Graph()\n",
    "g.bind('wd',wd )\n",
    "g.bind('ex',ex )\n",
    "\n",
    "\n",
    "g.add((teacher,FOAF.member,school))\n",
    "g.add((headmaster,FOAF.member,school))\n",
    "g.add((student,FOAF.member,school))\n",
    "g.add((teacher,colleague,teacher))\n",
    "g.add((teacher,colleague,headmaster))\n",
    "g.add((student, schoolmate, student))\n",
    "g.add((teacher,teachTo,student))\n",
    "\n",
    "\n",
    "print(g.serialize('ttlForGraph.ttl',format='turtle'))"
   ],
   "metadata": {
    "collapsed": false,
    "pycharm": {
     "name": "#%%\n"
    }
   }
  },
  {
   "cell_type": "code",
   "execution_count": 110,
   "outputs": [
    {
     "data": {
      "text/plain": "<Graph identifier=N19302a18b1a245428362ee6e44a638db (<class 'rdflib.graph.Graph'>)>"
     },
     "execution_count": 110,
     "metadata": {},
     "output_type": "execute_result"
    }
   ],
   "source": [
    "g = Graph()\n",
    "g.bind('wd',wd )\n",
    "g.bind('ex',ex )\n",
    "\n",
    "\n",
    "g.add((Hogwarts, RDF.type, school))\n",
    "g.add((Hogwarts,FOAF.name,Hogwarts_name))\n",
    "\n",
    "# Harry\n",
    "g.add((Harry,FOAF.member,Hogwarts))\n",
    "g.add((Harry, RDF.type, person))\n",
    "g.add((Harry, FOAF.gender, male))\n",
    "g.add((Harry, occupation, student))\n",
    "g.add((Harry, FOAF.firstName, Harry_firstName))\n",
    "g.add((Harry, FOAF.age, Harry_age))\n",
    "g.add((Harry, SDO.height, Harry_height))\n",
    "g.add((Harry, SDO.birthDate, Harry_dob))\n",
    "g.add((Harry, gpa, Harry_gpa))\n",
    "g.add((Harry,schoolmate,Luna))\n",
    "g.add((Harry,schoolmate,Ron))\n",
    "\n",
    "\n",
    "# # Luna\n",
    "g.add((Luna,FOAF.member,Hogwarts))\n",
    "g.add((Luna, RDF.type, person))\n",
    "g.add((Luna, FOAF.gender, female))\n",
    "g.add((Luna, occupation, student))\n",
    "g.add((Luna, FOAF.firstName, Luna_firstName))\n",
    "g.add((Luna, FOAF.age, Luna_age))\n",
    "g.add((Luna, SDO.height, Luna_height))\n",
    "g.add((Luna, SDO.birthDate, Luna_dob))\n",
    "g.add((Luna, gpa, Luna_gpa))\n",
    "g.add((Luna,schoolmate,Harry))\n",
    "g.add((Luna,schoolmate,Ron))\n",
    "g.add((Luna,schoolmate,Draco))\n",
    "\n",
    "\n",
    "# Draco\n",
    "g.add((Draco,FOAF.member,Hogwarts))\n",
    "g.add((Draco, RDF.type, person))\n",
    "g.add((Draco, FOAF.gender, male))\n",
    "g.add((Draco, occupation, student))\n",
    "g.add((Draco, FOAF.firstName, Draco_firstName))\n",
    "g.add((Draco, FOAF.age, Draco_age))\n",
    "g.add((Draco, SDO.height, Draco_height))\n",
    "g.add((Draco, SDO.birthDate, Draco_dob))\n",
    "g.add((Draco, gpa, Draco_gpa))\n",
    "g.add((Draco,schoolmate,Luna))\n",
    "\n",
    "# Ron\n",
    "g.add((Ron,FOAF.member,Hogwarts))\n",
    "g.add((Ron, RDF.type, person))\n",
    "g.add((Ron, FOAF.gender, male))\n",
    "g.add((Ron, occupation, student))\n",
    "g.add((Ron, FOAF.firstName, Ron_firstName))\n",
    "g.add((Ron, FOAF.age, Ron_age))\n",
    "g.add((Ron, SDO.height, Ron_height))\n",
    "g.add((Ron, SDO.birthDate, Ron_dob))\n",
    "g.add((Ron, gpa, Ron_gpa))\n",
    "g.add((Ron,schoolmate,Luna))\n",
    "g.add((Ron,schoolmate,Harry))\n",
    "\n",
    "\n",
    "# Snape\n",
    "g.add((Snape,FOAF.member,Hogwarts))\n",
    "g.add((Snape, RDF.type, person))\n",
    "g.add((Snape, FOAF.gender, male))\n",
    "g.add((Snape, occupation, teacher))\n",
    "g.add((Snape, FOAF.firstName, Snape_firstName))\n",
    "g.add((Snape, FOAF.age, Snape_age))\n",
    "g.add((Snape, SDO.height, Snape_height))\n",
    "g.add((Snape, SDO.birthDate, Snape_dob))\n",
    "g.add((Snape, level,Snape_level ))\n",
    "g.add((Snape,SDO.teaches,Draco))\n",
    "g.add((Snape,SDO.teaches,Harry))\n",
    "g.add((Dumbledore,colleague,Mcgonagall))\n",
    "g.add((Dumbledore,colleague,Dumbledore))\n",
    "\n",
    "# Mcgonagall\n",
    "g.add((Mcgonagall,FOAF.member,Hogwarts))\n",
    "g.add((Mcgonagall, RDF.type, person))\n",
    "g.add((Mcgonagall, FOAF.gender, female))\n",
    "g.add((Mcgonagall, occupation, teacher))\n",
    "g.add((Mcgonagall, FOAF.firstName, Mcgonagall_firstName))\n",
    "g.add((Mcgonagall, FOAF.age, Mcgonagall_age))\n",
    "g.add((Mcgonagall, SDO.height, Mcgonagall_height))\n",
    "g.add((Mcgonagall, SDO.birthDate, Mcgonagall_dob))\n",
    "g.add((Mcgonagall, level,Mcgonagall_level ))\n",
    "g.add((Mcgonagall,SDO.teaches,Ron))\n",
    "g.add((Mcgonagall,SDO.teaches,Luna))\n",
    "g.add((Mcgonagall,colleague,Snape))\n",
    "g.add((Mcgonagall,colleague,Dumbledore))\n",
    "\n",
    "# Dumbledore\n",
    "g.add((Dumbledore,FOAF.member,Hogwarts))\n",
    "g.add((Dumbledore, RDF.type, person))\n",
    "g.add((Dumbledore, FOAF.gender, male))\n",
    "g.add((Dumbledore, occupation, headmaster))\n",
    "g.add((Dumbledore, FOAF.firstName, Dumbledore_firstName))\n",
    "g.add((Dumbledore, FOAF.age, Dumbledore_age))\n",
    "g.add((Dumbledore, SDO.height, Dumbledore_height))\n",
    "g.add((Dumbledore, SDO.birthDate, Dumbledore_dob))\n",
    "g.add((Dumbledore, level,Dumbledore_level ))\n",
    "g.add((Dumbledore,SDO.teaches,Draco))\n",
    "g.add((Dumbledore,SDO.teaches,Harry))\n",
    "g.add((Dumbledore,SDO.teaches,Ron))\n",
    "g.add((Dumbledore,SDO.teaches,Luna))\n",
    "g.add((Dumbledore,colleague,Snape))\n",
    "g.add((Dumbledore,colleague,Mcgonagall))\n",
    "\n"
   ],
   "metadata": {
    "collapsed": false,
    "pycharm": {
     "name": "#%%\n"
    }
   }
  },
  {
   "cell_type": "code",
   "execution_count": 111,
   "outputs": [
    {
     "name": "stdout",
     "output_type": "stream",
     "text": [
      "[a rdfg:Graph;rdflib:storage [a rdflib:Store;rdfs:label 'Memory']].\n"
     ]
    }
   ],
   "source": [
    "print(g.serialize('MahshidGhaffari_i6255207D_ken3140_assignment1.ttl',format='turtle'))"
   ],
   "metadata": {
    "collapsed": false,
    "pycharm": {
     "name": "#%%\n"
    }
   }
  }
 ],
 "metadata": {
  "kernelspec": {
   "display_name": "Python 3 (ipykernel)",
   "language": "python",
   "name": "python3"
  },
  "language_info": {
   "codemirror_mode": {
    "name": "ipython",
    "version": 3
   },
   "file_extension": ".py",
   "mimetype": "text/x-python",
   "name": "python",
   "nbconvert_exporter": "python",
   "pygments_lexer": "ipython3",
   "version": "3.10.4"
  }
 },
 "nbformat": 4,
 "nbformat_minor": 5
}