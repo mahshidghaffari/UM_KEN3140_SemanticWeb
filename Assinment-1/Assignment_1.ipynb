{
 "cells": [
  {
   "cell_type": "markdown",
   "id": "612eee16",
   "metadata": {
    "pycharm": {
     "name": "#%% md\n"
    }
   },
   "source": [
    "# Assignment 1 - Semantic web\n",
    "\n",
    "## Mahshid ghaffari\n",
    "\n",
    "### School community"
   ]
  },
  {
   "cell_type": "code",
   "execution_count": 3,
   "id": "a94741a0",
   "metadata": {
    "pycharm": {
     "name": "#%%\n"
    }
   },
   "outputs": [
    {
     "name": "stdout",
     "output_type": "stream",
     "text": [
      "Defaulting to user installation because normal site-packages is not writeable\r\n",
      "Requirement already satisfied: rdflib in /home/mah/.local/lib/python3.10/site-packages (6.2.0)\r\n",
      "Requirement already satisfied: setuptools in /usr/lib/python3/dist-packages (from rdflib) (59.6.0)\r\n",
      "Requirement already satisfied: isodate in /home/mah/.local/lib/python3.10/site-packages (from rdflib) (0.6.1)\r\n",
      "Requirement already satisfied: pyparsing in /usr/lib/python3/dist-packages (from rdflib) (2.4.7)\r\n",
      "Requirement already satisfied: six in /usr/lib/python3/dist-packages (from isodate->rdflib) (1.16.0)\r\n",
      "Defaulting to user installation because normal site-packages is not writeable\r\n",
      "Requirement already satisfied: validators in /home/mah/.local/lib/python3.10/site-packages (0.20.0)\r\n",
      "Requirement already satisfied: decorator>=3.4.0 in /usr/lib/python3/dist-packages (from validators) (4.4.2)\r\n"
     ]
    }
   ],
   "source": [
    "!pip install rdflib\n",
    "!pip install validators"
   ]
  },
  {
   "cell_type": "markdown",
   "source": [
    "## import libraries"
   ],
   "metadata": {
    "collapsed": false,
    "pycharm": {
     "name": "#%% md\n"
    }
   }
  },
  {
   "cell_type": "code",
   "execution_count": 2,
   "outputs": [],
   "source": [
    "from rdflib import URIRef, BNode, Literal, Namespace\n",
    "from rdflib.namespace import FOAF, DCTERMS, XSD, RDF, SDO\n",
    "from rdflib import Graph\n",
    "import validators"
   ],
   "metadata": {
    "collapsed": false,
    "pycharm": {
     "name": "#%%\n"
    }
   }
  },
  {
   "cell_type": "markdown",
   "source": [
    "### Defining the prefix & vars"
   ],
   "metadata": {
    "collapsed": false,
    "pycharm": {
     "name": "#%% md\n"
    }
   }
  },
  {
   "cell_type": "code",
   "execution_count": 30,
   "outputs": [],
   "source": [
    "# rdf = Namespace(\"http://www.w3.org/1999/02/22-rdf-syntax-ns#\")\n",
    "# ex = Namespace(\"http://example.com/\")\n",
    "# rdfs = Namespace(\"http://www.w3.org/2000/01/rdf-schema#\")\n",
    "wd = Namespace(\"https://www.wikidata.org/wiki/\")\n",
    "# xsd = Namespace(\"http://www.w3.org/2001/XMLSchema#\")\n",
    "# pav = Namespace(\"http://purl.org/pav/\")\n",
    "# db = Namespace(\"http://dbpedia.org/ontology/\")\n",
    "\n",
    "\n",
    "\n",
    "# roles\n",
    "school = wd['Q3914'];\n",
    "student = wd['Q48282'];\n",
    "teacher = wd['Q37226'];\n",
    "parent = wd['Q7566'];\n",
    "employee = wd['Q703534'];\n",
    "person = wd ['Q215627'];\n",
    "female = wd['Q6581072'];\n",
    "male = wd['Q6581097'];\n",
    "headmaster = wd['Q12059741']\n",
    "caretaker = wd['Q2121683'];\n",
    "colleague = wd['Q18029574'];\n",
    "schoolmate = wd['Q28008283'];\n",
    "occupation = wd['Q12737077']\n",
    "\n",
    "# which one ?\n",
    "\n",
    "# people\n",
    "hogwarts=Literal('hogwarts')\n",
    "Neville = Literal(\"Neville\");\n",
    "Luna = Literal(\"Luna\");\n",
    "Draco = Literal(\"Draco\");\n",
    "Harry = Literal(\"Harry\");\n",
    "Ron = Literal(\"Ron\");\n",
    "Mcgonagall = Literal(\"Mcgonagall\");\n",
    "Molly = Literal(\"Molly\");\n",
    "Filch = Literal(\"Filch\");\n",
    "Lily = Literal('Lily');\n",
    "Lucius = Literal('Lucius');\n",
    "\n",
    "validation = [wd,school,teacher,parent,employee,person,female,male,headmaster,caretaker,colleague,schoolmate,headmaster,hogwarts,occupation];\n"
   ],
   "metadata": {
    "collapsed": false,
    "pycharm": {
     "name": "#%%\n"
    }
   }
  },
  {
   "cell_type": "code",
   "execution_count": 31,
   "outputs": [],
   "source": [
    "for var in validation:\n",
    "    if not validators.url(school):\n",
    "        print(var)"
   ],
   "metadata": {
    "collapsed": false,
    "pycharm": {
     "name": "#%%\n"
    }
   }
  },
  {
   "cell_type": "code",
   "execution_count": 43,
   "outputs": [
    {
     "name": "stdout",
     "output_type": "stream",
     "text": [
      "@prefix ns1: <http://xmlns.com/foaf/0.1/> .\n",
      "@prefix wd: <https://www.wikidata.org/wiki/> .\n",
      "\n",
      "\"Neville\" a wd:Q215627 ;\n",
      "    ns1:gender wd:Q6581097 ;\n",
      "    wd:Q12737077 wd:Q48282 .\n",
      "\n",
      "\"hogwarts\" a wd:Q3914 .\n",
      "\n",
      "\n"
     ]
    }
   ],
   "source": [
    "g = Graph();\n",
    "g.bind('wd',wd )\n",
    "g.add((hogwarts, RDF.type, school))\n",
    "# Nevile\n",
    "g.add((Neville, RDF.type, person))\n",
    "g.add((Neville, FOAF.name, Neville))\n",
    "g.add((Neville, FOAF.gender, male))\n",
    "g.add((Neville, occupation, student))\n",
    "# Harry\n",
    "g.add((Harry, RDF.type, person))\n",
    "g.add((Harry, FOAF.name, Harry))\n",
    "g.add((Harry, FOAF.gender, male))\n",
    "g.add((Harry, occupation, student))\n",
    "# Luna\n",
    "g.add((Luna, RDF.type, person))\n",
    "g.add((Luna, FOAF.name, Luna))\n",
    "g.add((Luna, FOAF.gender, female))\n",
    "g.add((Luna, occupation, student))\n",
    "# Draco\n",
    "g.add((Draco, RDF.type, person))\n",
    "g.add((Draco, FOAF.name, Draco))\n",
    "g.add((Draco, FOAF.gender, male))\n",
    "g.add((Draco, occupation, student))\n",
    "# Mcgonagall\n",
    "g.add((Mcgonagall, RDF.type, person))\n",
    "g.add((Mcgonagall, FOAF.name, Mcgonagall))\n",
    "g.add((Mcgonagall, FOAF.gender, female))\n",
    "g.add((Mcgonagall, occupation, teacher))\n",
    "# Molly\n",
    "g.add((Molly, RDF.type, person))\n",
    "g.add((Molly, FOAF.name, Molly))\n",
    "g.add((Molly, FOAF.gender, female))\n",
    "g.add((Mcgonagall, occupation, parent))\n",
    "\n"
   ],
   "metadata": {
    "collapsed": false,
    "pycharm": {
     "name": "#%%\n"
    }
   }
  },
  {
   "cell_type": "code",
   "execution_count": null,
   "outputs": [],
   "source": [],
   "metadata": {
    "collapsed": false,
    "pycharm": {
     "name": "#%%\n"
    }
   }
  }
 ],
 "metadata": {
  "kernelspec": {
   "display_name": "Python 3 (ipykernel)",
   "language": "python",
   "name": "python3"
  },
  "language_info": {
   "codemirror_mode": {
    "name": "ipython",
    "version": 3
   },
   "file_extension": ".py",
   "mimetype": "text/x-python",
   "name": "python",
   "nbconvert_exporter": "python",
   "pygments_lexer": "ipython3",
   "version": "3.10.4"
  }
 },
 "nbformat": 4,
 "nbformat_minor": 5
}