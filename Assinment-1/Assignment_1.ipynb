{
 "cells": [
  {
   "cell_type": "markdown",
   "id": "612eee16",
   "metadata": {
    "pycharm": {
     "name": "#%% md\n"
    }
   },
   "source": [
    "# Assignment 1 - Semantic web\n",
    "\n",
    "## Mahshid ghaffari\n",
    "\n",
    "### School community"
   ]
  },
  {
   "cell_type": "code",
   "execution_count": 10,
   "id": "a94741a0",
   "metadata": {
    "pycharm": {
     "name": "#%%\n"
    }
   },
   "outputs": [
    {
     "name": "stdout",
     "output_type": "stream",
     "text": [
      "Requirement already satisfied: rdflib in /home/mah/year3/semanticWeb/git/UM_KEN3140_SemanticWeb/venv/lib/python3.10/site-packages (6.2.0)\r\n",
      "Requirement already satisfied: pyparsing in /home/mah/year3/semanticWeb/git/UM_KEN3140_SemanticWeb/venv/lib/python3.10/site-packages (from rdflib) (3.0.9)\r\n",
      "Requirement already satisfied: setuptools in /home/mah/year3/semanticWeb/git/UM_KEN3140_SemanticWeb/venv/lib/python3.10/site-packages (from rdflib) (60.2.0)\r\n",
      "Requirement already satisfied: isodate in /home/mah/year3/semanticWeb/git/UM_KEN3140_SemanticWeb/venv/lib/python3.10/site-packages (from rdflib) (0.6.1)\r\n",
      "Requirement already satisfied: six in /home/mah/year3/semanticWeb/git/UM_KEN3140_SemanticWeb/venv/lib/python3.10/site-packages (from isodate->rdflib) (1.16.0)\r\n",
      "\u001B[33mWARNING: You are using pip version 21.3.1; however, version 22.2.2 is available.\r\n",
      "You should consider upgrading via the '/home/mah/year3/semanticWeb/git/UM_KEN3140_SemanticWeb/venv/bin/python -m pip install --upgrade pip' command.\u001B[0m\r\n",
      "Collecting validators\r\n",
      "  Downloading validators-0.20.0.tar.gz (30 kB)\r\n",
      "  Preparing metadata (setup.py) ... \u001B[?25ldone\r\n",
      "\u001B[?25hRequirement already satisfied: decorator>=3.4.0 in /home/mah/year3/semanticWeb/git/UM_KEN3140_SemanticWeb/venv/lib/python3.10/site-packages (from validators) (5.1.1)\r\n",
      "Building wheels for collected packages: validators\r\n",
      "  Building wheel for validators (setup.py) ... \u001B[?25ldone\r\n",
      "\u001B[?25h  Created wheel for validators: filename=validators-0.20.0-py3-none-any.whl size=19582 sha256=1e382385f5241778fdac901174f623f3ec450c0cb4393998c4568b1a7afe582f\r\n",
      "  Stored in directory: /home/mah/.cache/pip/wheels/f2/ed/dd/d3a556ad245ef9dc570c6bcd2f22886d17b0b408dd3bbb9ac3\r\n",
      "Successfully built validators\r\n",
      "Installing collected packages: validators\r\n",
      "Successfully installed validators-0.20.0\r\n",
      "\u001B[33mWARNING: You are using pip version 21.3.1; however, version 22.2.2 is available.\r\n",
      "You should consider upgrading via the '/home/mah/year3/semanticWeb/git/UM_KEN3140_SemanticWeb/venv/bin/python -m pip install --upgrade pip' command.\u001B[0m\r\n"
     ]
    }
   ],
   "source": [
    "!pip install rdflib\n",
    "!pip install validators"
   ]
  },
  {
   "cell_type": "markdown",
   "source": [
    "## import libraries"
   ],
   "metadata": {
    "collapsed": false,
    "pycharm": {
     "name": "#%% md\n"
    }
   }
  },
  {
   "cell_type": "code",
   "execution_count": 12,
   "outputs": [],
   "source": [
    "from rdflib import URIRef, BNode, Literal, Namespace\n",
    "from rdflib.namespace import FOAF, DCTERMS, XSD, RDF, SDO\n",
    "from rdflib import Graph\n",
    "import validators"
   ],
   "metadata": {
    "collapsed": false,
    "pycharm": {
     "name": "#%%\n"
    }
   }
  },
  {
   "cell_type": "markdown",
   "source": [
    "### Defining the prefix & vars"
   ],
   "metadata": {
    "collapsed": false,
    "pycharm": {
     "name": "#%% md\n"
    }
   }
  },
  {
   "cell_type": "code",
   "execution_count": 30,
   "outputs": [],
   "source": [
    "# rdf = Namespace(\"http://www.w3.org/1999/02/22-rdf-syntax-ns#\")\n",
    "# ex = Namespace(\"http://example.com/\")\n",
    "# rdfs = Namespace(\"http://www.w3.org/2000/01/rdf-schema#\")\n",
    "wd = Namespace(\"https://www.wikidata.org/wiki/\")\n",
    "# xsd = Namespace(\"http://www.w3.org/2001/XMLSchema#\")\n",
    "# pav = Namespace(\"http://purl.org/pav/\")\n",
    "# db = Namespace(\"http://dbpedia.org/ontology/\")\n",
    "\n",
    "\n",
    "\n",
    "# roles\n",
    "school = wd['Q3914'];\n",
    "student = wd['Q48282'];\n",
    "teacher = wd['Q37226'];\n",
    "parent = wd['Q7566'];\n",
    "employee = wd['Q703534'];\n",
    "person = wd ['Q215627'];\n",
    "female = wd['Q6581072'];\n",
    "male = wd['Q6581097'];\n",
    "headmaster = wd['Q12059741']\n",
    "caretaker = wd['Q2121683'];\n",
    "colleague = wd['Q18029574'];\n",
    "schoolmate = wd['Q28008283'];\n",
    "occupation = wd['Q12737077']\n",
    "\n",
    "# which one ?\n",
    "\n",
    "# people\n",
    "hogwarts=Literal('hogwarts')\n",
    "Neville = Literal(\"Neville\");\n",
    "Luna = Literal(\"Luna\");\n",
    "Draco = Literal(\"Draco\");\n",
    "harry = Literal(\"Harry\");\n",
    "Ron = Literal(\"Ron\");\n",
    "Mcgonagall = Literal(\"Mcgonagall\");\n",
    "Molly = Literal(\"Molly\");\n",
    "Filch = Literal(\"Filch\");\n",
    "Lily = Literal('Lily');\n",
    "Lucius = Literal('Lucius');\n",
    "\n",
    "validation = [wd,school,teacher,parent,employee,person,female,male,headmaster,caretaker,colleague,schoolmate,headmaster,hogwarts,occupation];\n"
   ],
   "metadata": {
    "collapsed": false,
    "pycharm": {
     "name": "#%%\n"
    }
   }
  },
  {
   "cell_type": "code",
   "execution_count": 31,
   "outputs": [],
   "source": [
    "for var in validation:\n",
    "    if not validators.url(school):\n",
    "        print(var)"
   ],
   "metadata": {
    "collapsed": false,
    "pycharm": {
     "name": "#%%\n"
    }
   }
  },
  {
   "cell_type": "code",
   "execution_count": 43,
   "outputs": [
    {
     "name": "stdout",
     "output_type": "stream",
     "text": [
      "@prefix ns1: <http://xmlns.com/foaf/0.1/> .\n",
      "@prefix wd: <https://www.wikidata.org/wiki/> .\n",
      "\n",
      "\"Neville\" a wd:Q215627 ;\n",
      "    ns1:gender wd:Q6581097 ;\n",
      "    wd:Q12737077 wd:Q48282 .\n",
      "\n",
      "\"hogwarts\" a wd:Q3914 .\n",
      "\n",
      "\n"
     ]
    }
   ],
   "source": [
    "g = Graph();\n",
    "g.bind('wd',wd )\n",
    "g.add((hogwarts, RDF.type, school))\n",
    "g.add((Neville, RDF.type, person))\n",
    "g.add((Neville, FOAF.name, Neville))\n",
    "g.add((Neville, FOAF.gender, male))\n",
    "g.add((Neville, occupation, student))\n",
    "print(g.serialize(format='ttl'))\n"
   ],
   "metadata": {
    "collapsed": false,
    "pycharm": {
     "name": "#%%\n"
    }
   }
  },
  {
   "cell_type": "code",
   "execution_count": null,
   "outputs": [],
   "source": [],
   "metadata": {
    "collapsed": false,
    "pycharm": {
     "name": "#%%\n"
    }
   }
  }
 ],
 "metadata": {
  "kernelspec": {
   "display_name": "Python 3 (ipykernel)",
   "language": "python",
   "name": "python3"
  },
  "language_info": {
   "codemirror_mode": {
    "name": "ipython",
    "version": 3
   },
   "file_extension": ".py",
   "mimetype": "text/x-python",
   "name": "python",
   "nbconvert_exporter": "python",
   "pygments_lexer": "ipython3",
   "version": "3.10.4"
  }
 },
 "nbformat": 4,
 "nbformat_minor": 5
}