{
 "cells": [
  {
   "cell_type": "markdown",
   "metadata": {
    "id": "UDeikpHwyZzP",
    "pycharm": {
     "name": "#%% md\n"
    }
   },
   "source": [
    " KEN 3140: Lab 2 (RDF basics)\n",
    "\n",
    "**In this lab we are going to:**\n",
    "\n",
    "- Create RDF triples with rdflib\n",
    "- Save these files into various RDF serialisation syntaxes\n",
    "- Verify the validity of a given list of IRIs\n",
    "\n",
    "**Creating RDF triples**\n",
    "\n",
    "RDF allows us to make statements about resources. A statement has the following structure:\n",
    "# `<subject> <predicate> <object>`.\n",
    "\n",
    "An RDF statement expresses a relationship between two resources. The subject and the object represent the two resources being related; the predicate represents the nature of their relationship. The relationship is phrased in a directional way (from subject to object) and is called in RDF a property. Because RDF statements consist of three elements they are called triples."
   ]
  },
  {
   "cell_type": "code",
   "execution_count": 18,
   "metadata": {
    "colab": {
     "base_uri": "https://localhost:8080/"
    },
    "id": "4AMD49H9lYw2",
    "outputId": "58eeebc9-eb9f-444e-c72d-ac7363704a4c",
    "pycharm": {
     "name": "#%%\n"
    }
   },
   "outputs": [
    {
     "name": "stdout",
     "output_type": "stream",
     "text": [
      "Requirement already satisfied: rdflib in /home/mah/year3/semanticWeb/git/UM_KEN3140_SemanticWeb/venv/lib/python3.10/site-packages (6.2.0)\r\n",
      "Requirement already satisfied: pyparsing in /home/mah/year3/semanticWeb/git/UM_KEN3140_SemanticWeb/venv/lib/python3.10/site-packages (from rdflib) (3.0.9)\r\n",
      "Requirement already satisfied: setuptools in /home/mah/year3/semanticWeb/git/UM_KEN3140_SemanticWeb/venv/lib/python3.10/site-packages (from rdflib) (60.2.0)\r\n",
      "Requirement already satisfied: isodate in /home/mah/year3/semanticWeb/git/UM_KEN3140_SemanticWeb/venv/lib/python3.10/site-packages (from rdflib) (0.6.1)\r\n",
      "Requirement already satisfied: six in /home/mah/year3/semanticWeb/git/UM_KEN3140_SemanticWeb/venv/lib/python3.10/site-packages (from isodate->rdflib) (1.16.0)\r\n",
      "\u001B[33mWARNING: You are using pip version 21.3.1; however, version 22.2.2 is available.\r\n",
      "You should consider upgrading via the '/home/mah/year3/semanticWeb/git/UM_KEN3140_SemanticWeb/venv/bin/python -m pip install --upgrade pip' command.\u001B[0m\r\n"
     ]
    }
   ],
   "source": [
    "!pip install rdflib"
   ]
  },
  {
   "cell_type": "markdown",
   "metadata": {
    "id": "403cvmM5AeaT",
    "pycharm": {
     "name": "#%% md\n"
    }
   },
   "source": [
    "z## Creating Nodes\n",
    "\n",
    "The subjects and objects of the triples make up the nodes in the graph where the nodes are URI references, Blank Nodes or Literals. In RDFLib, these node types are represented by the classes **URIRef**, **BNode**, **Literal**. *URIRefs* and *Bnodes* can both be thought of as resources, such a person, a company, a website, etc.\n",
    "- A *BNode* is a node where the exact URI is not known.\n",
    "- A *URIRef* is a node where the exact URI is know. *URIRefs* are also used to represent the properties/predicates in the RDF graph.\n",
    "- *Literals* represent attribute values, such as a name, a date, a number, etc. The most common literal values are XML data types, e.g. string, int.\n"
   ]
  },
  {
   "cell_type": "code",
   "execution_count": 19,
   "metadata": {
    "pycharm": {
     "name": "#%%\n"
    }
   },
   "outputs": [],
   "source": [
    "from rdflib import URIRef, BNode, Literal, Namespace\n",
    "from rdflib.namespace import FOAF, DCTERMS, XSD, RDF, SDO\n",
    "\n",
    "#URIRef\n",
    "remzi= URIRef('http://maastrichtuniversity.nl/Remzi')\n",
    "\n",
    "#URI= Namespace + identifier\n",
    "\n",
    "#URI for entity Remzi: http://maastrichtuniversity.nl/Remzi\n",
    "UM = Namespace('http://maastrichtuniversity.nl/')\n",
    "\n",
    "#URI for entity computerScientist: http://maastrichtuniversity.nl/computerScientist\n",
    "remzi = UM['Remzi']\n",
    "\n",
    "person = URIRef('https://schema.org/Person')\n",
    "\n",
    "\n"
   ]
  },
  {
   "cell_type": "markdown",
   "metadata": {
    "pycharm": {
     "name": "#%% md\n"
    }
   },
   "source": [
    "\n",
    "Task: Create entities for mona_lisa, Leonardo davinci, has occupation and computer scientist."
   ]
  },
  {
   "cell_type": "code",
   "execution_count": 22,
   "metadata": {
    "pycharm": {
     "name": "#%%\n"
    }
   },
   "outputs": [],
   "source": [
    "mona_lisa = URIRef('https://www.wikidata.org/wiki/Q12418')\n",
    "leonardo_davinci = URIRef('https://www.wikidata.org/wiki/Q762')\n",
    "occupation = URIRef('https://www.wikidata.org/wiki/Q12737077')\n",
    "computer_scientist = URIRef('https://www.wikidata.org/wiki/Q82594')"
   ]
  },
  {
   "cell_type": "code",
   "execution_count": 23,
   "metadata": {
    "id": "yeYK9FFTHe8O",
    "pycharm": {
     "name": "#%%\n"
    }
   },
   "outputs": [],
   "source": [
    "name = Literal(\"Nicholas\")  # the name 'Nicholas', as a string\n",
    "\n",
    "age = Literal(39, datatype=XSD.integer)  # the number 39, as an integer\n",
    "\n",
    "bn = BNode()\n"
   ]
  },
  {
   "cell_type": "code",
   "execution_count": 24,
   "metadata": {
    "id": "tC1iLOCkHnyS",
    "pycharm": {
     "name": "#%%\n"
    }
   },
   "outputs": [],
   "source": [
    "from rdflib import Graph\n",
    "\n",
    "#initialise an empty RDF graph\n",
    "g = Graph()\n"
   ]
  },
  {
   "cell_type": "markdown",
   "metadata": {
    "pycharm": {
     "name": "#%% md\n"
    }
   },
   "source": [
    "**Example:**\n",
    "\n",
    "create a triple with rdflib for this sentence: Remzi is computer scientist."
   ]
  },
  {
   "cell_type": "code",
   "execution_count": 25,
   "metadata": {
    "colab": {
     "base_uri": "https://localhost:8080/"
    },
    "id": "GO408uGcuhFX",
    "outputId": "dd3745d7-0779-45b7-ed60-95f2f1ae5481",
    "pycharm": {
     "name": "#%%\n"
    }
   },
   "outputs": [
    {
     "data": {
      "text/plain": "<Graph identifier=N572596b114ea4ee198c952d846612a62 (<class 'rdflib.graph.Graph'>)>"
     },
     "execution_count": 25,
     "metadata": {},
     "output_type": "execute_result"
    }
   ],
   "source": [
    "# Bind prefix to namespace\n",
    "g.bind('um', UM)\n",
    "g.add((remzi, RDF.type, person))\n",
    "g.add((remzi, occupation, computer_scientist))\n",
    "g.add((remzi, FOAF.firstName, Literal('Remzi')))\n",
    "g.add((remzi, FOAF.lastName, Literal('Celebi')))"
   ]
  },
  {
   "cell_type": "code",
   "execution_count": 26,
   "metadata": {
    "colab": {
     "base_uri": "https://localhost:8080/"
    },
    "id": "QT9iENftKa5v",
    "outputId": "db658e59-5154-4eba-b03b-e2ef0fd7fe3f",
    "pycharm": {
     "name": "#%%\n"
    }
   },
   "outputs": [
    {
     "name": "stdout",
     "output_type": "stream",
     "text": [
      "@prefix ns1: <http://xmlns.com/foaf/0.1/> .\n",
      "@prefix ns2: <https://www.wikidata.org/wiki/> .\n",
      "@prefix um: <http://maastrichtuniversity.nl/> .\n",
      "\n",
      "um:Remzi a <https://schema.org/Person> ;\n",
      "    ns1:firstName \"Remzi\" ;\n",
      "    ns1:lastName \"Celebi\" ;\n",
      "    ns2:Q12737077 ns2:Q82594 .\n",
      "\n",
      "\n"
     ]
    }
   ],
   "source": [
    "print(g.serialize(format='ttl'))"
   ]
  },
  {
   "cell_type": "code",
   "execution_count": 27,
   "metadata": {
    "colab": {
     "base_uri": "https://localhost:8080/"
    },
    "id": "qJMS3_fpvmWE",
    "outputId": "68c54822-1747-44f4-ad97-fb4eb075d93c",
    "pycharm": {
     "name": "#%%\n"
    }
   },
   "outputs": [
    {
     "name": "stdout",
     "output_type": "stream",
     "text": [
      "Entities in this graph:\n",
      "-----------------------\n",
      "Remzi entity: http://maastrichtuniversity.nl/Remzi\n",
      "Computer Scientist entity: https://www.wikidata.org/wiki/Q82594\n",
      "----------------------\n",
      "Triples in this graph:\n",
      "----------------------\n",
      "http://maastrichtuniversity.nl/Remzi http://xmlns.com/foaf/0.1/firstName Remzi\n",
      "http://maastrichtuniversity.nl/Remzi http://xmlns.com/foaf/0.1/lastName Celebi\n",
      "http://maastrichtuniversity.nl/Remzi https://www.wikidata.org/wiki/Q12737077 https://www.wikidata.org/wiki/Q82594\n",
      "http://maastrichtuniversity.nl/Remzi http://www.w3.org/1999/02/22-rdf-syntax-ns#type https://schema.org/Person\n",
      "----------------------\n",
      "(rdflib.term.URIRef('http://maastrichtuniversity.nl/Remzi'), rdflib.term.URIRef('http://xmlns.com/foaf/0.1/firstName'), rdflib.term.Literal('Remzi'))\n",
      "(rdflib.term.URIRef('http://maastrichtuniversity.nl/Remzi'), rdflib.term.URIRef('http://xmlns.com/foaf/0.1/lastName'), rdflib.term.Literal('Celebi'))\n",
      "(rdflib.term.URIRef('http://maastrichtuniversity.nl/Remzi'), rdflib.term.URIRef('https://www.wikidata.org/wiki/Q12737077'), rdflib.term.URIRef('https://www.wikidata.org/wiki/Q82594'))\n",
      "(rdflib.term.URIRef('http://maastrichtuniversity.nl/Remzi'), rdflib.term.URIRef('http://www.w3.org/1999/02/22-rdf-syntax-ns#type'), rdflib.term.URIRef('https://schema.org/Person'))\n"
     ]
    }
   ],
   "source": [
    "print (\"Entities in this graph:\");\n",
    "print (\"-----------------------\");\n",
    "\n",
    "# Print the entities in our graph\n",
    "print (\"Remzi entity: \" + str(remzi));\n",
    "print (\"Computer Scientist entity: \" + str(computer_scientist));\n",
    "\n",
    "print (\"----------------------\");\n",
    "\n",
    "print (\"Triples in this graph:\");\n",
    "print (\"----------------------\");\n",
    "\n",
    "for (s, p, o) in g:\n",
    "  print (s, p, o)\n",
    "  \n",
    "print (\"----------------------\");\n",
    "for triples in g:\n",
    "  print(triples)"
   ]
  },
  {
   "cell_type": "code",
   "execution_count": 28,
   "metadata": {
    "colab": {
     "base_uri": "https://localhost:8080/"
    },
    "id": "Pw1nwUjMoAid",
    "outputId": "79e93f6a-b7e2-47ef-c362-efd755b7064b",
    "pycharm": {
     "name": "#%%\n"
    }
   },
   "outputs": [
    {
     "name": "stdout",
     "output_type": "stream",
     "text": [
      "[a rdfg:Graph;rdflib:storage [a rdflib:Store;rdfs:label 'Memory']].\n"
     ]
    }
   ],
   "source": [
    "print(g.serialize('KEN3140_Lab2_example.rdf',format='xml'))"
   ]
  },
  {
   "cell_type": "code",
   "execution_count": 29,
   "metadata": {
    "colab": {
     "base_uri": "https://localhost:8080/"
    },
    "id": "GpC8gknpw5T6",
    "outputId": "303e070f-5472-45f8-eedb-fc876a5a8c71",
    "pycharm": {
     "name": "#%%\n"
    }
   },
   "outputs": [
    {
     "name": "stdout",
     "output_type": "stream",
     "text": [
      "[a rdfg:Graph;rdflib:storage [a rdflib:Store;rdfs:label 'Memory']].\n"
     ]
    }
   ],
   "source": [
    "print(g.serialize('KEN3140_Lab2_example.ttl',format='turtle'))"
   ]
  },
  {
   "cell_type": "code",
   "execution_count": 30,
   "metadata": {
    "colab": {
     "base_uri": "https://localhost:8080/"
    },
    "id": "ABSY8ErExklu",
    "outputId": "2f3bb634-f841-480d-9ac0-3cdc79983b18",
    "pycharm": {
     "name": "#%%\n"
    }
   },
   "outputs": [
    {
     "name": "stdout",
     "output_type": "stream",
     "text": [
      "[a rdfg:Graph;rdflib:storage [a rdflib:Store;rdfs:label 'Memory']].\n"
     ]
    }
   ],
   "source": [
    "print(g.serialize('KEN3140_Lab2_example.nt',format='ntriples'))"
   ]
  },
  {
   "cell_type": "markdown",
   "metadata": {
    "pycharm": {
     "name": "#%% md\n"
    }
   },
   "source": [
    "To load a graph with rdflib:"
   ]
  },
  {
   "cell_type": "code",
   "execution_count": 12,
   "metadata": {
    "pycharm": {
     "name": "#%%\n"
    }
   },
   "outputs": [
    {
     "name": "stdout",
     "output_type": "stream",
     "text": [
      "http://dbpedia.org/resource/Semantic_Web http://www.w3.org/2002/07/owl#sameAs http://cs.dbpedia.org/resource/Sémantický_web\n",
      "http://dbpedia.org/resource/Semantic_Web http://dbpedia.org/ontology/wikiPageWikiLink http://dbpedia.org/resource/Library_science\n",
      "http://dbpedia.org/resource/Semantic_Web http://dbpedia.org/ontology/wikiPageExternalLink https://www.wikidata.org/entity/Q1731\n",
      "http://dbpedia.org/resource/Semantic_Web http://dbpedia.org/ontology/wikiPageWikiLink http://dbpedia.org/resource/Semantic_Sensor_Web\n",
      "http://dbpedia.org/resource/Semantic_Web http://dbpedia.org/ontology/abstract The Semantic Web, sometimes known as Web 3.0, is an extension of the World Wide Web through standards set by the World Wide Web Consortium (W3C). The goal of the Semantic Web is to make Internet data machine-readable. To enable the encoding of semantics with the data, technologies such as Resource Description Framework (RDF) and Web Ontology Language (OWL) are used. These technologies are used to formally represent metadata. For example, ontology can describe concepts, relationships between entities, and categories of things. These embedded semantics offer significant advantages such as reasoning over data and operating with heterogeneous data sources. These standards promote common data formats and exchange protocols on the Web, fundamentally the RDF. According to the W3C, \"The Semantic Web provides a common framework that allows data to be shared and reused across application, enterprise, and community boundaries.\" The Semantic Web is therefore regarded as an integrator across different content and information applications and systems. The term was coined by Tim Berners-Lee for a web of data (or data web) that can be processed by machines—that is, one in which much of the meaning is machine-readable. While its critics have questioned its feasibility, proponents argue that applications in library and information science, industry, biology and human sciences research have already proven the validity of the original concept. Berners-Lee originally expressed his vision of the Semantic Web in 1999 as follows: I have a dream for the Web [in which computers] become capable of analyzing all the data on the Web – the content, links, and transactions between people and computers. A \"Semantic Web\", which makes this possible, has yet to emerge, but when it does, the day-to-day mechanisms of trade, bureaucracy and our daily lives will be handled by machines talking to machines. The \"intelligent agents\" people have touted for ages will finally materialize. The 2001 Scientific American article by Berners-Lee, Hendler, and Lassila described an expected evolution of the existing Web to a Semantic Web. In 2006, Berners-Lee and colleagues stated that: \"This simple idea…remains largely unrealized\".In 2013, more than four million Web domains (out of roughly 250 million total) contained Semantic Web markup.\n",
      "http://dbpedia.org/resource/Semantic_Web http://www.w3.org/2000/01/rdf-schema#comment Das Semantic Web erweitert das Web, um Daten zwischen Rechnern einfacher austauschbar und für sie einfacher verwertbar zu machen; so kann beispielsweise das Wort „Bremen“ in einem Webdokument um die Information ergänzt werden, ob hier der Begriff des Schiffs-, Familien- oder Stadtnamens gemeint ist. Diese zusätzlichen Informationen explizieren die sonst nur unstrukturiert vorkommenden Daten. Zur Realisierung dienen Standards zur Veröffentlichung und Nutzung maschinenlesbarer Daten (insbesondere RDF).Während Menschen solche Informationen aus dem gegebenen Kontext schließen können (aus dem Gesamttext, über die Art der Publikation oder der Rubrik in selbiger, Bilder etc.) und derartige Verknüpfungen unbewusst aufbauen, muss Maschinen dieser Kontext erst beigebracht werden; hierzu werden die I\n",
      "http://dbpedia.org/resource/Semantic_Web http://www.w3.org/2000/01/rdf-schema#label Web semantico\n",
      "http://dbpedia.org/resource/Semantic_Web http://dbpedia.org/ontology/wikiPageWikiLink http://dbpedia.org/resource/File:Semantic_web_stack.svg\n",
      "http://dbpedia.org/resource/Semantic_Web http://dbpedia.org/ontology/wikiPageWikiLink http://dbpedia.org/resource/Semantic_HTML\n",
      "http://dbpedia.org/resource/Semantic_Web http://dbpedia.org/ontology/wikiPageWikiLink http://dbpedia.org/resource/Our_Research\n",
      "http://dbpedia.org/resource/Semantic_Web http://dbpedia.org/ontology/abstract El Web semàntic és un projecte que té com a objectiu crear un medi universal per a l'intercanvi d'informació significativa (semàntica), d'una forma comprensible per a les màquines, del contingut dels documents de la Web. Amb això es pretén ampliar la interoperabilitat dels sistemes informàtics i reduir la mediació dels operadors humans en els processos intel·ligents de flux d'informació. El pare de la idea, Tim Berners-Lee, creador del Web i fundador del W3C, proposa que la Web semàntica serveixi per a ampliar la capacitat de la World Wide Web mitjançant els , els llenguatges d'etiquetatge i altres eines de processament relacionades.\n",
      "http://dbpedia.org/resource/Semantic_Web http://dbpedia.org/ontology/wikiPageWikiLink http://dbpedia.org/resource/Distributed_artificial_intelligence\n",
      "http://dbpedia.org/resource/Semantic_Web http://dbpedia.org/ontology/wikiPageWikiLink http://dbpedia.org/resource/Tim_O'Reilly\n",
      "http://dbpedia.org/resource/Semantic_Web http://dbpedia.org/ontology/wikiPageWikiLink http://dbpedia.org/resource/Simple_Knowledge_Organization_System\n",
      "http://dbpedia.org/resource/Semantic_Web http://dbpedia.org/ontology/wikiPageWikiLink http://dbpedia.org/resource/Semantic_network\n",
      "http://dbpedia.org/resource/Semantic_Web http://www.w3.org/2002/07/owl#sameAs http://id.dbpedia.org/resource/Web_semantik\n",
      "http://dbpedia.org/resource/Semantic_Web http://www.w3.org/2002/07/owl#sameAs http://sr.dbpedia.org/resource/Семантички_веб\n",
      "http://dbpedia.org/resource/Semantic_Web http://dbpedia.org/ontology/wikiPageWikiLink http://dbpedia.org/resource/Category:Knowledge_engineering\n",
      "http://dbpedia.org/resource/Semantic_Web http://dbpedia.org/ontology/abstract Das Semantic Web erweitert das Web, um Daten zwischen Rechnern einfacher austauschbar und für sie einfacher verwertbar zu machen; so kann beispielsweise das Wort „Bremen“ in einem Webdokument um die Information ergänzt werden, ob hier der Begriff des Schiffs-, Familien- oder Stadtnamens gemeint ist. Diese zusätzlichen Informationen explizieren die sonst nur unstrukturiert vorkommenden Daten. Zur Realisierung dienen Standards zur Veröffentlichung und Nutzung maschinenlesbarer Daten (insbesondere RDF).Während Menschen solche Informationen aus dem gegebenen Kontext schließen können (aus dem Gesamttext, über die Art der Publikation oder der Rubrik in selbiger, Bilder etc.) und derartige Verknüpfungen unbewusst aufbauen, muss Maschinen dieser Kontext erst beigebracht werden; hierzu werden die Inhalte mit weiterführenden Informationen verknüpft. Das Semantic Web beschreibt dazu konzeptionell einen „Giant Global Graph“ (engl. ‚gigantischer globaler Graph‘). Dabei werden sämtliche Dinge von Interesse identifiziert und mit einer eindeutigen Adresse versehen als Knoten angelegt, die wiederum durch Kanten (ebenfalls jeweils eindeutig benannt) miteinander verbunden sind. Einzelne Dokumente im Web beschreiben dann eine Reihe von Kanten, und die Gesamtheit all dieser Kanten entspricht dem globalen Graphen.\n",
      "http://dbpedia.org/resource/Semantic_Web http://purl.org/dc/terms/subject http://dbpedia.org/resource/Category:Emerging_technologies\n",
      "http://dbpedia.org/resource/Semantic_Web http://dbpedia.org/ontology/wikiPageExternalLink https://schema.org/Person\n",
      "http://dbpedia.org/resource/Semantic_Web http://www.w3.org/2000/01/rdf-schema#comment Sémantický web se má stát novým evolučním stupněm stávajícího webu. Jedná se o web, kde jsou informace strukturovány a uloženy podle standardizovaných pravidel, což usnadňuje jejich vyhledání a zpracování. Staví zejména na Resource Description Framework (RDF) a (OWL). Na specifikacích pro sémantický web pracuje World Wide Web Consortium (W3C).\n",
      "http://dbpedia.org/resource/Semantic_Web http://www.w3.org/2002/07/owl#sameAs http://eu.dbpedia.org/resource/Web_semantiko\n",
      "http://dbpedia.org/resource/Semantic_Web http://dbpedia.org/ontology/wikiPageWikiLink http://dbpedia.org/resource/Giant_Global_Graph\n",
      "http://dbpedia.org/resource/Semantic_Web http://www.w3.org/2002/07/owl#sameAs http://bg.dbpedia.org/resource/Семантична_мрежа\n",
      "http://dbpedia.org/resource/Semantic_Web http://dbpedia.org/ontology/wikiPageWikiLink http://dbpedia.org/resource/N-Triples\n",
      "http://dbpedia.org/resource/Semantic_Web http://dbpedia.org/property/q no\n",
      "http://dbpedia.org/resource/Semantic_Web http://dbpedia.org/ontology/wikiPageWikiLink http://dbpedia.org/resource/SPARQL\n",
      "http://dbpedia.org/resource/Semantic_Web http://www.w3.org/2000/01/rdf-schema#label Semantika Reto\n",
      "http://dbpedia.org/resource/Semantic_Web http://dbpedia.org/ontology/wikiPageWikiLink http://dbpedia.org/resource/Nextbio\n",
      "http://dbpedia.org/resource/Semantic_Web http://dbpedia.org/ontology/wikiPageWikiLink http://dbpedia.org/resource/Elizabeth_Loftus\n",
      "http://dbpedia.org/resource/Semantic_Web http://dbpedia.org/ontology/wikiPageWikiLink http://dbpedia.org/resource/Inference\n",
      "http://dbpedia.org/resource/Semantic_Web http://www.w3.org/1999/02/22-rdf-syntax-ns#type http://dbpedia.org/class/yago/YagoPermanentlyLocatedEntity\n",
      "http://dbpedia.org/resource/Semantic_Web http://www.w3.org/1999/02/22-rdf-syntax-ns#type http://dbpedia.org/class/yago/Property104916342\n",
      "http://dbpedia.org/resource/Semantic_Web http://dbpedia.org/ontology/wikiPageWikiLink http://dbpedia.org/resource/Hyperlink\n",
      "http://dbpedia.org/resource/Semantic_Web http://www.w3.org/2000/01/rdf-schema#comment The Semantic Web, sometimes known as Web 3.0, is an extension of the World Wide Web through standards set by the World Wide Web Consortium (W3C). The goal of the Semantic Web is to make Internet data machine-readable. Berners-Lee originally expressed his vision of the Semantic Web in 1999 as follows:\n",
      "http://dbpedia.org/resource/Semantic_Web http://dbpedia.org/ontology/abstract Ο Σημασιολογικός Ιστός (Web 3.0 ή Semantic Web στα αγγλικά) είναι μια επέκταση του σημερινού Ιστού, που θα φέρει δομή στο ουσιαστικό περιεχόμενο των ιστοσελίδων. Η λογική πίσω από αυτό είναι ότι η δημοσιευμένη πληροφορία θα περιέχει μεταδεδομένα, τα οποία θα είναι κοινά για όλους, θα μπορούν να «κατανοούνται» και από μηχανές, οι οποίες θα βοηθήσουν στην καλύτερη συλλογή και επεξεργασία τους. Ο Σημασιολογικός Ιστός βασίζεται σε τεχνολογίες που ήδη υπάρχουν (URI και XML) αλλά και σε νέες τεχνολογίες (RDF, RDFS, OWL, κα.), οι οποίες αναπτύσσονται με την βοήθεια της κοινότητας. Δεδομένου ότι ο νέος Ιστός σκοπεύει να είναι μια μεγάλη βάση όπου δεδομένα από διαφορετικά πεδία θα συνδέονται μεταξύ τους, αναμένεται να παίξει μεγάλο ρόλο στη ζωή μας. Μερικά από τα πεδία στα οποία αναμένεται να έχει την μεγαλύτερη επίδραση είναι στην υγεία, στην παιδεία και στις επιχειρήσεις. Υπάρχουν ήδη πολλές προσπάθειες από εταιρίες, ερευνητές και μη κερδοσκοπικές οργανώσεις για να παραγάγουν πρότυπα οντολογιών, κυρίως για τα παραπάνω πεδία, για να υπάρχουν κοινές γλώσσες και περισσότερα δεδομένα τα οποία να μπορούν να συνδυαστούν για καλύτερα αποτελέσματα. Στην υγεία, γίνεται προσπάθεια για τη δημιουργία ενοποιημένων γλωσσών ιατρικής ορολογίας και υπηρεσίες που θα βοηθάνε το ιατρικό προσωπικό και θα κατευθύνουν τους καταναλωτές σε αξιόπιστες πληροφορίες υγείας σχετικά με την κατάστασή τους. Στην εκπαίδευση, ο Σημασιολογικός Ιστός θα συμβάλει σημαντικά στην μάθηση κυρίως στον τρόπο αναζήτησης πληροφοριών, στην οργάνωση των αποτελεσμάτων και στη δημιουργία ενός προγράμματος μάθησης ειδικό για το καθένα. Στον επιχειρηματικό τομέα, θα υπάρχει καλύτερη οργάνωση των εταιριών, καλύτερες εμπειρίες για τους χρήστες στις διαδικτυακές αγορές και καλύτερος συντονισμός μεταξύ διαφορετικών εταιριών. Στην καθημερινότητά θα υπάρχουν επιδράσεις του Web 3.0 στα κοινωνικά δίκτυα και εικονικές κοινότητες. Θα υπάρχουν εφαρμογές, οι οποίες θα δίνουν περισσότερες, πιο έμπιστες, πληροφορίες και θα διευκολύνουν σημαντικά τις διαδικτυακές δραστηριότητες.\n",
      "http://dbpedia.org/resource/Semantic_Web http://www.w3.org/2000/01/rdf-schema#comment Web semantikoa (semantic web) World Wide Web Consortiumen muinean garatutako jarduera multzo bat da, aplikazio informatikoek datu irakurgarriak argitaratzeko teknologia bermatzen duena. World Wide Webari metadatu ontologiko eta semantikoak gehitzeko ideian oinarritzen da. Helburua interneta hobetzea da sistema informatikoen elkargarritasuna handituz, eragile adimenduak erabiliz. Eragile adimenduak informazioa era automatikoan eta gizakien laguntzarik gabe bilatzen duten programa informatikoak dira.\n",
      "http://dbpedia.org/resource/Semantic_Web http://xmlns.com/foaf/0.1/isPrimaryTopicOf http://en.wikipedia.org/wiki/Semantic_Web\n",
      "http://dbpedia.org/resource/Semantic_Web http://www.w3.org/1999/02/22-rdf-syntax-ns#type http://dbpedia.org/ontology/MusicGenre\n",
      "http://dbpedia.org/resource/Semantic_Web http://dbpedia.org/property/wikiPageUsesTemplate http://dbpedia.org/resource/Template:Code\n",
      "http://dbpedia.org/resource/Semantic_Web http://www.w3.org/2000/01/rdf-schema#label Semantic Web\n",
      "http://dbpedia.org/resource/Semantic_Web http://dbpedia.org/property/wikiPageUsesTemplate http://dbpedia.org/resource/Template:Scholia\n",
      "http://dbpedia.org/resource/Semantic_Web http://dbpedia.org/ontology/wikiPageWikiLink http://dbpedia.org/resource/Semantic_Web_Rule_Language\n",
      "http://dbpedia.org/resource/Semantic_Web http://purl.org/dc/terms/subject http://dbpedia.org/resource/Category:Semantic_Web\n",
      "http://dbpedia.org/resource/Semantic_Web http://dbpedia.org/ontology/wikiPageWikiLink http://dbpedia.org/resource/Credibility\n",
      "http://dbpedia.org/resource/Semantic_Web http://dbpedia.org/ontology/wikiPageWikiLink http://dbpedia.org/resource/Paraconsistent_logic\n",
      "http://dbpedia.org/resource/Semantic_Web http://dbpedia.org/ontology/wikiPageWikiLink http://dbpedia.org/resource/Web_Ontology_Language\n",
      "http://dbpedia.org/resource/Semantic_Web http://dbpedia.org/ontology/wikiPageWikiLink http://dbpedia.org/resource/Amazon_(company)\n",
      "http://dbpedia.org/resource/Semantic_Web http://dbpedia.org/ontology/abstract Sémantický web se má stát novým evolučním stupněm stávajícího webu. Jedná se o web, kde jsou informace strukturovány a uloženy podle standardizovaných pravidel, což usnadňuje jejich vyhledání a zpracování. Staví zejména na Resource Description Framework (RDF) a (OWL). Na specifikacích pro sémantický web pracuje World Wide Web Consortium (W3C). Myšlenku sémantického, neboli významového webu poprvé vyslovil Tim Berners-Lee v roce 2001, kdy upozornil na skutečnost, že současný web je pouze změť webových stránek, která neustále roste a ve které je stále složitější nalézt relevantní informace. Sémantický web je podle něj rozšířením současného webu, v němž informace mají přidělen dobře definovaný význam lépe umožňující počítačům a lidem spolupracovat. Sémantický web představuje reprezentaci dat na WWW. Je založen na technologii Resource Description Framework (RDF), která integruje širokou škálu aplikací využívajících syntaktický zápis v XML a identifikátory URI pro pojmenovávání. Znamená to tedy, že data prezentovaná na Internetu by měla mít přesně definovaný význam a dovolovat do značné míry automatizované (strojové) zpracování, které by se mělo realizovat pomocí softwarových agentů. Základním krokem k vytvoření sémantického webu je konceptualizace dat dostupných na Internetu, jejíž klíčovým nástrojem jsou ontologie, aneb formalizované reprezentace znalostí určené k jejich sdílení a znovupoužití. Sémantický web je dále založen na standardizovaném popisu webových zdrojů (vše, dosažitelné pomocí WWW, tedy textové dokumenty, obrázky, videosekvence, zvukové soubory apod.). Každý zdroj by byl vybaven stejnými charakteristikami údaji (autor, typ zdroje, klíčová slova atd.), což by umožnilo uživatelům Internetu pracovat se sítí WWW jako s relační databází a dotazovat se na její obsah prostřednictvím jazyků podobných SQL. Důraz by se kladl na vysokou přesnost a relevanci odpovědi na vyhledávací dotaz. Technologickým základem sémantického webu by se měl stát standard RDF (Resource Description Framework) - obecný rámec pro popis, výměnu a znovupoužití metadat. Poskytuje jednoduchý model pro popis zdrojů, který není závislý na konkrétní implementaci. Datový model RDF umožní specifikovat trojice (zdroj, vlastnost, hodnota vlastnosti). Tímto se jedná mimo jiné o přiřazení sémantiky webovým zdrojům, což je pro sémantický web klíčové. Sémantický web propaguje Tim Berners-Lee již řadu let, přesto se dosud nedočkal výrazného rozmachu, pravděpodobně protože je oproti stávajícímu webu příliš komplikovaný. Proto vznikají jednodušší způsoby, jak do stávajícího webu snadno přidat sémantickou informaci: Mikroformáty a RDFa.\n",
      "http://dbpedia.org/resource/Semantic_Web http://dbpedia.org/ontology/wikiPageWikiLink http://dbpedia.org/resource/Ontology_alignment\n",
      "http://dbpedia.org/resource/Semantic_Web http://dbpedia.org/ontology/wikiPageWikiLink http://dbpedia.org/resource/CSS\n",
      "http://dbpedia.org/resource/Semantic_Web http://dbpedia.org/property/wikiPageUsesTemplate http://dbpedia.org/resource/Template:Quote\n",
      "http://dbpedia.org/resource/Semantic_Web http://dbpedia.org/ontology/wikiPageWikiLink http://dbpedia.org/resource/Category:Internet_ages\n",
      "http://dbpedia.org/resource/Semantic_Web http://dbpedia.org/ontology/abstract Semantic Web (sieci semantyczne) – projekt, który ma przyczynić się do utworzenia i rozpowszechnienia standardów opisywania treści w Internecie w sposób, który umożliwi maszynom i programom (np. tzw. agentom) przetwarzanie informacji w sposób odpowiedni do ich znaczenia. Wśród standardów sieci semantycznych znajdują się m.in. OWL, RDF, RDF Schema (inaczej RDFS). Znaczenia zasobów informacyjnych określa się za pomocą tzw. ontologii. Sieć semantyczna jest wizją Tima Bernersa-Lee (twórcy standardu WWW i pierwszej przeglądarki internetowej, a także przewodniczącego W3C). W swoich założeniach sieć semantyczna ma korzystać z istniejącego protokołu komunikacyjnego, na którym bazuje dzisiejszy Internet. Różnica miałaby polegać na tym, że przesyłane dane mogłyby być 'rozumiane' także przez maszyny. Owo 'rozumienie' polegałoby na tym, że dane przekazywane byłyby w postaci, w której można by powiązać ich znaczenia między sobą, a także w ramach odpowiedniego kontekstu. Informacje przekazywane w ramach sieci semantycznej wymagałyby nie tylko samych danych, ale także informacji o tychże (tzw. meta-danych). To właśnie meta-dane zawierałyby sformułowania dotyczące relacji między danymi oraz prawa logiki, które można do nich zastosować. Dzięki temu można by: \n",
      "* powiązać różne dane znajdujące się w Internecie w ramach wspólnych jednostek znaczeniowych (np. strony dotyczące filmów, dziedzin nauki, kuchni francuskiej, etc.) \n",
      "* rozróżnić dane, które dla maszyn są w tej chwili nierozróżnialne ze względu na identyczny zapis tekstowy (np. zamek - urządzenie do zamykania drzwi; urządzenie do łączenia w ustalonym położeniu elementów ubrania; okazała budowla mieszkalno-obronna) \n",
      "* przeprowadzać na tychże danych wnioskowania, tzn. otrzymywać informacje na ich temat, które nie są zawarte (np. na podstawie danej \"Ewa jest żoną Adama\", możemy też dowiedzieć się, że Ewa jest kobietą, Adam mężczyzną, Adam jest mężem Ewy, żaden inny mężczyzna nie jest mężem Ewy, etc.)\n",
      "http://dbpedia.org/resource/Semantic_Web http://www.w3.org/2000/01/rdf-schema#label Semantic Web\n",
      "http://dbpedia.org/resource/Semantic_Web http://www.w3.org/2000/01/rdf-schema#label Web semantiko\n",
      "http://dbpedia.org/resource/Semantic_Web http://dbpedia.org/ontology/wikiPageWikiLink http://dbpedia.org/resource/Ontology_learning\n",
      "http://dbpedia.org/resource/Semantic_Web http://dbpedia.org/ontology/abstract A Web semântica é uma extensão da World Wide Web que permite aos computadores e humanos trabalharem em cooperação. Ela interliga significados de palavras e, neste âmbito, tem como finalidade conseguir atribuir um significado (sentido) aos conteúdos publicados na Internet de modo que seja compreensível tanto pelo humano como pelo computador. A ideia da Web semântica surgiu em 2001, quando Tim Berners-Lee, James Hendler e Ora Lassila publicaram um artigo na revista Scientific American, intitulado: “Web Semântica: um novo formato de conteúdo para a Web que tem significado para computadores vai iniciar uma revolução de novas possibilidades” (The Semantic Web - A new form of Web content that is meaningful to computers will unleash a revolution of new possibilities). A web semântica é a relação de interatividade do homem e o computador, onde um depende do outro para a conclusão de tarefas, assim ocorrendo a acepção de entendimento do comando estipulado do ser humano à interface operacional da máquina, dando um significado de ordem a ser executada. Sendo desta forma uma espécie de escrita de entendimento tanto para o computador e para usuário, por meio de organização das informações contidas na máquina, através do seu perfil de suas últimas pesquisas realizadas, originando um repositório de dados ligados, como se fosse um verbete de enciclopédia. Podemos fazer uma ligação da web semântica com a Ciência da Informação, pelo fato de possuir a ideia estrutural de arranjo sistêmico, agrupando um conjunto de coleta de análise, classificação, armazenamento, disseminação e recuperação de informação como se fosse uma enciclopédia. Esta ligação, entre a Ciência da Informação e a Web Semântica, pode ser encontrada no projeto da Rede Universal de Documentação de Paul Otlet, que assenta nos mesmos ideais. O objetivo principal da web semântica não é treinar as máquinas para que se comportem como pessoas, mas sim desenvolver tecnologias e linguagens que tornem a informação legível para as máquinas. A finalidade passa pelo desenvolvimento de um modelo tecnológico que permita a partilha global de conhecimento assistido por máquinas. A integração das linguagens ou tecnologias eXtensible Markup Language (XML), Resource Description Framework (RDF), arquiteturas de metadados, ontologias, agentes computacionais, entre outras, favorecerá o aparecimento de serviços Web que garantam a interoperabilidade e cooperação. Ultimamente, tem-se associado a Web semântica à Web 3.0, como um próximo movimento da internet depois da Web 2.0 (também chamada de web social) que já inicia seu crescimento.\n",
      "http://dbpedia.org/resource/Semantic_Web http://dbpedia.org/property/wikiPageUsesTemplate http://dbpedia.org/resource/Template:Tag\n",
      "http://dbpedia.org/resource/Semantic_Web http://dbpedia.org/ontology/wikiPageWikiLink http://dbpedia.org/resource/Search_engine\n",
      "http://dbpedia.org/resource/Semantic_Web http://www.w3.org/2002/07/owl#sameAs http://uk.dbpedia.org/resource/Семантична_павутина\n",
      "http://dbpedia.org/resource/Semantic_Web http://dbpedia.org/ontology/wikiPageWikiLink http://dbpedia.org/resource/SNOMED_CT\n",
      "http://dbpedia.org/resource/Semantic_Web http://dbpedia.org/ontology/wikiPageWikiLink http://dbpedia.org/resource/Knowledge_Navigator\n",
      "http://dbpedia.org/resource/Semantic_Web http://dbpedia.org/ontology/wikiPageWikiLink http://dbpedia.org/resource/Smart-M3\n",
      "http://dbpedia.org/resource/Semantic_Web http://dbpedia.org/ontology/wikiPageWikiLink http://dbpedia.org/resource/Semantic_integration\n",
      "http://dbpedia.org/resource/Semantic_Web http://dbpedia.org/property/wikiPageUsesTemplate http://dbpedia.org/resource/Template:Short_description\n",
      "http://dbpedia.org/resource/Semantic_Web http://www.w3.org/2000/01/rdf-schema#label Web semántica\n",
      "http://dbpedia.org/resource/Semantic_Web http://dbpedia.org/ontology/wikiPageWikiLink http://dbpedia.org/resource/Calais_(Reuters_product)\n",
      "http://dbpedia.org/resource/Semantic_Web http://dbpedia.org/ontology/wikiPageWikiLink http://dbpedia.org/resource/Fuzzy_logic\n",
      "http://dbpedia.org/resource/Semantic_Web http://dbpedia.org/ontology/abstract Le Web sémantique, ou toile sémantique, est une extension du Web standardisée par le World Wide Web Consortium (W3C). Ces standards encouragent l'utilisation de formats de données et de protocoles d'échange normés sur le Web, en s'appuyant sur le modèle Resource Description Framework (RDF). Le Web sémantique est par certains qualifié de Web 3.0. Selon le W3C, « le Web sémantique fournit un modèle qui permet aux données d'être partagées et réutilisées entre plusieurs applications, entreprises et groupes d'utilisateurs ». L'expression a été inventée par Tim Berners-Lee (inventeur du Web et directeur du W3C), qui supervise le développement des technologies communes du Web sémantique. Il le définit comme « une toile de données qui peuvent être traitées directement et indirectement par des machines pour aider leurs utilisateurs à créer de nouvelles connaissances ». Pour y parvenir, le Web sémantique met en œuvre le Web des données qui consiste à lier et structurer l'information sur Internet pour accéder simplement à la connaissance qu'elle contient déjà. Alors que ses détracteurs ont mis en doute sa faisabilité, ses promoteurs font valoir que les applications réalisées par les chercheurs dans l'industrie, la biologie et les sciences humaines et sociales ont déjà prouvé la validité de ce nouveau concept. L'article original de Tim Berners-Lee en 2001 dans le Scientific American a décrit une évolution attendue du Web existant vers un Web sémantique, mais cela n'a pas encore eu lieu. En 2006, Tim Berners-Lee et ses collègues ont déclaré : « Cette idée simple… reste largement inexploitée. »\n",
      "http://dbpedia.org/resource/Semantic_Web http://dbpedia.org/ontology/wikiPageWikiLink http://dbpedia.org/resource/Semantic_Geospatial_Web\n",
      "http://dbpedia.org/resource/Semantic_Web http://dbpedia.org/ontology/wikiPageWikiLink http://dbpedia.org/resource/Semantic_Web_Stack\n",
      "http://dbpedia.org/resource/Semantic_Web http://www.w3.org/2000/01/rdf-schema#comment Le Web sémantique, ou toile sémantique, est une extension du Web standardisée par le World Wide Web Consortium (W3C). Ces standards encouragent l'utilisation de formats de données et de protocoles d'échange normés sur le Web, en s'appuyant sur le modèle Resource Description Framework (RDF). Le Web sémantique est par certains qualifié de Web 3.0.\n",
      "http://dbpedia.org/resource/Semantic_Web http://dbpedia.org/ontology/wikiPageWikiLink http://dbpedia.org/resource/JSON-LD\n",
      "http://dbpedia.org/resource/Semantic_Web http://www.w3.org/1999/02/22-rdf-syntax-ns#type http://dbpedia.org/class/yago/WikicatInternetAges\n",
      "http://dbpedia.org/resource/Semantic_Web http://www.w3.org/2002/07/owl#sameAs http://eo.dbpedia.org/resource/Semantika_Reto\n",
      "http://dbpedia.org/resource/Semantic_Web http://dbpedia.org/ontology/wikiPageWikiLink http://dbpedia.org/resource/Relational_database\n",
      "http://dbpedia.org/resource/Semantic_Web http://dbpedia.org/ontology/wikiPageWikiLink http://dbpedia.org/resource/Trust_service_provider\n",
      "http://dbpedia.org/resource/Semantic_Web http://www.w3.org/2002/07/owl#sameAs http://ru.dbpedia.org/resource/Семантическая_паутина\n",
      "http://dbpedia.org/resource/Semantic_Web http://dbpedia.org/ontology/wikiPageWikiLink http://dbpedia.org/resource/Psychologist\n",
      "http://dbpedia.org/resource/Semantic_Web http://dbpedia.org/ontology/wikiPageWikiLink http://dbpedia.org/resource/Branches_of_science\n",
      "http://dbpedia.org/resource/Semantic_Web http://dbpedia.org/property/topics yes\n",
      "http://dbpedia.org/resource/Semantic_Web http://dbpedia.org/ontology/wikiPageWikiLink http://dbpedia.org/resource/Semantic_matching\n",
      "http://dbpedia.org/resource/Semantic_Web http://www.w3.org/1999/02/22-rdf-syntax-ns#type http://dbpedia.org/class/yago/WikicatWebServices\n",
      "http://dbpedia.org/resource/Semantic_Web http://dbpedia.org/ontology/wikiPageWikiLink http://dbpedia.org/resource/Semantic_computing\n",
      "http://dbpedia.org/resource/Semantic_Web http://dbpedia.org/property/v no\n",
      "http://dbpedia.org/resource/Semantic_Web http://www.w3.org/2002/07/owl#sameAs http://vi.dbpedia.org/resource/Mạng_ngữ_nghĩa\n",
      "http://dbpedia.org/resource/Semantic_Web http://dbpedia.org/property/wikiPageUsesTemplate http://dbpedia.org/resource/Template:R\n",
      "http://dbpedia.org/resource/Semantic_Web http://dbpedia.org/ontology/wikiPageWikiLink http://dbpedia.org/resource/RDFa\n",
      "http://dbpedia.org/resource/Semantic_Web http://dbpedia.org/ontology/wikiPageExternalLink https://schema.org/itemtype%3E\n",
      "http://dbpedia.org/resource/Semantic_Web http://dbpedia.org/ontology/wikiPageWikiLink http://dbpedia.org/resource/Free_University_of_Berlin\n",
      "http://dbpedia.org/resource/Semantic_Web http://dbpedia.org/property/wikiPageUsesTemplate http://dbpedia.org/resource/Template:Semantic_Web\n",
      "http://dbpedia.org/resource/Semantic_Web http://www.w3.org/2000/01/rdf-schema#comment Web Semantik (Web Bermakna) merujuk kepada teknik yang memungkinkan konten pada Web untuk dapat lebih dimengerti oleh komputer. Istilah Web Semantik itu sendiri dicetuskan oleh Tim Berners-Lee, penemu World Wide Web. Sekarang, prinsip Web Semantik disebut-sebut akan muncul pada Web 3.0, generasi ketiga dari World Wide Web. Bahkan, Web 3.0 itu sendiri sering disamakan dengan Web Semantik. Teknologi Web Semantik ini antara lain adalah RDF, OWL dan SPARQL.\n",
      "http://dbpedia.org/resource/Semantic_Web http://dbpedia.org/property/wikiPageUsesTemplate http://dbpedia.org/resource/Template:Clear\n",
      "http://dbpedia.org/resource/Semantic_Web http://dbpedia.org/ontology/wikiPageWikiLink http://dbpedia.org/resource/Intelligent_agent\n",
      "http://dbpedia.org/resource/Semantic_Web http://dbpedia.org/ontology/wikiPageWikiLink http://dbpedia.org/resource/Uniform_Resource_Identifier\n",
      "http://dbpedia.org/resource/Semantic_Web http://www.w3.org/2002/07/owl#sameAs http://az.dbpedia.org/resource/Semantik_veb\n",
      "http://dbpedia.org/resource/Semantic_Web http://dbpedia.org/ontology/wikiPageWikiLink http://dbpedia.org/resource/James_Hendler\n",
      "http://dbpedia.org/resource/Semantic_Web http://dbpedia.org/ontology/wikiPageWikiLink http://dbpedia.org/resource/Scientific_American\n",
      "http://dbpedia.org/resource/Semantic_Web http://dbpedia.org/ontology/wikiPageWikiLink http://dbpedia.org/resource/Cryptography\n",
      "http://dbpedia.org/resource/Semantic_Web http://dbpedia.org/ontology/wikiPageWikiLink http://dbpedia.org/resource/Semantic_triple\n",
      "http://dbpedia.org/resource/Semantic_Web http://dbpedia.org/ontology/wikiPageWikiLink http://dbpedia.org/resource/Tim_Berners-Lee\n",
      "http://dbpedia.org/resource/Semantic_Web http://dbpedia.org/property/wikiPageUsesTemplate http://dbpedia.org/resource/Template:About\n",
      "http://dbpedia.org/resource/Semantic_Web http://dbpedia.org/ontology/wikiPageWikiLink http://dbpedia.org/resource/Educational_technology\n",
      "http://dbpedia.org/resource/Semantic_Web http://dbpedia.org/property/wikiPageUsesTemplate http://dbpedia.org/resource/Template:Emerging_technologies\n",
      "http://dbpedia.org/resource/Semantic_Web http://purl.org/linguistics/gold/hypernym http://dbpedia.org/resource/Extension\n",
      "http://dbpedia.org/resource/Semantic_Web http://dbpedia.org/ontology/wikiPageWikiLink http://dbpedia.org/resource/Semantic_technology\n",
      "http://dbpedia.org/resource/Semantic_Web http://dbpedia.org/ontology/wikiPageExternalLink http://schema.org/Person%3E\n",
      "http://dbpedia.org/resource/Semantic_Web http://www.w3.org/2000/01/rdf-schema#comment 语义网（英语：Semantic Web）是由万维网联盟的蒂姆·伯纳斯-李（Tim Berners-Lee）在1998年提出的一个概念，它的核心是：通过给万维网上的文档（如: HTML文档）添加能够被计算机所理解的语义（元数据），从而使整个互联网成为一个通用的信息交换媒介。语义万维网通过使用标准、置标语言和相关的处理工具来扩展万维网的能力。不过语意网概念实际上是基于很多已有技术的，也依赖于后来和text-and-markup与知识表现的综合。 \"语义\"网是由比现今成熟的网际搜索工具更加行之有效的、更加广泛意义的并且自动聚集和搜集信息的文档组成的。其最基本的元素就是。\n",
      "http://dbpedia.org/resource/Semantic_Web http://dbpedia.org/ontology/wikiPageWikiLink http://dbpedia.org/resource/Linguistics\n",
      "http://dbpedia.org/resource/Semantic_Web http://www.w3.org/2002/07/owl#sameAs http://sk.dbpedia.org/resource/Sémantický_web\n",
      "http://dbpedia.org/resource/Semantic_Web http://dbpedia.org/ontology/wikiPageWikiLink http://dbpedia.org/resource/Frank_van_Harmelen\n",
      "http://dbpedia.org/resource/Semantic_Web http://dbpedia.org/ontology/abstract セマンティック・ウェブ（英: semantic web）は W3C のティム・バーナーズ＝リーによって提唱された、ウェブページの意味を扱うことを可能とする標準やツール群の開発によってワールド・ワイド・ウェブの利便性を向上させるプロジェクト。セマンティック・ウェブの目的はウェブページの閲覧という行為に、データの交換の側面に加えて意味の疎通を付け加えることにある。 現在のワールド・ワイド・ウェブ上のコンテンツは主にHTMLで記述されている。HTMLでは文書構造を伝えることは可能だが、個々の単語の意味をはじめとする詳細な意味を伝えることはできない。これに対し、セマンティック・ウェブはXMLによって記述した文書にRDFやOWLを用いてタグを付け加える。この、データの意味を記述したタグが文書の含む意味を形式化し、コンピュータによる自動的な情報の収集や分析へのアプローチが可能となると期待されている。オントロジーを扱う階層まではW3Cにより標準化されているが、それ以上の階層の開発は難しいため、実現と標準化には長期間掛かると予想されている。また、既存のWebサイトに対するメタデータ付与の作業が必要であるため、Web全域への普及に関しても長期間掛かると予想されている。 セマンティックウェブはXML、XML Schema、RDF、、OWLなどの標準およびツール群から構成されている。「OWL ウェブ・オントロジー言語概要」はセマンティックウェブにおけるこれら標準およびツール群の機能・関連について述べている。 近年では、Google検索のリッチスニペットなどの応用例が存在する。\n",
      "http://dbpedia.org/resource/Semantic_Web http://dbpedia.org/ontology/wikiPageWikiLink http://dbpedia.org/resource/Class_(computer_programming)\n",
      "http://dbpedia.org/resource/Semantic_Web http://www.w3.org/2002/07/owl#sameAs http://ta.dbpedia.org/resource/வலை_3.0\n",
      "http://dbpedia.org/resource/Semantic_Web http://dbpedia.org/ontology/wikiPageWikiLink http://dbpedia.org/resource/Business_semantics_management\n",
      "http://dbpedia.org/resource/Semantic_Web http://www.w3.org/2002/07/owl#sameAs http://lv.dbpedia.org/resource/Semantiskais_tīmeklis\n",
      "http://dbpedia.org/resource/Semantic_Web http://dbpedia.org/ontology/wikiPageID 29123\n",
      "http://dbpedia.org/resource/Semantic_Web http://dbpedia.org/ontology/wikiPageWikiLink http://dbpedia.org/resource/Entity–attribute–value_model\n",
      "http://dbpedia.org/resource/Semantic_Web http://dbpedia.org/ontology/wikiPageWikiLink http://dbpedia.org/resource/Tacit_knowledge\n",
      "http://dbpedia.org/resource/Semantic_Web http://dbpedia.org/ontology/wikiPageWikiLink http://dbpedia.org/resource/World_Wide_Web_Consortium\n",
      "http://dbpedia.org/resource/Semantic_Web http://www.w3.org/2000/01/rdf-schema#comment Семанти́ческая паути́на (от англ. semantic web) — общедоступная глобальная семантическая сеть, формируемая на базе Всемирной паутины путём стандартизации представления информации в виде, пригодном для машинной обработки.\n",
      "http://dbpedia.org/resource/Semantic_Web http://dbpedia.org/ontology/wikiPageWikiLink http://dbpedia.org/resource/Identifier\n",
      "http://dbpedia.org/resource/Semantic_Web http://www.w3.org/1999/02/22-rdf-syntax-ns#type http://www.w3.org/2002/07/owl#Thing\n",
      "http://dbpedia.org/resource/Semantic_Web http://dbpedia.org/property/wikiPageUsesTemplate http://dbpedia.org/resource/Template:Use_American_English\n",
      "http://dbpedia.org/resource/Semantic_Web http://dbpedia.org/ontology/wikiPageWikiLink http://dbpedia.org/resource/HTML_element\n",
      "http://dbpedia.org/resource/Semantic_Web http://dbpedia.org/ontology/wikiPageWikiLink http://dbpedia.org/resource/Information_science\n",
      "http://dbpedia.org/resource/Semantic_Web http://dbpedia.org/ontology/wikiPageWikiLink http://dbpedia.org/resource/Peter_Gärdenfors\n",
      "http://dbpedia.org/resource/Semantic_Web http://dbpedia.org/ontology/wikiPageExternalLink https://www.w3.org/1999/02/22-rdf-syntax-ns%23type%3E\n",
      "http://dbpedia.org/resource/Semantic_Web http://dbpedia.org/property/wikiPageUsesTemplate http://dbpedia.org/resource/Template:Cite_journal\n",
      "http://dbpedia.org/resource/Semantic_Web http://dbpedia.org/ontology/wikiPageWikiLink http://dbpedia.org/resource/Domain_knowledge\n",
      "http://dbpedia.org/resource/Semantic_Web http://dbpedia.org/ontology/wikiPageWikiLink http://dbpedia.org/resource/Data_model\n",
      "http://dbpedia.org/resource/Semantic_Web http://dbpedia.org/property/wikiPageUsesTemplate http://dbpedia.org/resource/Template:Sister_project_links\n",
      "http://dbpedia.org/resource/Semantic_Web http://www.w3.org/2000/01/rdf-schema#label 시맨틱 웹\n",
      "http://dbpedia.org/resource/Semantic_Web http://dbpedia.org/ontology/wikiPageWikiLink http://dbpedia.org/resource/Web_page\n",
      "http://dbpedia.org/resource/Semantic_Web http://dbpedia.org/ontology/wikiPageWikiLink http://dbpedia.org/resource/AGRIS\n",
      "http://dbpedia.org/resource/Semantic_Web http://dbpedia.org/ontology/wikiPageExternalLink https://schema.org/%22\n",
      "http://dbpedia.org/resource/Semantic_Web http://dbpedia.org/ontology/wikiPageWikiLink http://dbpedia.org/resource/Hyperdata\n",
      "http://dbpedia.org/resource/Semantic_Web http://dbpedia.org/ontology/abstract إن ورود المعلومات على الإنترنت يزداد بشكل كبير، فقد أصبح الإنترنت مكانًا للتعبير عن الأفكار، سرد القصص، إنشاء المدونات ومشاركة الفيديوهات والصور والملفات الصوتية وما إلى ذلك. وهو ما جعل كمّ المعلومات المتوفرة للفرد الواحد أكبر بكثير مما يُمكن له أن يستفيد منه. تعريض العقل البشري لهذا الكم الهائل من المعلومات من شأنه أن يتسبب فيما يُمكن أن نصفه بوصف \"الضياع في فضاء المعلومات\"، وذلك راجع إلى بقاء المعلومات المفيدة بعيدة المنال بسبب تراكم الكثير من المعلومات غير المفيدة وغير المرتبطة بالموضوع المراد البحث عنه من قبل المستخدم. لحسن الحظ، مثلما يزداد ورود المعلومات، تزداد مقدرات معالجة المعلومات اوتوماتيكياً، لذا يوجد إمكانيات كبيرة للاستفادة من مقدرات الأتمتة هذه بهدف استخراج المعلومات والخدمات من فيضان الويب والمرتبطة بالمستخدم، وتوصيلها إليه عن طريق واجهة مستخدم معيارية (Standardized User Interface). إن أهمية الحصول على المعلومات بهذه الطريقة التكيفية يزداد بازدياد كتلة المعلومات المتوفرة على الإنترنت. تعتبر شبكة الويب أغنى المصادر المعلوماتية بما تحويه من مستندات ومعلومات ومصادر منوعة يمكن الوصول إليها عن طريق محركات البحث التقليدية. غير أن تنظيم هذه المعلومات والمستندات بصورة تسهل عملية البحث فيها والوصول إليها، يعتبر أمراً غاية في الصعوبة. يضاف إلى ذلك، أنه في ظل التزايد المستمر في حجم المعلومات المنشورة في شبكة الويب أصبح من الصعوبة بمكان قيام محركات البحث بإيجاد المعلومات المناسبة. ومن هذه المشكلة ظهرت فكرة \"الويب ذات الدلالات والمعاني اللفظية\"، أو ما يطلق عليه بالإنجليزية مصطلح (Semantic Web)، والتي هي امتداد للويب الحالية ولكن تختلف عنها بأنها تتفهم مدلولات الألفاظ والمعاني البشرية.\n",
      "http://dbpedia.org/resource/Semantic_Web http://www.w3.org/2000/01/rdf-schema#label Web semântica\n",
      "http://dbpedia.org/resource/Semantic_Web http://dbpedia.org/ontology/wikiPageWikiLink http://dbpedia.org/resource/Semantic_social_network\n",
      "http://dbpedia.org/resource/Semantic_Web http://dbpedia.org/ontology/wikiPageWikiLink http://dbpedia.org/resource/Social_Semantic_Web\n",
      "http://dbpedia.org/resource/Semantic_Web http://www.w3.org/2002/07/owl#sameAs http://ur.dbpedia.org/resource/رابط_معنائی\n",
      "http://dbpedia.org/resource/Semantic_Web http://dbpedia.org/ontology/wikiPageWikiLink http://dbpedia.org/resource/Multi-agent_system\n",
      "http://dbpedia.org/resource/Semantic_Web http://www.w3.org/2000/01/rdf-schema#label Семантична павутина\n",
      "http://dbpedia.org/resource/Semantic_Web http://www.w3.org/2000/01/rdf-schema#label Semantic Web\n",
      "http://dbpedia.org/resource/Semantic_Web http://dbpedia.org/ontology/wikiPageWikiLink http://dbpedia.org/resource/FOAF_(ontology)\n",
      "http://dbpedia.org/resource/Semantic_Web http://dbpedia.org/property/n no\n",
      "http://dbpedia.org/resource/Semantic_Web http://dbpedia.org/ontology/wikiPageWikiLink http://dbpedia.org/resource/Reasoning_system\n",
      "http://dbpedia.org/resource/Semantic_Web http://www.w3.org/2002/07/owl#sameAs http://el.dbpedia.org/resource/Σημασιολογικός_Ιστός\n",
      "http://dbpedia.org/resource/Semantic_Web http://dbpedia.org/ontology/wikiPageWikiLink http://dbpedia.org/resource/Knowledge_engineering\n",
      "http://dbpedia.org/resource/Semantic_Web http://dbpedia.org/ontology/thumbnail http://commons.wikimedia.org/wiki/Special:FilePath/RDF_example.svg?width=300\n",
      "http://dbpedia.org/resource/Semantic_Web http://dbpedia.org/property/wikiPageUsesTemplate http://dbpedia.org/resource/Template:Computable_knowledge\n",
      "http://dbpedia.org/resource/Semantic_Web http://www.w3.org/2002/07/owl#sameAs http://rdf.freebase.com/ns/m.076k0\n",
      "http://dbpedia.org/resource/Semantic_Web http://dbpedia.org/property/wikiPageUsesTemplate http://dbpedia.org/resource/Template:Citation_needed\n",
      "http://dbpedia.org/resource/Semantic_Web http://dbpedia.org/ontology/wikiPageWikiLink http://dbpedia.org/resource/File_system\n",
      "http://dbpedia.org/resource/Semantic_Web http://dbpedia.org/ontology/wikiPageWikiLink http://dbpedia.org/resource/Usability\n",
      "http://dbpedia.org/resource/Semantic_Web http://dbpedia.org/ontology/wikiPageWikiLink http://dbpedia.org/resource/Italic_type\n",
      "http://dbpedia.org/resource/Semantic_Web http://dbpedia.org/ontology/wikiPageWikiLink http://dbpedia.org/resource/AltaVista\n",
      "http://dbpedia.org/resource/Semantic_Web http://www.w3.org/2002/07/owl#sameAs http://pt.dbpedia.org/resource/Web_semântica\n",
      "http://dbpedia.org/resource/Semantic_Web http://dbpedia.org/ontology/wikiPageWikiLink http://dbpedia.org/resource/Data_sharing\n",
      "http://dbpedia.org/resource/Semantic_Web http://dbpedia.org/ontology/wikiPageWikiLink http://dbpedia.org/resource/Concept\n",
      "http://dbpedia.org/resource/Semantic_Web http://www.w3.org/1999/02/22-rdf-syntax-ns#type http://dbpedia.org/class/yago/Event100029378\n",
      "http://dbpedia.org/resource/Semantic_Web http://dbpedia.org/ontology/wikiPageWikiLink http://dbpedia.org/resource/Semantic_heterogeneity\n",
      "http://dbpedia.org/resource/Semantic_Web http://dbpedia.org/ontology/wikiPageWikiLink http://dbpedia.org/resource/Ontology_(information_science)\n",
      "http://dbpedia.org/resource/Semantic_Web http://dbpedia.org/ontology/wikiPageWikiLink http://dbpedia.org/resource/Entity–relationship_model\n",
      "http://dbpedia.org/resource/Semantic_Web http://xmlns.com/foaf/0.1/depiction http://commons.wikimedia.org/wiki/Special:FilePath/RDF_example.svg\n",
      "http://dbpedia.org/resource/Semantic_Web http://www.w3.org/2002/07/owl#sameAs http://he.dbpedia.org/resource/רשת_סמנטית\n",
      "http://dbpedia.org/resource/Semantic_Web http://dbpedia.org/ontology/wikiPageExternalLink http://www.w3.org/2002/07/owl%23equivalentClass%3E\n",
      "http://dbpedia.org/resource/Semantic_Web http://www.w3.org/1999/02/22-rdf-syntax-ns#type http://dbpedia.org/ontology/Software\n",
      "http://dbpedia.org/resource/Semantic_Web http://dbpedia.org/ontology/wikiPageWikiLink http://dbpedia.org/resource/Category:Emerging_technologies\n",
      "http://dbpedia.org/resource/Semantic_Web http://www.w3.org/2002/07/owl#sameAs http://es.dbpedia.org/resource/Web_semántica\n",
      "http://dbpedia.org/resource/Semantic_Web http://dbpedia.org/ontology/wikiPageWikiLink http://dbpedia.org/resource/Embedded_RDF\n",
      "http://dbpedia.org/resource/Semantic_Web http://dbpedia.org/ontology/wikiPageWikiLink http://dbpedia.org/resource/Category:Web_services\n",
      "http://dbpedia.org/resource/Semantic_Web http://www.w3.org/2002/07/owl#sameAs http://ca.dbpedia.org/resource/Web_semàntic\n",
      "http://dbpedia.org/resource/Semantic_Web http://dbpedia.org/property/s no\n",
      "http://dbpedia.org/resource/Semantic_Web http://dbpedia.org/property/wikiPageUsesTemplate http://dbpedia.org/resource/Template:Cite_book\n",
      "http://dbpedia.org/resource/Semantic_Web http://dbpedia.org/ontology/wikiPageWikiLink http://dbpedia.org/resource/Scalable_Vector_Graphics\n",
      "http://dbpedia.org/resource/Semantic_Web http://dbpedia.org/ontology/wikiPageWikiLink http://dbpedia.org/resource/GRDDL\n",
      "http://dbpedia.org/resource/Semantic_Web http://www.w3.org/2002/07/owl#sameAs http://fi.dbpedia.org/resource/Semanttinen_Web\n",
      "http://dbpedia.org/resource/Semantic_Web http://www.w3.org/1999/02/22-rdf-syntax-ns#type http://dbpedia.org/class/yago/Act100030358\n",
      "http://dbpedia.org/resource/Semantic_Web http://dbpedia.org/ontology/wikiPageWikiLink http://dbpedia.org/resource/File:RDF_example_extended.svg\n",
      "http://dbpedia.org/resource/Semantic_Web http://www.w3.org/2002/07/owl#sameAs http://mk.dbpedia.org/resource/Семантичка_пајажина\n",
      "http://dbpedia.org/resource/Semantic_Web http://www.w3.org/1999/02/22-rdf-syntax-ns#type http://dbpedia.org/class/yago/Age104924103\n",
      "http://dbpedia.org/resource/Semantic_Web http://dbpedia.org/ontology/abstract La web semántica (del inglés semantic web) es un conjunto de actividades desarrolladas en el seno de World Wide Web Consortium con tendencia a la creación de tecnologías para publicar datos legibles por aplicaciones informáticas (máquinas en la terminología de la Web semántica).​ Se basa en la idea de añadir metadatos semánticos y ontológicos a la World Wide Web. Esas informaciones adicionales —que describen el contenido, el significado y la relación de los datos— se deben proporcionar de manera formal, para que así sea posible evaluarlas automáticamente por máquinas de procesamiento. El objetivo es mejorar Internet ampliando la interoperabilidad entre los sistemas informáticos usando \"agentes inteligentes\". Agentes inteligentes son programas en las computadoras que buscan información sin operadores humanos. El precursor de la idea, Tim Berners-Lee, intentó desde el principio incluir información semántica en su creación, la World Wide Web, pero por diferentes causas no fue posible.​ Por ese motivo introdujo el concepto de semántica con la intención de recuperar dicha omisión.\n",
      "http://dbpedia.org/resource/Semantic_Web http://dbpedia.org/ontology/wikiPageExternalLink https://www.wikidata.org/entity/Q1731%3E\n",
      "http://dbpedia.org/resource/Semantic_Web http://dbpedia.org/ontology/wikiPageWikiLink http://dbpedia.org/resource/Web_engineering\n",
      "http://dbpedia.org/resource/Semantic_Web http://dbpedia.org/ontology/wikiPageWikiLink http://dbpedia.org/resource/Category:Semantic_Web\n",
      "http://dbpedia.org/resource/Semantic_Web http://dbpedia.org/ontology/wikiPageWikiLink http://dbpedia.org/resource/RDF/XML\n",
      "http://dbpedia.org/resource/Semantic_Web http://dbpedia.org/ontology/wikiPageWikiLink http://dbpedia.org/resource/Semantic_web_service\n",
      "http://dbpedia.org/resource/Semantic_Web http://www.w3.org/2000/01/rdf-schema#label Семантическая паутина\n",
      "http://dbpedia.org/resource/Semantic_Web http://dbpedia.org/ontology/wikiPageWikiLink http://dbpedia.org/resource/Text_mining\n",
      "http://dbpedia.org/resource/Semantic_Web http://www.w3.org/2000/01/rdf-schema#label Sémantický web\n",
      "http://dbpedia.org/resource/Semantic_Web http://dbpedia.org/ontology/wikiPageWikiLink http://dbpedia.org/resource/Turtle_(syntax)\n",
      "http://dbpedia.org/resource/Semantic_Web http://dbpedia.org/ontology/wikiPageInterLanguageLink http://commons.dbpedia.org/resource/File:Aaron_Swartz_s_A_Programmable_Web_An_Unfinished_Work.pdf\n",
      "http://dbpedia.org/resource/Semantic_Web http://www.w3.org/1999/02/22-rdf-syntax-ns#type http://dbpedia.org/class/yago/Service100577525\n",
      "http://dbpedia.org/resource/Semantic_Web http://dbpedia.org/ontology/wikiPageWikiLink http://dbpedia.org/resource/List_of_emerging_technologies\n",
      "http://dbpedia.org/resource/Semantic_Web http://dbpedia.org/ontology/wikiPageWikiLink http://dbpedia.org/resource/Cory_Doctorow\n",
      "http://dbpedia.org/resource/Semantic_Web http://www.w3.org/2000/01/rdf-schema#comment Semantiska webben är ett begrepp myntat av World Wide Web Consortiums (W3C) chef Tim Berners-Lee, som också är skapare av världswebben (WWW). Begreppet beskriver metoder och teknik för att möjliggöra för maskiner att förstå innebörden eller \"semantiken\" i informationen på webben. Den ursprungliga visionen var att tillgången på maskinläsbara metadata skulle möjliggöra för automatiska agenter och annan programvara att ansluta till internet på ett mer intelligent sätt.\n",
      "http://dbpedia.org/resource/Semantic_Web http://dbpedia.org/ontology/wikiPageWikiLink http://dbpedia.org/resource/DBpedia\n",
      "http://dbpedia.org/resource/Semantic_Web http://dbpedia.org/ontology/wikiPageWikiLink http://dbpedia.org/resource/Knowledge_management\n",
      "http://dbpedia.org/resource/Semantic_Web http://www.w3.org/2002/07/owl#sameAs http://nl.dbpedia.org/resource/Semantisch_web\n",
      "http://dbpedia.org/resource/Semantic_Web http://dbpedia.org/ontology/wikiPageExternalLink http://schema.org/birthPlace\n",
      "http://dbpedia.org/resource/Semantic_Web http://www.w3.org/2002/07/owl#sameAs http://bn.dbpedia.org/resource/সেম্যান্টিক_ওয়েব\n",
      "http://dbpedia.org/resource/Semantic_Web http://www.w3.org/1999/02/22-rdf-syntax-ns#type http://dbpedia.org/class/yago/Activity100407535\n",
      "http://dbpedia.org/resource/Semantic_Web http://xmlns.com/foaf/0.1/depiction http://commons.wikimedia.org/wiki/Special:FilePath/RDF_example_extended.svg\n",
      "http://dbpedia.org/resource/Semantic_Web http://www.w3.org/2002/07/owl#sameAs http://it.dbpedia.org/resource/Web_semantico\n",
      "http://dbpedia.org/resource/Semantic_Web http://dbpedia.org/ontology/wikiPageWikiLink http://dbpedia.org/resource/Internet_of_things\n",
      "http://dbpedia.org/resource/Semantic_Web http://dbpedia.org/ontology/wikiPageWikiLink http://dbpedia.org/resource/Cognitive_science\n",
      "http://dbpedia.org/resource/Semantic_Web http://dbpedia.org/ontology/wikiPageWikiLink http://dbpedia.org/resource/Human_science\n",
      "http://dbpedia.org/resource/Semantic_Web http://dbpedia.org/ontology/wikiPageWikiLink http://dbpedia.org/resource/Semantically-Interlinked_Online_Communities\n",
      "http://dbpedia.org/resource/Semantic_Web http://www.w3.org/1999/02/22-rdf-syntax-ns#type http://dbpedia.org/class/yago/Abstraction100002137\n",
      "http://dbpedia.org/resource/Semantic_Web http://dbpedia.org/property/wikiPageUsesTemplate http://dbpedia.org/resource/Template:Reflist\n",
      "http://dbpedia.org/resource/Semantic_Web http://www.w3.org/2002/07/owl#sameAs http://sv.dbpedia.org/resource/Semantiska_webben\n",
      "http://dbpedia.org/resource/Semantic_Web http://dbpedia.org/ontology/wikiPageWikiLink http://dbpedia.org/resource/System_resource\n",
      "http://dbpedia.org/resource/Semantic_Web http://www.w3.org/2002/07/owl#sameAs http://zh.dbpedia.org/resource/语义网\n",
      "http://dbpedia.org/resource/Semantic_Web http://dbpedia.org/ontology/wikiPageWikiLink http://dbpedia.org/resource/Hypertext_Transfer_Protocol\n",
      "http://dbpedia.org/resource/Semantic_Web http://dbpedia.org/property/wikiPageUsesTemplate http://dbpedia.org/resource/Template:Anchor\n",
      "http://dbpedia.org/resource/Semantic_Web http://dbpedia.org/ontology/wikiPageWikiLink http://dbpedia.org/resource/Hypertext\n",
      "http://dbpedia.org/resource/Semantic_Web http://dbpedia.org/ontology/wikiPageWikiLink http://dbpedia.org/resource/Annotation\n",
      "http://dbpedia.org/resource/Semantic_Web http://www.w3.org/2002/07/owl#sameAs http://th.dbpedia.org/resource/เว็บเชิงความหมาย\n",
      "http://dbpedia.org/resource/Semantic_Web http://dbpedia.org/ontology/wikiPageWikiLink http://dbpedia.org/resource/Semantic_translation\n",
      "http://dbpedia.org/resource/Semantic_Web http://dbpedia.org/ontology/abstract Семанти́ческая паути́на (от англ. semantic web) — общедоступная глобальная семантическая сеть, формируемая на базе Всемирной паутины путём стандартизации представления информации в виде, пригодном для машинной обработки. В обычной Всемирной паутине, основанной на HTML-страницах, информация заложена в тексте страниц и предназначена для чтения и понимания человеком. Семантическая паутина состоит из машинно-читаемых элементов — узлов семантической сети, с опорой на онтологии. Благодаря этому программы-клиенты получают возможность непосредственно получать из интернета утверждения вида «предмет — вид взаимосвязи — другой предмет» и вычислять по ним логические заключения. Семантическая паутина работает параллельно с обычной Всемирной паутиной и на её основе, используя протокол HTTP и идентификаторы ресурсов URI. Название «Семантическая паутина» было впервые введено Тимом Бернерсом-Ли (изобретателем Всемирной паутины) в сентябре 1998 года, и называется им «следующим шагом в развитии Всемирной паутины». Позже в своём блоге он предложил в качестве синонима термин «гигантский глобальный граф» (англ. giant global graph, GGG, по аналогии с WWW). Концепция семантической паутины была принята и продвигается консорциумом Всемирной паутины.\n",
      "http://dbpedia.org/resource/Semantic_Web http://dbpedia.org/ontology/wikiPageExternalLink http://www.w3.org/standards/semanticweb/\n",
      "http://dbpedia.org/resource/Semantic_Web http://dbpedia.org/ontology/wikiPageWikiLink http://dbpedia.org/resource/Web_2.0\n",
      "http://dbpedia.org/resource/Semantic_Web http://dbpedia.org/ontology/wikiPageExternalLink https://example.org/semantic-web/%22%3ESemantic\n",
      "http://dbpedia.org/resource/Semantic_Web http://www.w3.org/2002/07/owl#sameAs http://d-nb.info/gnd/4688372-1\n",
      "http://dbpedia.org/resource/Semantic_Web http://www.w3.org/2002/07/owl#sameAs http://ko.dbpedia.org/resource/시맨틱_웹\n",
      "http://dbpedia.org/resource/Semantic_Web http://www.w3.org/2000/01/rdf-schema#comment El Web semàntic és un projecte que té com a objectiu crear un medi universal per a l'intercanvi d'informació significativa (semàntica), d'una forma comprensible per a les màquines, del contingut dels documents de la Web. Amb això es pretén ampliar la interoperabilitat dels sistemes informàtics i reduir la mediació dels operadors humans en els processos intel·ligents de flux d'informació. El pare de la idea, Tim Berners-Lee, creador del Web i fundador del W3C, proposa que la Web semàntica serveixi per a ampliar la capacitat de la World Wide Web mitjançant els , els llenguatges d'etiquetatge i altres eines de processament relacionades.\n",
      "http://dbpedia.org/resource/Semantic_Web http://dbpedia.org/property/b Semantic Web\n",
      "http://dbpedia.org/resource/Semantic_Web http://dbpedia.org/ontology/abstract Web Semantik (Web Bermakna) merujuk kepada teknik yang memungkinkan konten pada Web untuk dapat lebih dimengerti oleh komputer. Istilah Web Semantik itu sendiri dicetuskan oleh Tim Berners-Lee, penemu World Wide Web. Sekarang, prinsip Web Semantik disebut-sebut akan muncul pada Web 3.0, generasi ketiga dari World Wide Web. Bahkan, Web 3.0 itu sendiri sering disamakan dengan Web Semantik. Teknologi Web Semantik ini antara lain adalah RDF, OWL dan SPARQL.\n",
      "http://dbpedia.org/resource/Semantic_Web http://dbpedia.org/ontology/wikiPageWikiLink http://dbpedia.org/resource/API\n",
      "http://dbpedia.org/resource/Semantic_Web http://dbpedia.org/ontology/wikiPageWikiLink http://dbpedia.org/resource/Semantic_query\n",
      "http://dbpedia.org/resource/Semantic_Web http://dbpedia.org/ontology/wikiPageExternalLink https://schema.org/birthPlace%3E\n",
      "http://dbpedia.org/resource/Semantic_Web http://purl.org/dc/terms/subject http://dbpedia.org/resource/Category:Knowledge_engineering\n",
      "http://dbpedia.org/resource/Semantic_Web http://dbpedia.org/ontology/wikiPageWikiLink http://dbpedia.org/resource/Artificial_intelligence\n",
      "http://dbpedia.org/resource/Semantic_Web http://dbpedia.org/property/wikiPageUsesTemplate http://dbpedia.org/resource/Template:Further\n",
      "http://dbpedia.org/resource/Semantic_Web http://dbpedia.org/ontology/abstract Web semantikoa (semantic web) World Wide Web Consortiumen muinean garatutako jarduera multzo bat da, aplikazio informatikoek datu irakurgarriak argitaratzeko teknologia bermatzen duena. World Wide Webari metadatu ontologiko eta semantikoak gehitzeko ideian oinarritzen da. Helburua interneta hobetzea da sistema informatikoen elkargarritasuna handituz, eragile adimenduak erabiliz. Eragile adimenduak informazioa era automatikoan eta gizakien laguntzarik gabe bilatzen duten programa informatikoak dira. Ideia honen aitzindaria, Tim Berners-Lee, hasieratik saiatu zen informazio semantikoa sartzen haren sorkuntzan (World Wide Web), baina arazo desberdinengatik ez zuen lortu. Arrazoi horrengatik landu zuen semantika.\n",
      "http://dbpedia.org/resource/Semantic_Web http://www.w3.org/2002/07/owl#sameAs http://rdf.freebase.com/ns/m.0bbv9w2\n",
      "http://dbpedia.org/resource/Semantic_Web http://dbpedia.org/ontology/wikiPageWikiLink http://dbpedia.org/resource/HTML\n",
      "http://dbpedia.org/resource/Semantic_Web http://www.w3.org/2000/01/rdf-schema#comment Semantic Web (sieci semantyczne) – projekt, który ma przyczynić się do utworzenia i rozpowszechnienia standardów opisywania treści w Internecie w sposób, który umożliwi maszynom i programom (np. tzw. agentom) przetwarzanie informacji w sposób odpowiedni do ich znaczenia. Wśród standardów sieci semantycznych znajdują się m.in. OWL, RDF, RDF Schema (inaczej RDFS). Znaczenia zasobów informacyjnych określa się za pomocą tzw. ontologii.\n",
      "http://dbpedia.org/resource/Semantic_Web http://dbpedia.org/ontology/abstract Семантична павутина (англ. Semantic web) — нова концепція розвитку Всесвітньої павутини і мережі Інтернет, яка створена і впроваджується Консорціумом Всесвітньої павутини (англ. World Wide Web Consortium, W3C). Інші назви — семантичний веб, семантична мережа. Хоча поняття семантична мережа, яке виникло раніше, породило поняття семантична павутина, їх слід відокремлювати. Концепція полягає у впровадженні спільних, стандартних форматів даних у Мережі. Для заохочення впровадження семантичного форматування сторінок, пропонується змінювати структуру вже існуючих, не структурованих чи частково-структурованих сторінок у «мережу даних». Створення семантичної Мережі полягає у застосуванні середовища опису ресурсів (RDF). Термін вперше запровадив Тім Бернерс-Лі в травні 2001 року в журналі «Scientific American»\n",
      "http://dbpedia.org/resource/Semantic_Web http://dbpedia.org/ontology/wikiPageWikiLink http://dbpedia.org/resource/Description_logic\n",
      "http://dbpedia.org/resource/Semantic_Web http://dbpedia.org/ontology/wikiPageWikiLink http://dbpedia.org/resource/RDF_Schema\n",
      "http://dbpedia.org/resource/Semantic_Web http://www.w3.org/2002/07/owl#sameAs http://hu.dbpedia.org/resource/Szemantikus_web\n",
      "http://dbpedia.org/resource/Semantic_Web http://dbpedia.org/ontology/abstract 语义网（英语：Semantic Web）是由万维网联盟的蒂姆·伯纳斯-李（Tim Berners-Lee）在1998年提出的一个概念，它的核心是：通过给万维网上的文档（如: HTML文档）添加能够被计算机所理解的语义（元数据），从而使整个互联网成为一个通用的信息交换媒介。语义万维网通过使用标准、置标语言和相关的处理工具来扩展万维网的能力。不过语意网概念实际上是基于很多已有技术的，也依赖于后来和text-and-markup与知识表现的综合。 \"语义\"网是由比现今成熟的网际搜索工具更加行之有效的、更加广泛意义的并且自动聚集和搜集信息的文档组成的。其最基本的元素就是。\n",
      "http://dbpedia.org/resource/Semantic_Web http://dbpedia.org/ontology/wikiPageExternalLink https://archive.org/details/isbn_9780470396797\n",
      "http://dbpedia.org/resource/Semantic_Web http://www.w3.org/2000/01/rdf-schema#label ويب دلالي\n",
      "http://dbpedia.org/resource/Semantic_Web http://dbpedia.org/ontology/wikiPageWikiLink http://dbpedia.org/resource/Tag_(metadata)\n",
      "http://dbpedia.org/resource/Semantic_Web http://dbpedia.org/ontology/wikiPageLength 48084\n",
      "http://dbpedia.org/resource/Semantic_Web http://dbpedia.org/ontology/wikiPageWikiLink http://dbpedia.org/resource/Ora_Lassila\n",
      "http://dbpedia.org/resource/Semantic_Web http://www.w3.org/2000/01/rdf-schema#comment A Web semântica é uma extensão da World Wide Web que permite aos computadores e humanos trabalharem em cooperação. Ela interliga significados de palavras e, neste âmbito, tem como finalidade conseguir atribuir um significado (sentido) aos conteúdos publicados na Internet de modo que seja compreensível tanto pelo humano como pelo computador. A ideia da Web semântica surgiu em 2001, quando Tim Berners-Lee, James Hendler e Ora Lassila publicaram um artigo na revista Scientific American, intitulado: “Web Semântica: um novo formato de conteúdo para a Web que tem significado para computadores vai iniciar uma revolução de novas possibilidades” (The Semantic Web - A new form of Web content that is meaningful to computers will unleash a revolution of new possibilities).\n",
      "http://dbpedia.org/resource/Semantic_Web http://dbpedia.org/ontology/wikiPageWikiLink http://dbpedia.org/resource/EU_Open_Data_Portal\n",
      "http://dbpedia.org/resource/Semantic_Web http://purl.org/dc/terms/subject http://dbpedia.org/resource/Category:Web_services\n",
      "http://dbpedia.org/resource/Semantic_Web http://dbpedia.org/ontology/wikiPageWikiLink http://dbpedia.org/resource/Web_resource\n",
      "http://dbpedia.org/resource/Semantic_Web http://www.w3.org/2000/01/rdf-schema#label Web semantik\n",
      "http://dbpedia.org/resource/Semantic_Web http://dbpedia.org/ontology/wikiPageWikiLink http://dbpedia.org/resource/Allan_M._Collins\n",
      "http://dbpedia.org/resource/Semantic_Web http://dbpedia.org/ontology/wikiPageExternalLink http://www.wikidata.org/entity/Q1731\n",
      "http://dbpedia.org/resource/Semantic_Web http://dbpedia.org/ontology/wikiPageWikiLink http://dbpedia.org/resource/Defeasible_reasoning\n",
      "http://dbpedia.org/resource/Semantic_Web http://www.w3.org/1999/02/22-rdf-syntax-ns#type http://dbpedia.org/class/yago/WikicatBuzzwords\n",
      "http://dbpedia.org/resource/Semantic_Web http://dbpedia.org/property/wikt no\n",
      "http://dbpedia.org/resource/Semantic_Web http://dbpedia.org/ontology/wikiPageWikiLink http://dbpedia.org/resource/XML_Schema_(W3C)\n",
      "http://dbpedia.org/resource/Semantic_Web http://dbpedia.org/property/wikiPageUsesTemplate http://dbpedia.org/resource/Template:Semantics\n",
      "http://dbpedia.org/resource/Semantic_Web http://www.w3.org/2002/07/owl#sameAs http://ja.dbpedia.org/resource/セマンティック・ウェブ\n",
      "http://dbpedia.org/resource/Semantic_Web http://dbpedia.org/property/wikiPageUsesTemplate http://dbpedia.org/resource/Template:'%22\n",
      "http://dbpedia.org/resource/Semantic_Web http://dbpedia.org/ontology/wikiPageExternalLink http://xmlns.com/foaf/0.1/Person%3E\n",
      "http://dbpedia.org/resource/Semantic_Web http://www.w3.org/1999/02/22-rdf-syntax-ns#type http://dbpedia.org/class/yago/Buzzword106608277\n",
      "http://dbpedia.org/resource/Semantic_Web http://dbpedia.org/ontology/wikiPageExternalLink http://www.intelligententerprise.com/showArticle.jhtml%3FarticleID=184429656\n",
      "http://dbpedia.org/resource/Semantic_Web http://www.w3.org/1999/02/22-rdf-syntax-ns#type http://dbpedia.org/class/yago/Message106598915\n",
      "http://dbpedia.org/resource/Semantic_Web http://dbpedia.org/ontology/wikiPageWikiLink http://dbpedia.org/resource/Wikidata\n",
      "http://dbpedia.org/resource/Semantic_Web http://dbpedia.org/ontology/wikiPageWikiLink http://dbpedia.org/resource/Web_browser\n",
      "http://dbpedia.org/resource/Semantic_Web http://dbpedia.org/ontology/wikiPageWikiLink http://dbpedia.org/resource/Medical_terminology\n",
      "http://dbpedia.org/resource/Semantic_Web http://purl.org/dc/terms/subject http://dbpedia.org/resource/Category:Internet_ages\n",
      "http://dbpedia.org/resource/Semantic_Web http://www.w3.org/2002/07/owl#sameAs http://data.wordlift.io/wl0216/entity/semantic_web\n",
      "http://dbpedia.org/resource/Semantic_Web http://www.w3.org/2002/07/owl#sameAs http://da.dbpedia.org/resource/Semantisk_web\n",
      "http://dbpedia.org/resource/Semantic_Web http://www.w3.org/2000/01/rdf-schema#comment Семантична павутина (англ. Semantic web) — нова концепція розвитку Всесвітньої павутини і мережі Інтернет, яка створена і впроваджується Консорціумом Всесвітньої павутини (англ. World Wide Web Consortium, W3C). Інші назви — семантичний веб, семантична мережа. Хоча поняття семантична мережа, яке виникло раніше, породило поняття семантична павутина, їх слід відокремлювати. Термін вперше запровадив Тім Бернерс-Лі в травні 2001 року в журналі «Scientific American»\n",
      "http://dbpedia.org/resource/Semantic_Web http://dbpedia.org/ontology/wikiPageWikiLink http://dbpedia.org/resource/Web_science\n",
      "http://dbpedia.org/resource/Semantic_Web http://www.w3.org/2002/07/owl#sameAs http://yago-knowledge.org/resource/Semantic_Web\n",
      "http://dbpedia.org/resource/Semantic_Web http://www.w3.org/2002/07/owl#sameAs http://lt.dbpedia.org/resource/Semantinis_tinklas\n",
      "http://dbpedia.org/resource/Semantic_Web http://dbpedia.org/ontology/wikiPageWikiLink http://dbpedia.org/resource/MIT_Press\n",
      "http://dbpedia.org/resource/Semantic_Web http://dbpedia.org/ontology/wikiPageWikiLink http://dbpedia.org/resource/Internet_censorship\n",
      "http://dbpedia.org/resource/Semantic_Web http://dbpedia.org/property/d Q54837\n",
      "http://dbpedia.org/resource/Semantic_Web http://dbpedia.org/ontology/wikiPageWikiLink http://dbpedia.org/resource/Internet\n",
      "http://dbpedia.org/resource/Semantic_Web http://www.w3.org/2002/07/owl#sameAs http://pl.dbpedia.org/resource/Semantic_Web\n",
      "http://dbpedia.org/resource/Semantic_Web http://dbpedia.org/ontology/wikiPageWikiLink http://dbpedia.org/resource/World_Wide_Web\n",
      "http://dbpedia.org/resource/Semantic_Web http://dbpedia.org/ontology/wikiPageWikiLink http://dbpedia.org/resource/Extensibility\n",
      "http://dbpedia.org/resource/Semantic_Web http://dbpedia.org/ontology/wikiPageWikiLink http://dbpedia.org/resource/Information_retrieval\n",
      "http://dbpedia.org/resource/Semantic_Web http://www.w3.org/2002/07/owl#sameAs http://fr.dbpedia.org/resource/Web_sémantique\n",
      "http://dbpedia.org/resource/Semantic_Web http://dbpedia.org/ontology/wikiPageWikiLink http://dbpedia.org/resource/Rule_Interchange_Format\n",
      "http://dbpedia.org/resource/Semantic_Web http://dbpedia.org/ontology/wikiPageWikiLink http://dbpedia.org/resource/User_agent\n",
      "http://dbpedia.org/resource/Semantic_Web http://dbpedia.org/property/wikiPageUsesTemplate http://dbpedia.org/resource/Template:Div_col_end\n",
      "http://dbpedia.org/resource/Semantic_Web http://dbpedia.org/ontology/wikiPageWikiLink http://dbpedia.org/resource/Web_crawler\n",
      "http://dbpedia.org/resource/Semantic_Web http://dbpedia.org/ontology/wikiPageWikiLink http://dbpedia.org/resource/XML\n",
      "http://dbpedia.org/resource/Semantic_Web http://dbpedia.org/ontology/wikiPageWikiLink http://dbpedia.org/resource/XHTML\n",
      "http://dbpedia.org/resource/Semantic_Web http://dbpedia.org/ontology/wikiPageWikiLink http://dbpedia.org/resource/Principle_of_explosion\n",
      "http://dbpedia.org/resource/Semantic_Web http://www.w3.org/2000/01/rdf-schema#label セマンティック・ウェブ\n",
      "http://dbpedia.org/resource/Semantic_Web http://dbpedia.org/property/commons Category:Semantic Web\n",
      "http://dbpedia.org/resource/Semantic_Web http://www.w3.org/1999/02/22-rdf-syntax-ns#type http://dbpedia.org/class/yago/PsychologicalFeature100023100\n",
      "http://dbpedia.org/resource/Semantic_Web http://dbpedia.org/ontology/wikiPageWikiLink http://dbpedia.org/resource/Information_overload\n",
      "http://dbpedia.org/resource/Semantic_Web http://dbpedia.org/ontology/wikiPageWikiLink http://dbpedia.org/resource/Metadata\n",
      "http://dbpedia.org/resource/Semantic_Web http://dbpedia.org/ontology/wikiPageWikiLink http://dbpedia.org/resource/Knowledge_base\n",
      "http://dbpedia.org/resource/Semantic_Web http://dbpedia.org/ontology/wikiPageWikiLink http://dbpedia.org/resource/Semantic_Web_(journal)\n",
      "http://dbpedia.org/resource/Semantic_Web http://www.w3.org/1999/02/22-rdf-syntax-ns#type http://dbpedia.org/class/yago/Nonsense106607339\n",
      "http://dbpedia.org/resource/Semantic_Web http://dbpedia.org/ontology/wikiPageWikiLink http://dbpedia.org/resource/Deductive_reasoning\n",
      "http://dbpedia.org/resource/Semantic_Web http://dbpedia.org/ontology/wikiPageWikiLink http://dbpedia.org/resource/File:RDF_example.svg\n",
      "http://dbpedia.org/resource/Semantic_Web http://dbpedia.org/property/infocom yes\n",
      "http://dbpedia.org/resource/Semantic_Web http://dbpedia.org/ontology/wikiPageWikiLink http://dbpedia.org/resource/Folksonomy\n",
      "http://dbpedia.org/resource/Semantic_Web http://dbpedia.org/ontology/wikiPageExternalLink https://www.springer.com/computer/database+management+%26+information+retrieval/book/978-3-662-43795-7\n",
      "http://dbpedia.org/resource/Semantic_Web http://dbpedia.org/ontology/wikiPageWikiLink http://dbpedia.org/resource/Timo_Honkela\n",
      "http://dbpedia.org/resource/Semantic_Web http://dbpedia.org/ontology/wikiPageWikiLink http://dbpedia.org/resource/Semantic_MediaWiki\n",
      "http://dbpedia.org/resource/Semantic_Web http://www.w3.org/2002/07/owl#sameAs http://simple.dbpedia.org/resource/Semantic_Web\n",
      "http://dbpedia.org/resource/Semantic_Web http://www.w3.org/2002/07/owl#sameAs http://gl.dbpedia.org/resource/Web_semántica\n",
      "http://dbpedia.org/resource/Semantic_Web http://dbpedia.org/ontology/wikiPageRevisionID 1073218362\n",
      "http://dbpedia.org/resource/Semantic_Web http://dbpedia.org/ontology/wikiPageExternalLink https://cacm.acm.org/magazines/2021/2/250085-a-review-of-the-semantic-web-field/fulltext%7Cdoi-access=free\n",
      "http://dbpedia.org/resource/Semantic_Web http://dbpedia.org/ontology/wikiPageWikiLink http://dbpedia.org/resource/Microdata_(HTML)\n",
      "http://dbpedia.org/resource/Semantic_Web http://dbpedia.org/ontology/wikiPageExternalLink https://schema.org/name%3E\n",
      "http://dbpedia.org/resource/Semantic_Web http://www.w3.org/2002/07/owl#sameAs http://no.dbpedia.org/resource/Semantisk_web\n",
      "http://dbpedia.org/resource/Semantic_Web http://dbpedia.org/ontology/wikiPageWikiLink http://dbpedia.org/resource/Distributed_computing\n",
      "http://dbpedia.org/resource/Semantic_Web http://www.w3.org/2002/07/owl#sameAs http://is.dbpedia.org/resource/Merkingarvefur\n",
      "http://dbpedia.org/resource/Semantic_Web http://www.w3.org/ns/prov#wasDerivedFrom http://en.wikipedia.org/wiki/Semantic_Web?oldid=1073218362&ns=0\n",
      "http://dbpedia.org/resource/Semantic_Web http://www.w3.org/2000/01/rdf-schema#label Web semàntic\n",
      "http://dbpedia.org/resource/Semantic_Web http://dbpedia.org/ontology/wikiPageWikiLink http://dbpedia.org/resource/Machine-readable_data\n",
      "http://dbpedia.org/resource/Semantic_Web http://dbpedia.org/ontology/wikiPageExternalLink https://schema.org/Place%3E\n",
      "http://dbpedia.org/resource/Semantic_Web http://dbpedia.org/ontology/wikiPageWikiLink http://dbpedia.org/resource/Microformat\n",
      "http://dbpedia.org/resource/Semantic_Web http://dbpedia.org/ontology/wikiPageWikiLink http://dbpedia.org/resource/Resource_Description_Framework\n",
      "http://dbpedia.org/resource/Semantic_Web http://dbpedia.org/ontology/wikiPageWikiLink http://dbpedia.org/resource/Notation3\n",
      "http://dbpedia.org/resource/Semantic_Web http://dbpedia.org/ontology/wikiPageWikiLink http://dbpedia.org/resource/Biology\n",
      "http://dbpedia.org/resource/Semantic_Web http://www.w3.org/2000/01/rdf-schema#label Σημασιολογικός Ιστός\n",
      "http://dbpedia.org/resource/Semantic_Web http://dbpedia.org/ontology/abstract Semantiska webben är ett begrepp myntat av World Wide Web Consortiums (W3C) chef Tim Berners-Lee, som också är skapare av världswebben (WWW). Begreppet beskriver metoder och teknik för att möjliggöra för maskiner att förstå innebörden eller \"semantiken\" i informationen på webben. Den ursprungliga visionen var att tillgången på maskinläsbara metadata skulle möjliggöra för automatiska agenter och annan programvara att ansluta till internet på ett mer intelligent sätt. Även om termen \"semantiska webben\" inte är formellt definierad, så används den för att beskriva den modell och de tekniker som föreslagits av W3C. Dessa tekniker inkluderar Resource Description Framework (RDF), olika format för datautbyte (till exempel RDF / XML, JSON-LD, Notation 3, Turtle, N-Tripplar och notationer som RDF Schema och Web Ontology Language (OWL), som alla syftar till att ge en formell beskrivning av koncept, termer och relationer inom ett givet kunskapsområde. Många av de tekniker som föreslagits av W3C finns redan och används i olika projekt. Den semantiska webben som en global vision har dock inte ännu realiserats, och dess kritiker har ifrågasatt om tillvägagångssättet är möjligt. Dessutom har andra tekniker med liknande mål, till exempel mikroformat, utvecklats, vilka inte alltid beskrivs som \"den semantiska webben\".\n",
      "http://dbpedia.org/resource/Semantic_Web http://dbpedia.org/ontology/wikiPageExternalLink https://www.wikidata.org/entity/Q1731%22%3E\n",
      "http://dbpedia.org/resource/Semantic_Web http://www.w3.org/1999/02/22-rdf-syntax-ns#type http://dbpedia.org/class/yago/Work100575741\n",
      "http://dbpedia.org/resource/Semantic_Web http://www.w3.org/2000/01/rdf-schema#comment Het semantisch web verschaft een framework waarmee gegevens kunnen worden gedeeld en hergebruikt. Het is een samenwerking onder leiding van het internationale orgaan voor internetstandaarden, het World Wide Web Consortium W3C. Het semantisch web is een uitbreiding van het internet, om de uitwisseling van gegevens tussen de deelnemers, tussen alle nodes, efficiënter te laten verlopen. Open data zijn de vrij beschikbare informatie, die door het semantisch web wordt gebruikt.\n",
      "http://dbpedia.org/resource/Semantic_Web http://dbpedia.org/ontology/wikiPageWikiLink http://dbpedia.org/resource/Scholia\n",
      "http://dbpedia.org/resource/Semantic_Web http://www.w3.org/2000/01/rdf-schema#label Semantisch web\n",
      "http://dbpedia.org/resource/Semantic_Web http://dbpedia.org/property/wikiPageUsesTemplate http://dbpedia.org/resource/Template:Authority_control\n",
      "http://dbpedia.org/resource/Semantic_Web http://dbpedia.org/property/wikiPageUsesTemplate http://dbpedia.org/resource/Template:Digital_humanities\n",
      "http://dbpedia.org/resource/Semantic_Web http://dbpedia.org/ontology/abstract Het semantisch web verschaft een framework waarmee gegevens kunnen worden gedeeld en hergebruikt. Het is een samenwerking onder leiding van het internationale orgaan voor internetstandaarden, het World Wide Web Consortium W3C. Het semantisch web is een uitbreiding van het internet, om de uitwisseling van gegevens tussen de deelnemers, tussen alle nodes, efficiënter te laten verlopen. Open data zijn de vrij beschikbare informatie, die door het semantisch web wordt gebruikt.\n",
      "http://dbpedia.org/resource/Semantic_Web http://dbpedia.org/ontology/wikiPageWikiLink http://dbpedia.org/resource/Mastodon_(software)\n",
      "http://dbpedia.org/resource/Semantic_Web http://www.w3.org/2002/07/owl#sameAs http://fa.dbpedia.org/resource/وب_معنایی\n",
      "http://dbpedia.org/resource/Semantic_Web http://www.w3.org/2000/01/rdf-schema#label Semantiska webben\n",
      "http://dbpedia.org/resource/Semantic_Web http://www.w3.org/1999/02/22-rdf-syntax-ns#type http://dbpedia.org/class/yago/Communication100033020\n",
      "http://dbpedia.org/resource/Semantic_Web http://dbpedia.org/ontology/wikiPageWikiLink http://dbpedia.org/resource/Semantics\n",
      "http://dbpedia.org/resource/Semantic_Web http://www.w3.org/2000/01/rdf-schema#comment Ο Σημασιολογικός Ιστός (Web 3.0 ή Semantic Web στα αγγλικά) είναι μια επέκταση του σημερινού Ιστού, που θα φέρει δομή στο ουσιαστικό περιεχόμενο των ιστοσελίδων. Η λογική πίσω από αυτό είναι ότι η δημοσιευμένη πληροφορία θα περιέχει μεταδεδομένα, τα οποία θα είναι κοινά για όλους, θα μπορούν να «κατανοούνται» και από μηχανές, οι οποίες θα βοηθήσουν στην καλύτερη συλλογή και επεξεργασία τους. Στον επιχειρηματικό τομέα, θα υπάρχει καλύτερη οργάνωση των εταιριών, καλύτερες εμπειρίες για τους χρήστες στις διαδικτυακές αγορές και καλύτερος συντονισμός μεταξύ διαφορετικών εταιριών.\n",
      "http://dbpedia.org/resource/Semantic_Web http://dbpedia.org/ontology/wikiPageWikiLink http://dbpedia.org/resource/Linked_data\n",
      "http://dbpedia.org/resource/Semantic_Web http://xmlns.com/foaf/0.1/depiction http://commons.wikimedia.org/wiki/Special:FilePath/Semantic_web_stack.svg\n",
      "http://dbpedia.org/resource/Semantic_Web http://dbpedia.org/ontology/wikiPageWikiLink http://dbpedia.org/resource/ActivityPub\n",
      "http://dbpedia.org/resource/Semantic_Web http://dbpedia.org/ontology/wikiPageWikiLink http://dbpedia.org/resource/Probabilistic_logic\n",
      "http://dbpedia.org/resource/Semantic_Web http://dbpedia.org/ontology/wikiPageWikiLink http://dbpedia.org/resource/Computational_semantics\n",
      "http://dbpedia.org/resource/Semantic_Web http://dbpedia.org/ontology/wikiPageWikiLink http://dbpedia.org/resource/Amazon_Mechanical_Turk\n",
      "http://dbpedia.org/resource/Semantic_Web http://www.w3.org/2000/01/rdf-schema#label 语义网\n",
      "http://dbpedia.org/resource/Semantic_Web http://dbpedia.org/ontology/wikiPageWikiLink http://dbpedia.org/resource/Database\n",
      "http://dbpedia.org/resource/Semantic_Web http://www.w3.org/1999/02/22-rdf-syntax-ns#type http://dbpedia.org/class/yago/Attribute100024264\n",
      "http://dbpedia.org/resource/Semantic_Web http://dbpedia.org/property/wikiPageUsesTemplate http://dbpedia.org/resource/Template:Div_col\n",
      "http://dbpedia.org/resource/Semantic_Web http://dbpedia.org/ontology/wikiPageExternalLink https://schema.org/Person%3E\n",
      "http://dbpedia.org/resource/Semantic_Web http://dbpedia.org/ontology/wikiPageWikiLink http://dbpedia.org/resource/Schema.org\n",
      "http://dbpedia.org/resource/Semantic_Web http://www.w3.org/2000/01/rdf-schema#label Web sémantique\n",
      "http://dbpedia.org/resource/Semantic_Web http://dbpedia.org/ontology/wikiPageWikiLink http://dbpedia.org/resource/French_Institute_for_Research_in_Computer_Science_and_Automation\n",
      "http://dbpedia.org/resource/Semantic_Web http://dbpedia.org/ontology/wikiPageWikiLink http://dbpedia.org/resource/Spamming\n",
      "http://dbpedia.org/resource/Semantic_Web http://www.w3.org/2000/01/rdf-schema#comment Semantika Reto (Angle:Semantic web) estas nova koncepto pri evoluo de Interreto, kiun alprenis kaj disvastigas Konsorcio de la Tutmonda Teksaĵo. Iufoje oni ĝin nomas Semantika Teksaĵo, Semantika Plekto.Tiu koncepto permesas publikigi, konsulti, kaj speciale aŭtomatigi la traktadon de sciadoj strukturitaj.\n",
      "http://dbpedia.org/resource/Semantic_Web http://www.w3.org/2002/07/owl#sameAs https://global.dbpedia.org/id/4jzLX\n",
      "http://dbpedia.org/resource/Semantic_Web http://dbpedia.org/ontology/wikiPageWikiLink http://dbpedia.org/resource/Scalability\n",
      "http://dbpedia.org/resource/Semantic_Web http://www.w3.org/2002/07/owl#sameAs http://ar.dbpedia.org/resource/ويب_دلالي\n",
      "http://dbpedia.org/resource/Semantic_Web http://www.w3.org/2002/07/owl#sameAs http://tr.dbpedia.org/resource/Anlamsal_ağ\n",
      "http://dbpedia.org/resource/Semantic_Web http://dbpedia.org/ontology/wikiPageWikiLink http://dbpedia.org/resource/Unicode\n",
      "http://dbpedia.org/resource/Semantic_Web http://dbpedia.org/ontology/abstract Semantika Reto (Angle:Semantic web) estas nova koncepto pri evoluo de Interreto, kiun alprenis kaj disvastigas Konsorcio de la Tutmonda Teksaĵo. Iufoje oni ĝin nomas Semantika Teksaĵo, Semantika Plekto.Tiu koncepto permesas publikigi, konsulti, kaj speciale aŭtomatigi la traktadon de sciadoj strukturitaj.\n",
      "http://dbpedia.org/resource/Semantic_Web http://www.w3.org/2000/01/rdf-schema#comment إن ورود المعلومات على الإنترنت يزداد بشكل كبير، فقد أصبح الإنترنت مكانًا للتعبير عن الأفكار، سرد القصص، إنشاء المدونات ومشاركة الفيديوهات والصور والملفات الصوتية وما إلى ذلك. وهو ما جعل كمّ المعلومات المتوفرة للفرد الواحد أكبر بكثير مما يُمكن له أن يستفيد منه. تعريض العقل البشري لهذا الكم الهائل من المعلومات من شأنه أن يتسبب فيما يُمكن أن نصفه بوصف \"الضياع في فضاء المعلومات\"، وذلك راجع إلى بقاء المعلومات المفيدة بعيدة المنال بسبب تراكم الكثير من المعلومات غير المفيدة وغير المرتبطة بالموضوع المراد البحث عنه من قبل المستخدم. لحسن الحظ، مثلما يزداد ورود المعلومات، تزداد مقدرات معالجة المعلومات اوتوماتيكياً، لذا يوجد إمكانيات كبيرة للاستفادة من مقدرات الأتمتة هذه بهدف استخراج المعلومات والخدمات من فيضان الويب والمرتبطة بالمستخدم، وتوصيلها إليه عن طريق واجهة مستخدم معيارية (Standardized User In\n",
      "http://dbpedia.org/resource/Semantic_Web http://dbpedia.org/ontology/wikiPageWikiLink http://dbpedia.org/resource/Privacy\n",
      "http://dbpedia.org/resource/Semantic_Web http://dbpedia.org/ontology/wikiPageExternalLink http://schema.org/Person\n",
      "http://dbpedia.org/resource/Semantic_Web http://www.w3.org/2000/01/rdf-schema#comment La web semántica (del inglés semantic web) es un conjunto de actividades desarrolladas en el seno de World Wide Web Consortium con tendencia a la creación de tecnologías para publicar datos legibles por aplicaciones informáticas (máquinas en la terminología de la Web semántica).​ Se basa en la idea de añadir metadatos semánticos y ontológicos a la World Wide Web. Esas informaciones adicionales —que describen el contenido, el significado y la relación de los datos— se deben proporcionar de manera formal, para que así sea posible evaluarlas automáticamente por máquinas de procesamiento. El objetivo es mejorar Internet ampliando la interoperabilidad entre los sistemas informáticos usando \"agentes inteligentes\". Agentes inteligentes son programas en las computadoras que buscan información sin \n",
      "http://dbpedia.org/resource/Semantic_Web http://www.w3.org/2002/07/owl#sameAs http://www.wikidata.org/entity/Q54837\n",
      "http://dbpedia.org/resource/Semantic_Web http://www.w3.org/2002/07/owl#sameAs http://de.dbpedia.org/resource/Semantic_Web\n",
      "http://dbpedia.org/resource/Semantic_Web http://www.w3.org/2000/01/rdf-schema#comment セマンティック・ウェブ（英: semantic web）は W3C のティム・バーナーズ＝リーによって提唱された、ウェブページの意味を扱うことを可能とする標準やツール群の開発によってワールド・ワイド・ウェブの利便性を向上させるプロジェクト。セマンティック・ウェブの目的はウェブページの閲覧という行為に、データの交換の側面に加えて意味の疎通を付け加えることにある。 現在のワールド・ワイド・ウェブ上のコンテンツは主にHTMLで記述されている。HTMLでは文書構造を伝えることは可能だが、個々の単語の意味をはじめとする詳細な意味を伝えることはできない。これに対し、セマンティック・ウェブはXMLによって記述した文書にRDFやOWLを用いてタグを付け加える。この、データの意味を記述したタグが文書の含む意味を形式化し、コンピュータによる自動的な情報の収集や分析へのアプローチが可能となると期待されている。オントロジーを扱う階層まではW3Cにより標準化されているが、それ以上の階層の開発は難しいため、実現と標準化には長期間掛かると予想されている。また、既存のWebサイトに対するメタデータ付与の作業が必要であるため、Web全域への普及に関しても長期間掛かると予想されている。 近年では、Google検索のリッチスニペットなどの応用例が存在する。\n"
     ]
    }
   ],
   "source": [
    "from rdflib import Graph\n",
    "g = Graph()\n",
    "g.parse('http://dbpedia.org/resource/Semantic_Web')\n",
    "\n",
    "for s, p, o in g:\n",
    "    print(s, p, o)\n"
   ]
  },
  {
   "cell_type": "markdown",
   "metadata": {
    "pycharm": {
     "name": "#%% md\n"
    }
   },
   "source": [
    "**IRI validation**"
   ]
  },
  {
   "cell_type": "code",
   "execution_count": 13,
   "metadata": {
    "pycharm": {
     "name": "#%%\n"
    }
   },
   "outputs": [
    {
     "name": "stdout",
     "output_type": "stream",
     "text": [
      "Requirement already satisfied: validators in /home/mah/year3/semanticWeb/git/UM_KEN3140_SemanticWeb/venv/lib/python3.10/site-packages (0.20.0)\r\n",
      "Requirement already satisfied: decorator>=3.4.0 in /home/mah/year3/semanticWeb/git/UM_KEN3140_SemanticWeb/venv/lib/python3.10/site-packages (from validators) (5.1.1)\r\n",
      "\u001B[33mWARNING: You are using pip version 21.3.1; however, version 22.2.2 is available.\r\n",
      "You should consider upgrading via the '/home/mah/year3/semanticWeb/git/UM_KEN3140_SemanticWeb/venv/bin/python -m pip install --upgrade pip' command.\u001B[0m\r\n"
     ]
    }
   ],
   "source": [
    "!pip install validators"
   ]
  },
  {
   "cell_type": "code",
   "execution_count": 14,
   "metadata": {
    "pycharm": {
     "name": "#%%\n"
    }
   },
   "outputs": [],
   "source": [
    "import validators"
   ]
  },
  {
   "cell_type": "code",
   "execution_count": 15,
   "metadata": {
    "pycharm": {
     "name": "#%%\n"
    }
   },
   "outputs": [
    {
     "data": {
      "text/plain": "True"
     },
     "execution_count": 15,
     "metadata": {},
     "output_type": "execute_result"
    }
   ],
   "source": [
    "validators.url(\"http://google.com\")"
   ]
  },
  {
   "cell_type": "code",
   "execution_count": 16,
   "metadata": {
    "pycharm": {
     "name": "#%%\n"
    }
   },
   "outputs": [
    {
     "name": "stdout",
     "output_type": "stream",
     "text": [
      "not valid\n"
     ]
    }
   ],
   "source": [
    "if not validators.url(\"http://google\"):\n",
    "  print(\"not valid\")"
   ]
  },
  {
   "cell_type": "markdown",
   "metadata": {
    "id": "koV4oRrLMVC3",
    "pycharm": {
     "name": "#%% md\n"
    }
   },
   "source": [
    "### **Lab Tasks**"
   ]
  },
  {
   "cell_type": "markdown",
   "metadata": {
    "id": "EA6aNh9wMVC4",
    "pycharm": {
     "name": "#%% md\n"
    }
   },
   "source": [
    "**Task 1: IRI validation**\n",
    "\n",
    "In this task you are going to verify which of the following strings are valid IRIs or not. \n",
    "Verify them by validator.\n",
    "\n",
    "If you find some of these to be invalid IRIs, consult the [rfc3987](https://tools.ietf.org/html/rfc3987)\n",
    "IRI specification to put forward reasons why they are invalid.For each valid IRI in the list, think about\n",
    "and discuss with your classmates to what extent they comply with the Linked Principles.\n",
    "\n",
    "1. ``myIRI``\n",
    "2. ``myIRI/``\n",
    "3. ``myIRI#``\n",
    "4. ``ftp:/myIRI``\n",
    "5. ``ftp://myIRI/``\n",
    "6. ``ftp://myIRI#``\n",
    "7. ``http://myIRI#``\n",
    "8. ``http:///myIRI/folder1/folder2/``\n",
    "9. ``http:///myIRI/folder1/folder2/my name``\n",
    "10. ``http:///myIRI/folder1/folder2/my_name``\n",
    "11. ``my_own_protocol:///myIRI/folder1/folder2/my_name``\n",
    "12. ``:///myIRI/folder1/folder2/my_name``\n",
    "13. ``https://myIRI/$/my_name``\n",
    "14. ``https://myIRI/#$#/my_name``\n",
    "15. ``https://136.292.181.23/#12/my_name``\n",
    "16. ``https://136.255.181.23/!210382/my_name``\n",
    "17. ``https://schema.org/parent``\n",
    "18. ``https://www.wikidata.org/wiki/Q937``\n",
    "19. ``https://en.wikipedia.org/wiki/Albert_Einstein``\n",
    "20. ``https://www.w3.org/Consortium/``\n",
    "    "
   ]
  },
  {
   "cell_type": "markdown",
   "metadata": {
    "id": "H5kvK0C82DPw",
    "pycharm": {
     "name": "#%% md\n"
    }
   },
   "source": [
    "**Task 1 solution:**"
   ]
  },
  {
   "cell_type": "code",
   "execution_count": 17,
   "metadata": {
    "id": "YaYme7nj2K5J",
    "pycharm": {
     "name": "#%%\n"
    }
   },
   "outputs": [
    {
     "name": "stdout",
     "output_type": "stream",
     "text": [
      "not valid\n"
     ]
    }
   ],
   "source": [
    "#IRI validation\n",
    "if not validators.url(\"myIRI\"):\n",
    "   print(\"not valid\")\n"
   ]
  },
  {
   "cell_type": "markdown",
   "metadata": {
    "id": "qR5CdrBnMVC8",
    "pycharm": {
     "name": "#%% md\n"
    }
   },
   "source": [
    "**Task 2: Formulating RDF triples**\n",
    "\n",
    "Using a text editor of your choice (e.g. Notepad or Sublime text) **or** rdflib, create RDF triples capturing as fully as possible the information in the following piece of text:\n",
    "\n",
    "“Vincent van Gogh was a Dutch artist born in Zundert, a city in the country of the Netherlands, on 30 March 1853. One of the most famous artworks created by him is ‘The Starry Night’ oil on canvas painting.”\n",
    "\n",
    "**Requirements:**\n",
    "1. Write down the triples in Turtle syntax and save the document as a .ttl file.\n",
    "2. Ensure that the triples are generated using valid RDF syntax and valid IRIs. \n",
    "3. Make sure to **reuse** existing vocabulary where possible\n",
    "\n",
    "For convenience, a conceptual diagram of the information in the above text is given below.\n",
    "\n",
    "![image.png](task2-vangogh.png)"
   ]
  },
  {
   "cell_type": "markdown",
   "metadata": {
    "id": "1y33_bDK4Eto",
    "pycharm": {
     "name": "#%% md\n"
    }
   },
   "source": [
    "**Task 2 solution:**"
   ]
  },
  {
   "cell_type": "code",
   "execution_count": 17,
   "metadata": {
    "id": "voGJon1n4HLi",
    "pycharm": {
     "name": "#%%\n"
    }
   },
   "outputs": [],
   "source": []
  },
  {
   "cell_type": "markdown",
   "metadata": {
    "id": "d4Rh5W6-MVDV",
    "pycharm": {
     "name": "#%% md\n"
    }
   },
   "source": [
    "#### Task 3: Identifying components of an RDF graph\n",
    "\n",
    "Study the following diagram:\n",
    "\n",
    "![image.png](task3.png)\n",
    "\n",
    "Now, list all the:\n",
    "\n",
    "1. object properties in the graph\n",
    "2. data properties in the graph\n",
    "3. instances in the graph\n",
    "4. data types in the graph\n",
    "5. prefix shorthands in the graph\n",
    "\n",
    "Discuss your answers with your classmates. You may write the answers down in a new markdown cell below this one if you wish."
   ]
  },
  {
   "cell_type": "markdown",
   "metadata": {
    "id": "RIwYsvRq4ISd",
    "pycharm": {
     "name": "#%% md\n"
    }
   },
   "source": [
    "**Task 3 solution:**"
   ]
  },
  {
   "cell_type": "code",
   "execution_count": null,
   "metadata": {
    "id": "SiHAb-ae4Jze",
    "pycharm": {
     "name": "#%%\n",
     "is_executing": true
    }
   },
   "outputs": [],
   "source": []
  },
  {
   "cell_type": "code",
   "execution_count": 17,
   "outputs": [],
   "source": [],
   "metadata": {
    "collapsed": false,
    "pycharm": {
     "name": "#%%\n"
    }
   }
  }
 ],
 "metadata": {
  "colab": {
   "collapsed_sections": [],
   "provenance": []
  },
  "kernelspec": {
   "display_name": "Python 3.9.7 ('base')",
   "language": "python",
   "name": "python3"
  },
  "language_info": {
   "codemirror_mode": {
    "name": "ipython",
    "version": 3
   },
   "file_extension": ".py",
   "mimetype": "text/x-python",
   "name": "python",
   "nbconvert_exporter": "python",
   "pygments_lexer": "ipython3",
   "version": "3.9.7"
  },
  "vscode": {
   "interpreter": {
    "hash": "d04c54a02add8cf264a0add8fd7ee8c6b80e66ede9002712416e08e7fb9ea34c"
   }
  }
 },
 "nbformat": 4,
 "nbformat_minor": 0
}