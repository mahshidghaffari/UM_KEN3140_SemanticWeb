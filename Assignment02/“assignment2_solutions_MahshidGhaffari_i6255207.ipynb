{
 "cells": [
  {
   "cell_type": "markdown",
   "metadata": {
    "id": "Yr6a2cmR3MwR"
   },
   "source": [
    "# Tasks\n",
    "\n",
    "Please first read assignment 2 instruction file, import necessary libararies, load the dataset and then write SPARQL query for following questions:\n",
    "\n",
    "1. List the top four oldest people in the graph from oldest to youngest\n",
    "2. Identify the shortest student who has at least four classmates \n",
    "3. List the teachers who have the highest salaries (in increasing order) and have at least five colleagues?\n",
    "4. Give the mean (average) age of professors, both male and female, group by gender.\n",
    "5. For each employee, calculate their \"net salary\"\\\n",
    "Net Salary Calculation = Base salary - income tax (%4 of the base salary) - pension (%6 of the base salary)\n",
    "\n",
    "6. List all people with their first name or family name starting with the letter F, E, or A\n",
    "\n",
    "7. List all `dbe:Researcher` using inference\n",
    "\n",
    "Requirements: your query should also returns subclasses of `dbe:Researcher`, such as PhD Candidates and AssistantResearcher, without directly using their URI (use the `rdfs:subClassOf` properties)\n",
    "\n",
    "8. Create missing relations when `:isSupervisedBy` is defined in one direction but not `:supervises` in the other direction. For example, if john `:isSupervisedBy` mary, then we know that mary `:supervises` john\n",
    "\n",
    "Requirements: you should use a CONSTRUCT query to build the missing triples\n",
    "\n",
    "9. Count the number of men and women per `rdf:type` in the graph (aka. the `a` relation)\n",
    "\n",
    "10. Write a federated query from wikidata for retrieving inception date of Arya Parker’s college "
   ]
  },
  {
   "cell_type": "markdown",
   "metadata": {
    "id": "43hN9iy65B-_"
   },
   "source": [
    "**Important**\n",
    "\n",
    "In the following cell you must provide code for loading dataset in a graph."
   ]
  },
  {
   "cell_type": "code",
   "execution_count": 221,
   "metadata": {
    "id": "bzTvynN33XBF"
   },
   "outputs": [],
   "source": [
    "from rdflib import URIRef, BNode, Literal, Namespace\n",
    "from rdflib.namespace import FOAF, DCTERMS, XSD, RDF, SDO\n",
    "from rdflib import Graph\n",
    "import validators\n",
    "\n",
    "\n",
    "ex= Namespace(\"http://exampleorg/\")\n",
    "schema= Namespace(\"http://schemaorg/\")\n",
    "xsd= Namespace(\"http://wwww3org/2001/XMLSchema#\")\n",
    "rdfs= Namespace(\"http://wwww3org/2000/01/rdf-schema#\")\n",
    "wde= Namespace(\"https://wwwwikidataorg/wiki/\")\n",
    "wdp= Namespace(\"http://wwwwikidataorg/prop/statement/\")\n",
    "dbp= Namespace(\"http://dbpediaorg/property/\")\n",
    "dbe= Namespace(\"https://dbpediaorg/page/\")\n",
    "dbo= Namespace(\"https://dbpediaorg/ontology/\")\n",
    "geo= Namespace(\"http://wwwgeonamesorg/ontology#\")\n",
    "wiki= Namespace(\"http://wwwwikidataorg/entity/\")\n",
    "eg = Namespace(\"http://exampleorg/voc#\")\n",
    "rdf= Namespace(\"http://wwww3org/1999/02/22-rdf-syntax-ns#\")\n",
    "foaf= Namespace(\"http://xmlnscom/foaf/01/\")\n",
    "owl= Namespace(\"http://wwww3org/2002/07/owl#\")\n",
    "\n",
    "#load dataset in a graph\n",
    "\n",
    "g = Graph()\n",
    "g.parse('assignment2_dataset.ttl', format='turtle')\n",
    "\n",
    "g.bind('ex',ex )\n",
    "g.bind('schema',schema )\n",
    "g.bind('xsd',xsd )\n",
    "g.bind('rdfs',rdfs )\n",
    "g.bind('wde',wde )\n",
    "g.bind('dbp',dbp )\n",
    "g.bind('dbe',dbe )\n",
    "g.bind('dbo',dbo )\n",
    "g.bind('geo',geo )\n",
    "g.bind('wiki',wiki )\n",
    "g.bind('eg',eg )\n",
    "g.bind('rdf',rdf )\n",
    "g.bind('foaf',foaf )\n",
    "g.bind('owl',owl )\n",
    "\n",
    "\n",
    "#write SPARQL queries"
   ]
  },
  {
   "cell_type": "code",
   "execution_count": 222,
   "metadata": {
    "id": "7kuw7pCk4BWi"
   },
   "outputs": [
    {
     "name": "stdout",
     "output_type": "stream",
     "text": [
      "Frank Jones\n",
      "Katrine Phill\n",
      "Arya Parker\n",
      "John Brown\n"
     ]
    }
   ],
   "source": [
    "#SPARQL Query 1?\n",
    "# List the top four oldest people in the graph from oldest to youngest\n",
    "\n",
    "query_1 = \"\"\"\n",
    "SELECT ?person\n",
    "WHERE {\n",
    "    ?a rdfs:label ?person .\n",
    "    ?a dbp:age ?age .\n",
    "\n",
    "}\n",
    "ORDER BY DESC(?age)\n",
    "LIMIT 4\n",
    "\"\"\"\n",
    "\n",
    "qres_1 = g.query(query_1)\n",
    "for row in qres_1:\n",
    "    print(f\"{row.person}\")"
   ]
  },
  {
   "cell_type": "code",
   "execution_count": 223,
   "metadata": {
    "id": "AqrGOMXd4BS2"
   },
   "outputs": [
    {
     "name": "stdout",
     "output_type": "stream",
     "text": [
      "Harry Lee with height 177\n"
     ]
    }
   ],
   "source": [
    "#SPARQL Query 2\n",
    "# Identify the shortest student who has at least four classmates\n",
    "# (PhD candidates are also included)\n",
    "\n",
    "query_2 = \"\"\"\n",
    "SELECT ?name ?height\n",
    "WHERE {\n",
    "    ?student a/rdfs:subClassOf* dbe:Student .\n",
    "    ?student rdfs:label ?name .\n",
    "    ?student schema:height ?height .\n",
    "    ?student ex:classmate ?classmate .\n",
    "}\n",
    "GROUP BY ?name ?height\n",
    "HAVING (COUNT(?classmate)>= 4)\n",
    "ORDER BY ASC(?height)\n",
    "\n",
    "LIMIT 1\n",
    "\"\"\"\n",
    "\n",
    "qres_2 = g.query(query_2)\n",
    "for row in qres_2:\n",
    "    print(f\"{row.name} with height {row.height}\")"
   ]
  },
  {
   "cell_type": "code",
   "execution_count": 224,
   "metadata": {
    "id": "TM5xD8Sc4BN4"
   },
   "outputs": [
    {
     "name": "stdout",
     "output_type": "stream",
     "text": [
      "Arya Parker 5000\n",
      "John Brown 5300\n",
      "Phillip Miller 9500\n"
     ]
    }
   ],
   "source": [
    "#SPARQL Query 3\n",
    "# List the teachers who have the highest salaries (in increasing order) and have at least five colleagues?\n",
    "# fillip 9,500 / 6 colo\n",
    "# John  5300 /6 colea\n",
    "#\n",
    "\n",
    "query_3 = \"\"\"\n",
    "SELECT ?name ?salary\n",
    "WHERE {\n",
    "    ?a schema:employee ?teacher;\n",
    "     rdfs:label ?name .\n",
    "    ?a schema:baseSalary ?salary .\n",
    "    ?a schema:colleague ?colleague .\n",
    "}\n",
    "\n",
    "GROUP BY ?name ?salary\n",
    "HAVING(COUNT(?colleague)>=5)\n",
    "ORDER BY ASC(?salary)\n",
    "\"\"\"\n",
    "\n",
    "qres_3 = g.query(query_3)\n",
    "for row in qres_3:\n",
    "    print(f\"{row.name} {row.salary}\")"
   ]
  },
  {
   "cell_type": "code",
   "execution_count": 225,
   "metadata": {
    "id": "JXqS7t4_4BJV"
   },
   "outputs": [
    {
     "name": "stdout",
     "output_type": "stream",
     "text": [
      "45.5 http://schema.org/Male\n"
     ]
    }
   ],
   "source": [
    "#SPARQL Query 4\n",
    "# Give the mean (average) age of professors, both male and female, group by gender.\n",
    "# John Brown 53\n",
    "# Phillip Miller 38\n",
    "\n",
    "\n",
    "query_4 = \"\"\"\n",
    "SELECT (AVG(?age) as ?avgAge) ?gender\n",
    "WHERE {\n",
    "    ?a a wiki:Q121594 .\n",
    "    ?a rdfs:label ?name .\n",
    "    ?a dbp:age ?age.\n",
    "    ?a schema:gender ?gender .\n",
    "}\n",
    "GROUP BY ?gender\n",
    "\"\"\"\n",
    "\n",
    "qres_4 = g.query(query_4)\n",
    "for row in qres_4:\n",
    "    print(f\"{row.avgAge} {row.gender}\")"
   ]
  },
  {
   "cell_type": "code",
   "execution_count": 226,
   "metadata": {
    "id": "I65-0_e74BAM"
   },
   "outputs": [
    {
     "name": "stdout",
     "output_type": "stream",
     "text": [
      "John Brown 4770.00\n",
      "Arya Parker 4500.00\n",
      "Frank Jones 3870.00\n",
      "Phillip Miller 8550.00\n",
      "Phil Johnson 4680.00\n",
      "Patrick Wilson 4230.00\n"
     ]
    }
   ],
   "source": [
    "#SPARQL Query 5\n",
    "# For each employee, calculate their \"net salary\" Important notes: Net Salary Calculation = Base salary - income tax (%4 of the base salary) - pension (%6 of the base salary)\n",
    "\n",
    "query_5 = \"\"\"\n",
    "SELECT ?name ?net\n",
    "WHERE {\n",
    "   ?x schema:employee ?employee ;\n",
    "        rdfs:label ?name .\n",
    "   ?x schema:baseSalary ?baseSalary .\n",
    "\n",
    "   BIND((?baseSalary - (4/100 * ?baseSalary) - (6/100 * ?baseSalary)) AS ?net).\n",
    "}\n",
    "\"\"\"\n",
    "\n",
    "qres_5 = g.query(query_5)\n",
    "for row in qres_5:\n",
    "    print(f\"{row.name} {row.net}\")"
   ]
  },
  {
   "cell_type": "code",
   "execution_count": 227,
   "metadata": {
    "id": "wOIT7Pjy4A3U"
   },
   "outputs": [
    {
     "name": "stdout",
     "output_type": "stream",
     "text": [
      "Alice Doe\n",
      "Frank Jones\n",
      "George Anderson\n",
      "Eric Johnson\n",
      "Elsa Taylor\n"
     ]
    }
   ],
   "source": [
    "#SPARQL Query 6\n",
    " # List all people with their first name or family name starting with the letter F, E, or A\n",
    "\n",
    "query_6 = \"\"\"\n",
    "SELECT ?firstName ?familyName\n",
    "WHERE {\n",
    "   ?x schema:givenName ?firstName .\n",
    "   ?x schema:familyName ?familyName .\n",
    "\n",
    "   FILTER(strStarts(?firstName,\"F\") || strStarts(?firstName,\"E\") || strStarts(?firstName,\"A\") || strStarts(?familyName,\"F\") || strStarts(?familyName,\"E\") || strStarts(?familyName,\"A\"))\n",
    "}\n",
    "\"\"\"\n",
    "\n",
    "\n",
    "qres_6 = g.query(query_6)\n",
    "for row in qres_6:\n",
    "    print(f\"{row.firstName} {row.familyName}\")"
   ]
  },
  {
   "cell_type": "code",
   "execution_count": 228,
   "metadata": {
    "id": "__vYWsP74ArZ"
   },
   "outputs": [
    {
     "name": "stdout",
     "output_type": "stream",
     "text": [
      "Katrine Phill\n",
      "Alice Doe\n",
      "John Brown\n",
      "Phillip Miller\n",
      "Arya Parker\n",
      "Frank Jones\n",
      "Phil Johnson\n",
      "Patrick Wilson\n"
     ]
    }
   ],
   "source": [
    "#SPARQL Query 7\n",
    "# List all `dbe:Researcher` using inference\n",
    "\n",
    "query_7 = \"\"\"\n",
    "SELECT ?name\n",
    "WHERE {\n",
    "    ?researcher a/rdfs:subClassOf* dbe:Researcher .\n",
    "    ?researcher rdfs:label ?name .\n",
    "}\n",
    "\"\"\"\n",
    "\n",
    "\n",
    "qres_7 = g.query(query_7)\n",
    "for row in qres_7:\n",
    "    print(f\"{row.name}\")"
   ]
  },
  {
   "cell_type": "code",
   "execution_count": 229,
   "metadata": {
    "id": "Gq0CZCDK4AaK"
   },
   "outputs": [
    {
     "name": "stdout",
     "output_type": "stream",
     "text": [
      "(rdflib.term.URIRef('http://example.org/JohnBrown'), rdflib.term.URIRef('http://example.org/voc#supervises'), rdflib.term.URIRef('http://example.org/AliceDoe'))\n"
     ]
    }
   ],
   "source": [
    "#SPARQL Query 8\n",
    "# Create missing relations when `:isSupervisedBy` is defined in one direction but not\n",
    "# `:supervises` in the other direction. For example, if john `:isSupervisedBy` mary, then\n",
    "# we know that mary `:supervises` john\n",
    "\n",
    "query_8 = \"\"\"\n",
    "CONSTRUCT{\n",
    "?x :supervises ?y\n",
    " } WHERE {\n",
    "    ?y :isSupervisedBy ?x .\n",
    "}\n",
    "\"\"\"\n",
    "qres_8 = g.query(query_8)\n",
    "for row in qres_8:\n",
    "    print(f\"{row}\")\n"
   ]
  },
  {
   "cell_type": "code",
   "execution_count": 230,
   "metadata": {},
   "outputs": [
    {
     "name": "stdout",
     "output_type": "stream",
     "text": [
      " http://schema.org/Female count: 7 ,\n",
      " http://schema.org/Male count: 8 ,\n"
     ]
    }
   ],
   "source": [
    "#SPARQL Query 9\n",
    "# Count the number of men and women per `rdf:type` in the graph (aka. the `a` relation)\n",
    "\n",
    "\n",
    "query_9 = \"\"\"\n",
    "SELECT ?people (count(?people) as ?pcount) ?gender\n",
    "WHERE {\n",
    "    ?people schema:gender ?gender .\n",
    "}\n",
    "\n",
    "GROUP BY ?gender\n",
    "\"\"\"\n",
    "\n",
    "qres_9 = g.query(query_9)\n",
    "for row in qres_9:\n",
    "    print(f\" {row.gender} count: {row.pcount} ,\")"
   ]
  },
  {
   "cell_type": "code",
   "execution_count": 231,
   "metadata": {},
   "outputs": [
    {
     "name": "stdout",
     "output_type": "stream",
     "text": [
      "http://example.org/AryaParker has inception query 1976-01-01T00:00:00+00:00\n"
     ]
    }
   ],
   "source": [
    "#SPARQL Query 10\n",
    "\n",
    "wdt= Namespace('http://www.wikidata.org/prop/direct/')\n",
    "wd= Namespace('http://www.wikidata.org/entity/')\n",
    "\n",
    "g.bind('wdt',wdt)\n",
    "g.bind('wd',wd)\n",
    "\n",
    "query_10 = \"\"\"\n",
    "SELECT ?arya ?iDate\n",
    "WHERE\n",
    "{\n",
    "   ?arya rdfs:label \"Arya Parker\" .\n",
    "  SERVICE <https://query.wikidata.org/sparql> {\n",
    "    wd:Q1137652 wdt:P571 ?iDate . }\n",
    "}\n",
    "\"\"\"\n",
    "\n",
    "qres_10 = g.query(query_10)\n",
    "for row in qres_10:\n",
    "    print(f\"{row.arya} has inception query {row.iDate}\")"
   ]
  }
 ],
 "metadata": {
  "colab": {
   "provenance": []
  },
  "kernelspec": {
   "display_name": "Python 3 (ipykernel)",
   "language": "python",
   "name": "python3"
  },
  "language_info": {
   "codemirror_mode": {
    "name": "ipython",
    "version": 3
   },
   "file_extension": ".py",
   "mimetype": "text/x-python",
   "name": "python",
   "nbconvert_exporter": "python",
   "pygments_lexer": "ipython3",
   "version": "3.10.6"
  },
  "vscode": {
   "interpreter": {
    "hash": "1d75c3ea719b656c16c0963ff244cdd1e8de030c5257ba72627e79b4e4939751"
   }
  }
 },
 "nbformat": 4,
 "nbformat_minor": 1
}
