{
 "cells": [
  {
   "cell_type": "markdown",
   "metadata": {
    "id": "Yr6a2cmR3MwR"
   },
   "source": [
    "# Tasks\n",
    "\n",
    "Please first read assignment 2 instruction file, import necessary libararies, load the dataset and then write SPARQL query for following questions:\n",
    "\n",
    "1. List the top four oldest people in the graph from oldest to youngest\n",
    "2. Identify the shortest student who has at least four classmates \n",
    "3. List the teachers who have the highest salaries (in increasing order) and have at least five colleagues?\n",
    "4. Give the mean (average) age of professors, both male and female, group by gender.\n",
    "5. For each employee, calculate their \"net salary\"\\\n",
    "Net Salary Calculation = Base salary - income tax (%4 of the base salary) - pension (%6 of the base salary)\n",
    "\n",
    "6. List all people with their first name or family name starting with the letter F, E, or A\n",
    "\n",
    "7. List all `dbe:Researcher` using inference\n",
    "\n",
    "Requirements: your query should also returns subclasses of `dbe:Researcher`, such as PhD Candidates and AssistantResearcher, without directly using their URI (use the `rdfs:subClassOf` properties)\n",
    "\n",
    "8. Create missing relations when `:isSupervisedBy` is defined in one direction but not `:supervises` in the other direction. For example, if john `:isSupervisedBy` mary, then we know that mary `:supervises` john\n",
    "\n",
    "Requirements: you should use a CONSTRUCT query to build the missing triples\n",
    "\n",
    "9. Count the number of men and women per `rdf:type` in the graph (aka. the `a` relation)\n",
    "\n",
    "10. Write a federated query from wikidata for retrieving inception date of Arya Parker’s college "
   ]
  },
  {
   "cell_type": "markdown",
   "metadata": {
    "id": "43hN9iy65B-_"
   },
   "source": [
    "**Important**\n",
    "\n",
    "In the following cell you must provide code for loading dataset in a graph."
   ]
  },
  {
   "cell_type": "code",
   "execution_count": 30,
   "metadata": {
    "id": "bzTvynN33XBF"
   },
   "outputs": [],
   "source": [
    "from rdflib import URIRef, BNode, Literal, Namespace\n",
    "from rdflib.namespace import FOAF, DCTERMS, XSD, RDF, SDO\n",
    "from rdflib import Graph\n",
    "import validators\n",
    "\n",
    "\n",
    "ex= Namespace(\"http://exampleorg/\")\n",
    "schema= Namespace(\"http://schemaorg/\")\n",
    "xsd= Namespace(\"http://wwww3org/2001/XMLSchema#\")\n",
    "rdfs= Namespace(\"http://wwww3org/2000/01/rdf-schema#\")\n",
    "wde= Namespace(\"https://wwwwikidataorg/wiki/\")\n",
    "wdp= Namespace(\"http://wwwwikidataorg/prop/statement/\")\n",
    "dbp= Namespace(\"http://dbpediaorg/property/\")\n",
    "dbe= Namespace(\"https://dbpediaorg/page/\")\n",
    "dbo= Namespace(\"https://dbpediaorg/ontology/\")\n",
    "geo= Namespace(\"http://wwwgeonamesorg/ontology#\")\n",
    "wiki= Namespace(\"http://wwwwikidataorg/entity/\")\n",
    "eg = Namespace(\"http://exampleorg/voc#\")\n",
    "rdf= Namespace(\"http://wwww3org/1999/02/22-rdf-syntax-ns#\")\n",
    "foaf= Namespace(\"http://xmlnscom/foaf/01/\")\n",
    "owl= Namespace(\"http://wwww3org/2002/07/owl#\")\n",
    "#load dataset in a graph\n",
    "\n",
    "g = Graph()\n",
    "g.parse('assignment2_dataset.ttl', format='turtle')\n",
    "\n",
    "g.bind('ex',ex )\n",
    "g.bind('schema',schema )\n",
    "g.bind('xsd',xsd )\n",
    "g.bind('rdfs',rdfs )\n",
    "g.bind('wde',wde )\n",
    "g.bind('dbp',dbp )\n",
    "g.bind('dbe',dbe )\n",
    "g.bind('dbo',dbo )\n",
    "g.bind('geo',geo )\n",
    "g.bind('wiki',wiki )\n",
    "g.bind('eg',eg )\n",
    "g.bind('rdf',rdf )\n",
    "g.bind('foaf',foaf )\n",
    "g.bind('owl',owl )\n",
    "\n",
    "\n",
    "#write SPARQL queries"
   ]
  },
  {
   "cell_type": "code",
   "execution_count": 31,
   "metadata": {
    "id": "7kuw7pCk4BWi"
   },
   "outputs": [
    {
     "name": "stdout",
     "output_type": "stream",
     "text": [
      "Frank Jones\n",
      "Katrine Phill\n",
      "Arya Parker\n",
      "John Brown\n"
     ]
    }
   ],
   "source": [
    "#SPARQL Query 1?\n",
    "# List the top four oldest people in the graph from oldest to youngest\n",
    "\n",
    "query_1 = \"\"\"\n",
    "SELECT ?person\n",
    "WHERE {\n",
    "    ?a rdfs:label ?person .\n",
    "    ?a dbp:age ?age .\n",
    "\n",
    "}\n",
    "ORDER BY DESC(?age)\n",
    "LIMIT 4\n",
    "\"\"\"\n",
    "\n",
    "qres_1 = g.query(query_1)\n",
    "for row in qres_1:\n",
    "    print(f\"{row.person}\")"
   ]
  },
  {
   "cell_type": "code",
   "execution_count": 74,
   "metadata": {
    "id": "AqrGOMXd4BS2"
   },
   "outputs": [
    {
     "name": "stdout",
     "output_type": "stream",
     "text": [
      "Harry Lee with height 177\n"
     ]
    }
   ],
   "source": [
    "#SPARQL Query 2\n",
    "# Identify the shortest student who has at least four classmates\n",
    "# (PhD candidates are also included)\n",
    "\n",
    "query_2 = \"\"\"\n",
    "SELECT ?name ?height\n",
    "WHERE {\n",
    "    ?student a/rdfs:subClassOf* dbe:Student .\n",
    "    ?student rdfs:label ?name .\n",
    "    ?student schema:height ?height .\n",
    "    ?student ex:classmate ?classmate .\n",
    "}\n",
    "GROUP BY ?name ?height\n",
    "HAVING (COUNT(?classmate)>= 4)\n",
    "ORDER BY ASC(?height)\n",
    "\n",
    "LIMIT 1\n",
    "\"\"\"\n",
    "\n",
    "qres_2 = g.query(query_2)\n",
    "for row in qres_2:\n",
    "    print(f\"{row.name} with height {row.height}\")"
   ]
  },
  {
   "cell_type": "code",
   "execution_count": 107,
   "metadata": {
    "id": "TM5xD8Sc4BN4"
   },
   "outputs": [
    {
     "name": "stdout",
     "output_type": "stream",
     "text": [
      "Arya Parker 5000\n",
      "John Brown 5300\n",
      "Phillip Miller 9500\n"
     ]
    }
   ],
   "source": [
    "#SPARQL Query 3\n",
    "# List the teachers who have the highest salaries (in increasing order) and have at least five colleagues?\n",
    "# fillip 9,500 / 6 colo\n",
    "# John  5300 /6 colea\n",
    "#\n",
    "\n",
    "query_3 = \"\"\"\n",
    "SELECT ?name ?salary\n",
    "WHERE {\n",
    "    ?a schema:employee ?teacher;\n",
    "     rdfs:label ?name .\n",
    "    ?a schema:baseSalary ?salary .\n",
    "    ?a schema:colleague ?colleague .\n",
    "}\n",
    "\n",
    "GROUP BY ?name ?salary\n",
    "HAVING(COUNT(?colleague)>=5)\n",
    "ORDER BY ASC(?salary)\n",
    "\"\"\"\n",
    "\n",
    "qres_3 = g.query(query_3)\n",
    "for row in qres_3:\n",
    "    print(f\"{row.name} {row.salary}\")"
   ]
  },
  {
   "cell_type": "code",
   "execution_count": 125,
   "metadata": {
    "id": "JXqS7t4_4BJV"
   },
   "outputs": [
    {
     "name": "stdout",
     "output_type": "stream",
     "text": [
      "45.5 http://schema.org/Male\n"
     ]
    }
   ],
   "source": [
    "#SPARQL Query 4\n",
    "# Give the mean (average) age of professors, both male and female, group by gender.\n",
    "# John Brown 53\n",
    "# Phillip Miller 38\n",
    "\n",
    "\n",
    "query_4 = \"\"\"\n",
    "SELECT (AVG(?age) as ?avgAge) ?gender\n",
    "WHERE {\n",
    "    ?a a wiki:Q121594 .\n",
    "    ?a rdfs:label ?name .\n",
    "    ?a dbp:age ?age.\n",
    "    ?a schema:gender ?gender .\n",
    "}\n",
    "GROUP BY ?gender\n",
    "\"\"\"\n",
    "\n",
    "qres_4 = g.query(query_4)\n",
    "for row in qres_4:\n",
    "    print(f\"{row.avgAge} {row.gender}\")"
   ]
  },
  {
   "cell_type": "code",
   "execution_count": null,
   "metadata": {
    "id": "I65-0_e74BAM"
   },
   "outputs": [],
   "source": [
    "#SPARQL Query 5"
   ]
  },
  {
   "cell_type": "code",
   "execution_count": null,
   "metadata": {
    "id": "wOIT7Pjy4A3U"
   },
   "outputs": [],
   "source": [
    "#SPARQL Query 6"
   ]
  },
  {
   "cell_type": "code",
   "execution_count": null,
   "metadata": {
    "id": "__vYWsP74ArZ"
   },
   "outputs": [],
   "source": [
    "#SPARQL Query 7"
   ]
  },
  {
   "cell_type": "code",
   "execution_count": null,
   "metadata": {
    "id": "Gq0CZCDK4AaK"
   },
   "outputs": [],
   "source": [
    "#SPARQL Query 8"
   ]
  },
  {
   "cell_type": "code",
   "execution_count": null,
   "metadata": {},
   "outputs": [],
   "source": [
    "#SPARQL Query 9"
   ]
  },
  {
   "cell_type": "code",
   "execution_count": null,
   "metadata": {},
   "outputs": [],
   "source": [
    "#SPARQL Query 10"
   ]
  }
 ],
 "metadata": {
  "colab": {
   "provenance": []
  },
  "kernelspec": {
   "display_name": "Python 3.10.7 64-bit (microsoft store)",
   "language": "python",
   "name": "python3"
  },
  "language_info": {
   "name": "python",
   "version": "3.10.7"
  },
  "vscode": {
   "interpreter": {
    "hash": "1d75c3ea719b656c16c0963ff244cdd1e8de030c5257ba72627e79b4e4939751"
   }
  }
 },
 "nbformat": 4,
 "nbformat_minor": 0
}
