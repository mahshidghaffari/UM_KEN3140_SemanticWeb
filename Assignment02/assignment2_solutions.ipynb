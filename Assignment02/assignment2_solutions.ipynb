{
  "cells": [
    {
      "cell_type": "markdown",
      "metadata": {
        "id": "Yr6a2cmR3MwR"
      },
      "source": [
        "# Tasks\n",
        "\n",
        "Please first read assignment 2 instruction file, import necessary libararies, load the dataset and then write SPARQL query for following questions:\n",
        "\n",
        "1. List the top four oldest people in the graph from oldest to youngest\n",
        "2. Identify the shortest student who has at least four classmates \n",
        "3. List the teachers who have the highest salaries (in increasing order) and have at least five colleagues?\n",
        "4. Give the mean (average) age of professors, both male and female, group by gender.\n",
        "5. For each employee, calculate their \"net salary\"\\\n",
        "Net Salary Calculation = Base salary - income tax (%4 of the base salary) - pension (%6 of the base salary)\n",
        "\n",
        "6. List all people with their first name or family name starting with the letter F, E, or A\n",
        "\n",
        "7. List all `dbe:Researcher` using inference\n",
        "\n",
        "Requirements: your query should also returns subclasses of `dbe:Researcher`, such as PhD Candidates and AssistantResearcher, without directly using their URI (use the `rdfs:subClassOf` properties)\n",
        "\n",
        "8. Create missing relations when `:isSupervisedBy` is defined in one direction but not `:supervises` in the other direction. For example, if john `:isSupervisedBy` mary, then we know that mary `:supervises` john\n",
        "\n",
        "Requirements: you should use a CONSTRUCT query to build the missing triples\n",
        "\n",
        "9. Count the number of men and women per `rdf:type` in the graph (aka. the `a` relation)\n",
        "\n",
        "10. Write a federated query from wikidata for retrieving inception date of Arya Parker’s college "
      ]
    },
    {
      "cell_type": "markdown",
      "metadata": {
        "id": "43hN9iy65B-_"
      },
      "source": [
        "**Important**\n",
        "\n",
        "In the following cell you must provide code for loading dataset in a graph."
      ]
    },
    {
      "cell_type": "code",
      "execution_count": null,
      "metadata": {
        "id": "bzTvynN33XBF"
      },
      "outputs": [],
      "source": [
        "#import libararies\n",
        "#load dataset in a graph\n",
        "#write SPARQL queries"
      ]
    },
    {
      "cell_type": "code",
      "execution_count": null,
      "metadata": {
        "id": "7kuw7pCk4BWi"
      },
      "outputs": [],
      "source": [
        "#SPARQL Query 1?"
      ]
    },
    {
      "cell_type": "code",
      "execution_count": null,
      "metadata": {
        "id": "AqrGOMXd4BS2"
      },
      "outputs": [],
      "source": [
        "#SPARQL Query 2"
      ]
    },
    {
      "cell_type": "code",
      "execution_count": null,
      "metadata": {
        "id": "TM5xD8Sc4BN4"
      },
      "outputs": [],
      "source": [
        "#SPARQL Query 3"
      ]
    },
    {
      "cell_type": "code",
      "execution_count": null,
      "metadata": {
        "id": "JXqS7t4_4BJV"
      },
      "outputs": [],
      "source": [
        "#SPARQL Query 4"
      ]
    },
    {
      "cell_type": "code",
      "execution_count": null,
      "metadata": {
        "id": "I65-0_e74BAM"
      },
      "outputs": [],
      "source": [
        "#SPARQL Query 5"
      ]
    },
    {
      "cell_type": "code",
      "execution_count": null,
      "metadata": {
        "id": "wOIT7Pjy4A3U"
      },
      "outputs": [],
      "source": [
        "#SPARQL Query 6"
      ]
    },
    {
      "cell_type": "code",
      "execution_count": null,
      "metadata": {
        "id": "__vYWsP74ArZ"
      },
      "outputs": [],
      "source": [
        "#SPARQL Query 7"
      ]
    },
    {
      "cell_type": "code",
      "execution_count": null,
      "metadata": {
        "id": "Gq0CZCDK4AaK"
      },
      "outputs": [],
      "source": [
        "#SPARQL Query 8"
      ]
    },
    {
      "cell_type": "code",
      "execution_count": null,
      "metadata": {},
      "outputs": [],
      "source": [
        "#SPARQL Query 9"
      ]
    },
    {
      "cell_type": "code",
      "execution_count": null,
      "metadata": {},
      "outputs": [],
      "source": [
        "#SPARQL Query 10"
      ]
    }
  ],
  "metadata": {
    "colab": {
      "provenance": []
    },
    "kernelspec": {
      "display_name": "Python 3.10.7 64-bit (microsoft store)",
      "language": "python",
      "name": "python3"
    },
    "language_info": {
      "name": "python",
      "version": "3.10.7"
    },
    "vscode": {
      "interpreter": {
        "hash": "1d75c3ea719b656c16c0963ff244cdd1e8de030c5257ba72627e79b4e4939751"
      }
    }
  },
  "nbformat": 4,
  "nbformat_minor": 0
}
