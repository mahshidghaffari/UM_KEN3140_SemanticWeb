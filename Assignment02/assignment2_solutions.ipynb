{
 "cells": [
  {
   "cell_type": "markdown",
   "metadata": {
    "id": "Yr6a2cmR3MwR"
   },
   "source": [
    "# Tasks\n",
    "\n",
    "Please first read assignment 2 instruction file, import necessary libararies, load the dataset and then write SPARQL query for following questions:\n",
    "\n",
    "1. List the top four oldest people in the graph from oldest to youngest\n",
    "2. Identify the shortest student who has at least four classmates \n",
    "3. List the teachers who have the highest salaries (in increasing order) and have at least five colleagues?\n",
    "4. Give the mean (average) age of professors, both male and female, group by gender.\n",
    "5. For each employee, calculate their \"net salary\"\\\n",
    "Net Salary Calculation = Base salary - income tax (%4 of the base salary) - pension (%6 of the base salary)\n",
    "\n",
    "6. List all people with their first name or family name starting with the letter F, E, or A\n",
    "\n",
    "7. List all `dbe:Researcher` using inference\n",
    "\n",
    "Requirements: your query should also returns subclasses of `dbe:Researcher`, such as PhD Candidates and AssistantResearcher, without directly using their URI (use the `rdfs:subClassOf` properties)\n",
    "\n",
    "8. Create missing relations when `:isSupervisedBy` is defined in one direction but not `:supervises` in the other direction. For example, if john `:isSupervisedBy` mary, then we know that mary `:supervises` john\n",
    "\n",
    "Requirements: you should use a CONSTRUCT query to build the missing triples\n",
    "\n",
    "9. Count the number of men and women per `rdf:type` in the graph (aka. the `a` relation)\n",
    "\n",
    "10. Write a federated query from wikidata for retrieving inception date of Arya Parker’s college "
   ]
  },
  {
   "cell_type": "markdown",
   "metadata": {
    "id": "43hN9iy65B-_"
   },
   "source": [
    "**Important**\n",
    "\n",
    "In the following cell you must provide code for loading dataset in a graph."
   ]
  },
  {
   "cell_type": "code",
   "execution_count": 133,
   "outputs": [],
   "source": [
    "from rdflib import URIRef, BNode, Literal, Namespace\n",
    "from rdflib.namespace import FOAF, DCTERMS, XSD, RDF, SDO\n",
    "from rdflib import Graph\n",
    "import validators\n",
    "\n",
    "\n",
    "ex= Namespace(\"http://exampleorg/\")\n",
    "schema= Namespace(\"http://schemaorg/\")\n",
    "xsd= Namespace(\"http://wwww3org/2001/XMLSchema#\")\n",
    "rdfs= Namespace(\"http://wwww3org/2000/01/rdf-schema#\")\n",
    "wde= Namespace(\"https://wwwwikidataorg/wiki/\")\n",
    "wdp= Namespace(\"http://wwwwikidataorg/prop/statement/\")\n",
    "dbp= Namespace(\"http://dbpediaorg/property/\")\n",
    "dbe= Namespace(\"https://dbpediaorg/page/\")\n",
    "dbo= Namespace(\"https://dbpediaorg/ontology/\")\n",
    "geo= Namespace(\"http://wwwgeonamesorg/ontology#\")\n",
    "wiki= Namespace(\"http://wwwwikidataorg/entity/\")\n",
    "eg = Namespace(\"http://exampleorg/voc#\")\n",
    "rdf= Namespace(\"http://wwww3org/1999/02/22-rdf-syntax-ns#\")\n",
    "foaf= Namespace(\"http://xmlnscom/foaf/01/\")\n",
    "owl= Namespace(\"http://wwww3org/2002/07/owl#\")\n",
    "wdt= Namespace(\"http://www.wikidata.org/prop/direct/\")\n",
    "wd= Namespace(\"http://www.wikidata.org/entity/\")\n",
    "wikibase= Namespace(\"http://wikiba.se/ontology#\")\n",
    "bd= Namespace(\"http://www.bigdata.com/rdf#\")\n",
    "#load dataset in a graph\n",
    "\n",
    "g = Graph()\n",
    "g.parse('assignment2_dataset.ttl', format='turtle')\n",
    "\n",
    "g.bind('ex',ex )\n",
    "g.bind('schema',schema )\n",
    "g.bind('xsd',xsd )\n",
    "g.bind('rdfs',rdfs )\n",
    "g.bind('wde',wde )\n",
    "g.bind('dbp',dbp )\n",
    "g.bind('dbe',dbe )\n",
    "g.bind('dbo',dbo )\n",
    "g.bind('geo',geo )\n",
    "g.bind('wiki',wiki )\n",
    "g.bind('eg',eg )\n",
    "g.bind('rdf',rdf )\n",
    "g.bind('foaf',foaf )\n",
    "g.bind('owl',owl )\n",
    "g.bind('wdt',wdt )\n",
    "g.bind('wd',wd )\n",
    "g.bind('wikibase',wikibase )\n",
    "g.bind('bd',bd )\n",
    "\n",
    "\n",
    "#write SPARQL queries"
   ],
   "metadata": {
    "collapsed": false
   }
  },
  {
   "cell_type": "code",
   "execution_count": 134,
   "metadata": {
    "id": "7kuw7pCk4BWi"
   },
   "outputs": [
    {
     "name": "stdout",
     "output_type": "stream",
     "text": [
      "Frank Jones\n",
      "Katrine Phill\n",
      "Arya Parker\n",
      "John Brown\n"
     ]
    }
   ],
   "source": [
    "#SPARQL Query 1?\n",
    "# List the top four oldest people in the graph from oldest to youngest\n",
    "\n",
    "query_1 = \"\"\"\n",
    "SELECT ?person\n",
    "WHERE {\n",
    "    ?a rdfs:label ?person .\n",
    "    ?a dbp:age ?age .\n",
    "\n",
    "}\n",
    "ORDER BY DESC(?age)\n",
    "LIMIT 4\n",
    "\"\"\"\n",
    "\n",
    "qres_1 = g.query(query_1)\n",
    "for row in qres_1:\n",
    "    print(f\"{row.person}\")"
   ]
  },
  {
   "cell_type": "code",
   "execution_count": 135,
   "metadata": {
    "id": "AqrGOMXd4BS2"
   },
   "outputs": [
    {
     "name": "stdout",
     "output_type": "stream",
     "text": [
      "Harry Lee with height 177\n"
     ]
    }
   ],
   "source": [
    "#SPARQL Query 2\n",
    "# Identify the shortest student who has at least four classmates\n",
    "# (PhD candidates are also included)\n",
    "\n",
    "query_2 = \"\"\"\n",
    "SELECT ?name ?height\n",
    "WHERE {\n",
    "    ?student a/rdfs:subClassOf* dbe:Student .\n",
    "    ?student rdfs:label ?name .\n",
    "    ?student schema:height ?height .\n",
    "    ?student ex:classmate ?classmate .\n",
    "}\n",
    "GROUP BY ?name ?height\n",
    "HAVING (COUNT(?classmate)>= 4)\n",
    "ORDER BY ASC(?height)\n",
    "\n",
    "LIMIT 1\n",
    "\"\"\"\n",
    "\n",
    "qres_2 = g.query(query_2)\n",
    "for row in qres_2:\n",
    "    print(f\"{row.name} with height {row.height}\")"
   ]
  },
  {
   "cell_type": "code",
   "execution_count": 136,
   "metadata": {
    "id": "TM5xD8Sc4BN4"
   },
   "outputs": [
    {
     "name": "stdout",
     "output_type": "stream",
     "text": [
      "Arya Parker 5000\n",
      "John Brown 5300\n",
      "Phillip Miller 9500\n"
     ]
    }
   ],
   "source": [
    "#SPARQL Query 3\n",
    "# List the teachers who have the highest salaries (in increasing order) and have at least five colleagues?\n",
    "# fillip 9,500 / 6 colo\n",
    "# John  5300 /6 colea\n",
    "#\n",
    "\n",
    "query_3 = \"\"\"\n",
    "SELECT ?name ?salary\n",
    "WHERE {\n",
    "    ?a schema:employee ?teacher;\n",
    "     rdfs:label ?name .\n",
    "    ?a schema:baseSalary ?salary .\n",
    "    ?a schema:colleague ?colleague .\n",
    "}\n",
    "\n",
    "GROUP BY ?name ?salary\n",
    "HAVING(COUNT(?colleague)>=5)\n",
    "ORDER BY ASC(?salary)\n",
    "\"\"\"\n",
    "\n",
    "qres_3 = g.query(query_3)\n",
    "for row in qres_3:\n",
    "    print(f\"{row.name} {row.salary}\")"
   ]
  },
  {
   "cell_type": "code",
   "execution_count": 137,
   "metadata": {
    "id": "JXqS7t4_4BJV"
   },
   "outputs": [
    {
     "ename": "Exception",
     "evalue": "Unknown namespace prefix : wiki",
     "output_type": "error",
     "traceback": [
      "\u001B[0;31m---------------------------------------------------------------------------\u001B[0m",
      "\u001B[0;31mException\u001B[0m                                 Traceback (most recent call last)",
      "\u001B[0;32m/tmp/ipykernel_6411/790837540.py\u001B[0m in \u001B[0;36m<module>\u001B[0;34m\u001B[0m\n\u001B[1;32m     16\u001B[0m \"\"\"\n\u001B[1;32m     17\u001B[0m \u001B[0;34m\u001B[0m\u001B[0m\n\u001B[0;32m---> 18\u001B[0;31m \u001B[0mqres_4\u001B[0m \u001B[0;34m=\u001B[0m \u001B[0mg\u001B[0m\u001B[0;34m.\u001B[0m\u001B[0mquery\u001B[0m\u001B[0;34m(\u001B[0m\u001B[0mquery_4\u001B[0m\u001B[0;34m)\u001B[0m\u001B[0;34m\u001B[0m\u001B[0;34m\u001B[0m\u001B[0m\n\u001B[0m\u001B[1;32m     19\u001B[0m \u001B[0;32mfor\u001B[0m \u001B[0mrow\u001B[0m \u001B[0;32min\u001B[0m \u001B[0mqres_4\u001B[0m\u001B[0;34m:\u001B[0m\u001B[0;34m\u001B[0m\u001B[0;34m\u001B[0m\u001B[0m\n\u001B[1;32m     20\u001B[0m     \u001B[0mprint\u001B[0m\u001B[0;34m(\u001B[0m\u001B[0;34mf\"{row.avgAge} {row.gender}\"\u001B[0m\u001B[0;34m)\u001B[0m\u001B[0;34m\u001B[0m\u001B[0;34m\u001B[0m\u001B[0m\n",
      "\u001B[0;32m~/.local/lib/python3.10/site-packages/rdflib/graph.py\u001B[0m in \u001B[0;36mquery\u001B[0;34m(self, query_object, processor, result, initNs, initBindings, use_store_provided, **kwargs)\u001B[0m\n\u001B[1;32m   1387\u001B[0m             \u001B[0mprocessor\u001B[0m \u001B[0;34m=\u001B[0m \u001B[0mplugin\u001B[0m\u001B[0;34m.\u001B[0m\u001B[0mget\u001B[0m\u001B[0;34m(\u001B[0m\u001B[0mprocessor\u001B[0m\u001B[0;34m,\u001B[0m \u001B[0mquery\u001B[0m\u001B[0;34m.\u001B[0m\u001B[0mProcessor\u001B[0m\u001B[0;34m)\u001B[0m\u001B[0;34m(\u001B[0m\u001B[0mself\u001B[0m\u001B[0;34m)\u001B[0m\u001B[0;34m\u001B[0m\u001B[0;34m\u001B[0m\u001B[0m\n\u001B[1;32m   1388\u001B[0m \u001B[0;34m\u001B[0m\u001B[0m\n\u001B[0;32m-> 1389\u001B[0;31m         \u001B[0;32mreturn\u001B[0m \u001B[0mresult\u001B[0m\u001B[0;34m(\u001B[0m\u001B[0mprocessor\u001B[0m\u001B[0;34m.\u001B[0m\u001B[0mquery\u001B[0m\u001B[0;34m(\u001B[0m\u001B[0mquery_object\u001B[0m\u001B[0;34m,\u001B[0m \u001B[0minitBindings\u001B[0m\u001B[0;34m,\u001B[0m \u001B[0minitNs\u001B[0m\u001B[0;34m,\u001B[0m \u001B[0;34m**\u001B[0m\u001B[0mkwargs\u001B[0m\u001B[0;34m)\u001B[0m\u001B[0;34m)\u001B[0m\u001B[0;34m\u001B[0m\u001B[0;34m\u001B[0m\u001B[0m\n\u001B[0m\u001B[1;32m   1390\u001B[0m \u001B[0;34m\u001B[0m\u001B[0m\n\u001B[1;32m   1391\u001B[0m     def update(\n",
      "\u001B[0;32m~/.local/lib/python3.10/site-packages/rdflib/plugins/sparql/processor.py\u001B[0m in \u001B[0;36mquery\u001B[0;34m(self, strOrQuery, initBindings, initNs, base, DEBUG)\u001B[0m\n\u001B[1;32m     76\u001B[0m         \u001B[0;32mif\u001B[0m \u001B[0;32mnot\u001B[0m \u001B[0misinstance\u001B[0m\u001B[0;34m(\u001B[0m\u001B[0mstrOrQuery\u001B[0m\u001B[0;34m,\u001B[0m \u001B[0mQuery\u001B[0m\u001B[0;34m)\u001B[0m\u001B[0;34m:\u001B[0m\u001B[0;34m\u001B[0m\u001B[0;34m\u001B[0m\u001B[0m\n\u001B[1;32m     77\u001B[0m             \u001B[0mparsetree\u001B[0m \u001B[0;34m=\u001B[0m \u001B[0mparseQuery\u001B[0m\u001B[0;34m(\u001B[0m\u001B[0mstrOrQuery\u001B[0m\u001B[0;34m)\u001B[0m\u001B[0;34m\u001B[0m\u001B[0;34m\u001B[0m\u001B[0m\n\u001B[0;32m---> 78\u001B[0;31m             \u001B[0mquery\u001B[0m \u001B[0;34m=\u001B[0m \u001B[0mtranslateQuery\u001B[0m\u001B[0;34m(\u001B[0m\u001B[0mparsetree\u001B[0m\u001B[0;34m,\u001B[0m \u001B[0mbase\u001B[0m\u001B[0;34m,\u001B[0m \u001B[0minitNs\u001B[0m\u001B[0;34m)\u001B[0m\u001B[0;34m\u001B[0m\u001B[0;34m\u001B[0m\u001B[0m\n\u001B[0m\u001B[1;32m     79\u001B[0m         \u001B[0;32melse\u001B[0m\u001B[0;34m:\u001B[0m\u001B[0;34m\u001B[0m\u001B[0;34m\u001B[0m\u001B[0m\n\u001B[1;32m     80\u001B[0m             \u001B[0mquery\u001B[0m \u001B[0;34m=\u001B[0m \u001B[0mstrOrQuery\u001B[0m\u001B[0;34m\u001B[0m\u001B[0;34m\u001B[0m\u001B[0m\n",
      "\u001B[0;32m~/.local/lib/python3.10/site-packages/rdflib/plugins/sparql/algebra.py\u001B[0m in \u001B[0;36mtranslateQuery\u001B[0;34m(q, base, initNs)\u001B[0m\n\u001B[1;32m    868\u001B[0m \u001B[0;34m\u001B[0m\u001B[0m\n\u001B[1;32m    869\u001B[0m     \u001B[0;31m# absolutize/resolve prefixes\u001B[0m\u001B[0;34m\u001B[0m\u001B[0;34m\u001B[0m\u001B[0m\n\u001B[0;32m--> 870\u001B[0;31m     q[1] = traverse(\n\u001B[0m\u001B[1;32m    871\u001B[0m         \u001B[0mq\u001B[0m\u001B[0;34m[\u001B[0m\u001B[0;36m1\u001B[0m\u001B[0;34m]\u001B[0m\u001B[0;34m,\u001B[0m \u001B[0mvisitPost\u001B[0m\u001B[0;34m=\u001B[0m\u001B[0mfunctools\u001B[0m\u001B[0;34m.\u001B[0m\u001B[0mpartial\u001B[0m\u001B[0;34m(\u001B[0m\u001B[0mtranslatePName\u001B[0m\u001B[0;34m,\u001B[0m \u001B[0mprologue\u001B[0m\u001B[0;34m=\u001B[0m\u001B[0mprologue\u001B[0m\u001B[0;34m)\u001B[0m\u001B[0;34m\u001B[0m\u001B[0;34m\u001B[0m\u001B[0m\n\u001B[1;32m    872\u001B[0m     )\n",
      "\u001B[0;32m~/.local/lib/python3.10/site-packages/rdflib/plugins/sparql/algebra.py\u001B[0m in \u001B[0;36mtraverse\u001B[0;34m(tree, visitPre, visitPost, complete)\u001B[0m\n\u001B[1;32m    453\u001B[0m     \"\"\"\n\u001B[1;32m    454\u001B[0m     \u001B[0;32mtry\u001B[0m\u001B[0;34m:\u001B[0m\u001B[0;34m\u001B[0m\u001B[0;34m\u001B[0m\u001B[0m\n\u001B[0;32m--> 455\u001B[0;31m         \u001B[0mr\u001B[0m \u001B[0;34m=\u001B[0m \u001B[0m_traverse\u001B[0m\u001B[0;34m(\u001B[0m\u001B[0mtree\u001B[0m\u001B[0;34m,\u001B[0m \u001B[0mvisitPre\u001B[0m\u001B[0;34m,\u001B[0m \u001B[0mvisitPost\u001B[0m\u001B[0;34m)\u001B[0m\u001B[0;34m\u001B[0m\u001B[0;34m\u001B[0m\u001B[0m\n\u001B[0m\u001B[1;32m    456\u001B[0m         \u001B[0;32mif\u001B[0m \u001B[0mcomplete\u001B[0m \u001B[0;32mis\u001B[0m \u001B[0;32mnot\u001B[0m \u001B[0;32mNone\u001B[0m\u001B[0;34m:\u001B[0m\u001B[0;34m\u001B[0m\u001B[0;34m\u001B[0m\u001B[0m\n\u001B[1;32m    457\u001B[0m             \u001B[0;32mreturn\u001B[0m \u001B[0mcomplete\u001B[0m\u001B[0;34m\u001B[0m\u001B[0;34m\u001B[0m\u001B[0m\n",
      "\u001B[0;32m~/.local/lib/python3.10/site-packages/rdflib/plugins/sparql/algebra.py\u001B[0m in \u001B[0;36m_traverse\u001B[0;34m(e, visitPre, visitPost)\u001B[0m\n\u001B[1;32m    410\u001B[0m     \u001B[0;32melif\u001B[0m \u001B[0misinstance\u001B[0m\u001B[0;34m(\u001B[0m\u001B[0me\u001B[0m\u001B[0;34m,\u001B[0m \u001B[0mCompValue\u001B[0m\u001B[0;34m)\u001B[0m\u001B[0;34m:\u001B[0m\u001B[0;34m\u001B[0m\u001B[0;34m\u001B[0m\u001B[0m\n\u001B[1;32m    411\u001B[0m         \u001B[0;32mfor\u001B[0m \u001B[0mk\u001B[0m\u001B[0;34m,\u001B[0m \u001B[0mval\u001B[0m \u001B[0;32min\u001B[0m \u001B[0me\u001B[0m\u001B[0;34m.\u001B[0m\u001B[0mitems\u001B[0m\u001B[0;34m(\u001B[0m\u001B[0;34m)\u001B[0m\u001B[0;34m:\u001B[0m\u001B[0;34m\u001B[0m\u001B[0;34m\u001B[0m\u001B[0m\n\u001B[0;32m--> 412\u001B[0;31m             \u001B[0me\u001B[0m\u001B[0;34m[\u001B[0m\u001B[0mk\u001B[0m\u001B[0;34m]\u001B[0m \u001B[0;34m=\u001B[0m \u001B[0m_traverse\u001B[0m\u001B[0;34m(\u001B[0m\u001B[0mval\u001B[0m\u001B[0;34m,\u001B[0m \u001B[0mvisitPre\u001B[0m\u001B[0;34m,\u001B[0m \u001B[0mvisitPost\u001B[0m\u001B[0;34m)\u001B[0m\u001B[0;34m\u001B[0m\u001B[0;34m\u001B[0m\u001B[0m\n\u001B[0m\u001B[1;32m    413\u001B[0m \u001B[0;34m\u001B[0m\u001B[0m\n\u001B[1;32m    414\u001B[0m     \u001B[0;31m# type error: Statement is unreachable\u001B[0m\u001B[0;34m\u001B[0m\u001B[0;34m\u001B[0m\u001B[0m\n",
      "\u001B[0;32m~/.local/lib/python3.10/site-packages/rdflib/plugins/sparql/algebra.py\u001B[0m in \u001B[0;36m_traverse\u001B[0;34m(e, visitPre, visitPost)\u001B[0m\n\u001B[1;32m    410\u001B[0m     \u001B[0;32melif\u001B[0m \u001B[0misinstance\u001B[0m\u001B[0;34m(\u001B[0m\u001B[0me\u001B[0m\u001B[0;34m,\u001B[0m \u001B[0mCompValue\u001B[0m\u001B[0;34m)\u001B[0m\u001B[0;34m:\u001B[0m\u001B[0;34m\u001B[0m\u001B[0;34m\u001B[0m\u001B[0m\n\u001B[1;32m    411\u001B[0m         \u001B[0;32mfor\u001B[0m \u001B[0mk\u001B[0m\u001B[0;34m,\u001B[0m \u001B[0mval\u001B[0m \u001B[0;32min\u001B[0m \u001B[0me\u001B[0m\u001B[0;34m.\u001B[0m\u001B[0mitems\u001B[0m\u001B[0;34m(\u001B[0m\u001B[0;34m)\u001B[0m\u001B[0;34m:\u001B[0m\u001B[0;34m\u001B[0m\u001B[0;34m\u001B[0m\u001B[0m\n\u001B[0;32m--> 412\u001B[0;31m             \u001B[0me\u001B[0m\u001B[0;34m[\u001B[0m\u001B[0mk\u001B[0m\u001B[0;34m]\u001B[0m \u001B[0;34m=\u001B[0m \u001B[0m_traverse\u001B[0m\u001B[0;34m(\u001B[0m\u001B[0mval\u001B[0m\u001B[0;34m,\u001B[0m \u001B[0mvisitPre\u001B[0m\u001B[0;34m,\u001B[0m \u001B[0mvisitPost\u001B[0m\u001B[0;34m)\u001B[0m\u001B[0;34m\u001B[0m\u001B[0;34m\u001B[0m\u001B[0m\n\u001B[0m\u001B[1;32m    413\u001B[0m \u001B[0;34m\u001B[0m\u001B[0m\n\u001B[1;32m    414\u001B[0m     \u001B[0;31m# type error: Statement is unreachable\u001B[0m\u001B[0;34m\u001B[0m\u001B[0;34m\u001B[0m\u001B[0m\n",
      "\u001B[0;32m~/.local/lib/python3.10/site-packages/rdflib/plugins/sparql/algebra.py\u001B[0m in \u001B[0;36m_traverse\u001B[0;34m(e, visitPre, visitPost)\u001B[0m\n\u001B[1;32m    403\u001B[0m \u001B[0;34m\u001B[0m\u001B[0m\n\u001B[1;32m    404\u001B[0m     \u001B[0;32mif\u001B[0m \u001B[0misinstance\u001B[0m\u001B[0;34m(\u001B[0m\u001B[0me\u001B[0m\u001B[0;34m,\u001B[0m \u001B[0;34m(\u001B[0m\u001B[0mlist\u001B[0m\u001B[0;34m,\u001B[0m \u001B[0mParseResults\u001B[0m\u001B[0;34m)\u001B[0m\u001B[0;34m)\u001B[0m\u001B[0;34m:\u001B[0m\u001B[0;34m\u001B[0m\u001B[0;34m\u001B[0m\u001B[0m\n\u001B[0;32m--> 405\u001B[0;31m         \u001B[0;32mreturn\u001B[0m \u001B[0;34m[\u001B[0m\u001B[0m_traverse\u001B[0m\u001B[0;34m(\u001B[0m\u001B[0mx\u001B[0m\u001B[0;34m,\u001B[0m \u001B[0mvisitPre\u001B[0m\u001B[0;34m,\u001B[0m \u001B[0mvisitPost\u001B[0m\u001B[0;34m)\u001B[0m \u001B[0;32mfor\u001B[0m \u001B[0mx\u001B[0m \u001B[0;32min\u001B[0m \u001B[0me\u001B[0m\u001B[0;34m]\u001B[0m\u001B[0;34m\u001B[0m\u001B[0;34m\u001B[0m\u001B[0m\n\u001B[0m\u001B[1;32m    406\u001B[0m     \u001B[0;31m# type error: Statement is unreachable\u001B[0m\u001B[0;34m\u001B[0m\u001B[0;34m\u001B[0m\u001B[0m\n\u001B[1;32m    407\u001B[0m     \u001B[0;32melif\u001B[0m \u001B[0misinstance\u001B[0m\u001B[0;34m(\u001B[0m\u001B[0me\u001B[0m\u001B[0;34m,\u001B[0m \u001B[0mtuple\u001B[0m\u001B[0;34m)\u001B[0m\u001B[0;34m:\u001B[0m  \u001B[0;31m# type: ignore[unreachable]\u001B[0m\u001B[0;34m\u001B[0m\u001B[0;34m\u001B[0m\u001B[0m\n",
      "\u001B[0;32m~/.local/lib/python3.10/site-packages/rdflib/plugins/sparql/algebra.py\u001B[0m in \u001B[0;36m<listcomp>\u001B[0;34m(.0)\u001B[0m\n\u001B[1;32m    403\u001B[0m \u001B[0;34m\u001B[0m\u001B[0m\n\u001B[1;32m    404\u001B[0m     \u001B[0;32mif\u001B[0m \u001B[0misinstance\u001B[0m\u001B[0;34m(\u001B[0m\u001B[0me\u001B[0m\u001B[0;34m,\u001B[0m \u001B[0;34m(\u001B[0m\u001B[0mlist\u001B[0m\u001B[0;34m,\u001B[0m \u001B[0mParseResults\u001B[0m\u001B[0;34m)\u001B[0m\u001B[0;34m)\u001B[0m\u001B[0;34m:\u001B[0m\u001B[0;34m\u001B[0m\u001B[0;34m\u001B[0m\u001B[0m\n\u001B[0;32m--> 405\u001B[0;31m         \u001B[0;32mreturn\u001B[0m \u001B[0;34m[\u001B[0m\u001B[0m_traverse\u001B[0m\u001B[0;34m(\u001B[0m\u001B[0mx\u001B[0m\u001B[0;34m,\u001B[0m \u001B[0mvisitPre\u001B[0m\u001B[0;34m,\u001B[0m \u001B[0mvisitPost\u001B[0m\u001B[0;34m)\u001B[0m \u001B[0;32mfor\u001B[0m \u001B[0mx\u001B[0m \u001B[0;32min\u001B[0m \u001B[0me\u001B[0m\u001B[0;34m]\u001B[0m\u001B[0;34m\u001B[0m\u001B[0;34m\u001B[0m\u001B[0m\n\u001B[0m\u001B[1;32m    406\u001B[0m     \u001B[0;31m# type error: Statement is unreachable\u001B[0m\u001B[0;34m\u001B[0m\u001B[0;34m\u001B[0m\u001B[0m\n\u001B[1;32m    407\u001B[0m     \u001B[0;32melif\u001B[0m \u001B[0misinstance\u001B[0m\u001B[0;34m(\u001B[0m\u001B[0me\u001B[0m\u001B[0;34m,\u001B[0m \u001B[0mtuple\u001B[0m\u001B[0;34m)\u001B[0m\u001B[0;34m:\u001B[0m  \u001B[0;31m# type: ignore[unreachable]\u001B[0m\u001B[0;34m\u001B[0m\u001B[0;34m\u001B[0m\u001B[0m\n",
      "\u001B[0;32m~/.local/lib/python3.10/site-packages/rdflib/plugins/sparql/algebra.py\u001B[0m in \u001B[0;36m_traverse\u001B[0;34m(e, visitPre, visitPost)\u001B[0m\n\u001B[1;32m    410\u001B[0m     \u001B[0;32melif\u001B[0m \u001B[0misinstance\u001B[0m\u001B[0;34m(\u001B[0m\u001B[0me\u001B[0m\u001B[0;34m,\u001B[0m \u001B[0mCompValue\u001B[0m\u001B[0;34m)\u001B[0m\u001B[0;34m:\u001B[0m\u001B[0;34m\u001B[0m\u001B[0;34m\u001B[0m\u001B[0m\n\u001B[1;32m    411\u001B[0m         \u001B[0;32mfor\u001B[0m \u001B[0mk\u001B[0m\u001B[0;34m,\u001B[0m \u001B[0mval\u001B[0m \u001B[0;32min\u001B[0m \u001B[0me\u001B[0m\u001B[0;34m.\u001B[0m\u001B[0mitems\u001B[0m\u001B[0;34m(\u001B[0m\u001B[0;34m)\u001B[0m\u001B[0;34m:\u001B[0m\u001B[0;34m\u001B[0m\u001B[0;34m\u001B[0m\u001B[0m\n\u001B[0;32m--> 412\u001B[0;31m             \u001B[0me\u001B[0m\u001B[0;34m[\u001B[0m\u001B[0mk\u001B[0m\u001B[0;34m]\u001B[0m \u001B[0;34m=\u001B[0m \u001B[0m_traverse\u001B[0m\u001B[0;34m(\u001B[0m\u001B[0mval\u001B[0m\u001B[0;34m,\u001B[0m \u001B[0mvisitPre\u001B[0m\u001B[0;34m,\u001B[0m \u001B[0mvisitPost\u001B[0m\u001B[0;34m)\u001B[0m\u001B[0;34m\u001B[0m\u001B[0;34m\u001B[0m\u001B[0m\n\u001B[0m\u001B[1;32m    413\u001B[0m \u001B[0;34m\u001B[0m\u001B[0m\n\u001B[1;32m    414\u001B[0m     \u001B[0;31m# type error: Statement is unreachable\u001B[0m\u001B[0;34m\u001B[0m\u001B[0;34m\u001B[0m\u001B[0m\n",
      "\u001B[0;32m~/.local/lib/python3.10/site-packages/rdflib/plugins/sparql/algebra.py\u001B[0m in \u001B[0;36m_traverse\u001B[0;34m(e, visitPre, visitPost)\u001B[0m\n\u001B[1;32m    403\u001B[0m \u001B[0;34m\u001B[0m\u001B[0m\n\u001B[1;32m    404\u001B[0m     \u001B[0;32mif\u001B[0m \u001B[0misinstance\u001B[0m\u001B[0;34m(\u001B[0m\u001B[0me\u001B[0m\u001B[0;34m,\u001B[0m \u001B[0;34m(\u001B[0m\u001B[0mlist\u001B[0m\u001B[0;34m,\u001B[0m \u001B[0mParseResults\u001B[0m\u001B[0;34m)\u001B[0m\u001B[0;34m)\u001B[0m\u001B[0;34m:\u001B[0m\u001B[0;34m\u001B[0m\u001B[0;34m\u001B[0m\u001B[0m\n\u001B[0;32m--> 405\u001B[0;31m         \u001B[0;32mreturn\u001B[0m \u001B[0;34m[\u001B[0m\u001B[0m_traverse\u001B[0m\u001B[0;34m(\u001B[0m\u001B[0mx\u001B[0m\u001B[0;34m,\u001B[0m \u001B[0mvisitPre\u001B[0m\u001B[0;34m,\u001B[0m \u001B[0mvisitPost\u001B[0m\u001B[0;34m)\u001B[0m \u001B[0;32mfor\u001B[0m \u001B[0mx\u001B[0m \u001B[0;32min\u001B[0m \u001B[0me\u001B[0m\u001B[0;34m]\u001B[0m\u001B[0;34m\u001B[0m\u001B[0;34m\u001B[0m\u001B[0m\n\u001B[0m\u001B[1;32m    406\u001B[0m     \u001B[0;31m# type error: Statement is unreachable\u001B[0m\u001B[0;34m\u001B[0m\u001B[0;34m\u001B[0m\u001B[0m\n\u001B[1;32m    407\u001B[0m     \u001B[0;32melif\u001B[0m \u001B[0misinstance\u001B[0m\u001B[0;34m(\u001B[0m\u001B[0me\u001B[0m\u001B[0;34m,\u001B[0m \u001B[0mtuple\u001B[0m\u001B[0;34m)\u001B[0m\u001B[0;34m:\u001B[0m  \u001B[0;31m# type: ignore[unreachable]\u001B[0m\u001B[0;34m\u001B[0m\u001B[0;34m\u001B[0m\u001B[0m\n",
      "\u001B[0;32m~/.local/lib/python3.10/site-packages/rdflib/plugins/sparql/algebra.py\u001B[0m in \u001B[0;36m<listcomp>\u001B[0;34m(.0)\u001B[0m\n\u001B[1;32m    403\u001B[0m \u001B[0;34m\u001B[0m\u001B[0m\n\u001B[1;32m    404\u001B[0m     \u001B[0;32mif\u001B[0m \u001B[0misinstance\u001B[0m\u001B[0;34m(\u001B[0m\u001B[0me\u001B[0m\u001B[0;34m,\u001B[0m \u001B[0;34m(\u001B[0m\u001B[0mlist\u001B[0m\u001B[0;34m,\u001B[0m \u001B[0mParseResults\u001B[0m\u001B[0;34m)\u001B[0m\u001B[0;34m)\u001B[0m\u001B[0;34m:\u001B[0m\u001B[0;34m\u001B[0m\u001B[0;34m\u001B[0m\u001B[0m\n\u001B[0;32m--> 405\u001B[0;31m         \u001B[0;32mreturn\u001B[0m \u001B[0;34m[\u001B[0m\u001B[0m_traverse\u001B[0m\u001B[0;34m(\u001B[0m\u001B[0mx\u001B[0m\u001B[0;34m,\u001B[0m \u001B[0mvisitPre\u001B[0m\u001B[0;34m,\u001B[0m \u001B[0mvisitPost\u001B[0m\u001B[0;34m)\u001B[0m \u001B[0;32mfor\u001B[0m \u001B[0mx\u001B[0m \u001B[0;32min\u001B[0m \u001B[0me\u001B[0m\u001B[0;34m]\u001B[0m\u001B[0;34m\u001B[0m\u001B[0;34m\u001B[0m\u001B[0m\n\u001B[0m\u001B[1;32m    406\u001B[0m     \u001B[0;31m# type error: Statement is unreachable\u001B[0m\u001B[0;34m\u001B[0m\u001B[0;34m\u001B[0m\u001B[0m\n\u001B[1;32m    407\u001B[0m     \u001B[0;32melif\u001B[0m \u001B[0misinstance\u001B[0m\u001B[0;34m(\u001B[0m\u001B[0me\u001B[0m\u001B[0;34m,\u001B[0m \u001B[0mtuple\u001B[0m\u001B[0;34m)\u001B[0m\u001B[0;34m:\u001B[0m  \u001B[0;31m# type: ignore[unreachable]\u001B[0m\u001B[0;34m\u001B[0m\u001B[0;34m\u001B[0m\u001B[0m\n",
      "\u001B[0;32m~/.local/lib/python3.10/site-packages/rdflib/plugins/sparql/algebra.py\u001B[0m in \u001B[0;36m_traverse\u001B[0;34m(e, visitPre, visitPost)\u001B[0m\n\u001B[1;32m    403\u001B[0m \u001B[0;34m\u001B[0m\u001B[0m\n\u001B[1;32m    404\u001B[0m     \u001B[0;32mif\u001B[0m \u001B[0misinstance\u001B[0m\u001B[0;34m(\u001B[0m\u001B[0me\u001B[0m\u001B[0;34m,\u001B[0m \u001B[0;34m(\u001B[0m\u001B[0mlist\u001B[0m\u001B[0;34m,\u001B[0m \u001B[0mParseResults\u001B[0m\u001B[0;34m)\u001B[0m\u001B[0;34m)\u001B[0m\u001B[0;34m:\u001B[0m\u001B[0;34m\u001B[0m\u001B[0;34m\u001B[0m\u001B[0m\n\u001B[0;32m--> 405\u001B[0;31m         \u001B[0;32mreturn\u001B[0m \u001B[0;34m[\u001B[0m\u001B[0m_traverse\u001B[0m\u001B[0;34m(\u001B[0m\u001B[0mx\u001B[0m\u001B[0;34m,\u001B[0m \u001B[0mvisitPre\u001B[0m\u001B[0;34m,\u001B[0m \u001B[0mvisitPost\u001B[0m\u001B[0;34m)\u001B[0m \u001B[0;32mfor\u001B[0m \u001B[0mx\u001B[0m \u001B[0;32min\u001B[0m \u001B[0me\u001B[0m\u001B[0;34m]\u001B[0m\u001B[0;34m\u001B[0m\u001B[0;34m\u001B[0m\u001B[0m\n\u001B[0m\u001B[1;32m    406\u001B[0m     \u001B[0;31m# type error: Statement is unreachable\u001B[0m\u001B[0;34m\u001B[0m\u001B[0;34m\u001B[0m\u001B[0m\n\u001B[1;32m    407\u001B[0m     \u001B[0;32melif\u001B[0m \u001B[0misinstance\u001B[0m\u001B[0;34m(\u001B[0m\u001B[0me\u001B[0m\u001B[0;34m,\u001B[0m \u001B[0mtuple\u001B[0m\u001B[0;34m)\u001B[0m\u001B[0;34m:\u001B[0m  \u001B[0;31m# type: ignore[unreachable]\u001B[0m\u001B[0;34m\u001B[0m\u001B[0;34m\u001B[0m\u001B[0m\n",
      "\u001B[0;32m~/.local/lib/python3.10/site-packages/rdflib/plugins/sparql/algebra.py\u001B[0m in \u001B[0;36m<listcomp>\u001B[0;34m(.0)\u001B[0m\n\u001B[1;32m    403\u001B[0m \u001B[0;34m\u001B[0m\u001B[0m\n\u001B[1;32m    404\u001B[0m     \u001B[0;32mif\u001B[0m \u001B[0misinstance\u001B[0m\u001B[0;34m(\u001B[0m\u001B[0me\u001B[0m\u001B[0;34m,\u001B[0m \u001B[0;34m(\u001B[0m\u001B[0mlist\u001B[0m\u001B[0;34m,\u001B[0m \u001B[0mParseResults\u001B[0m\u001B[0;34m)\u001B[0m\u001B[0;34m)\u001B[0m\u001B[0;34m:\u001B[0m\u001B[0;34m\u001B[0m\u001B[0;34m\u001B[0m\u001B[0m\n\u001B[0;32m--> 405\u001B[0;31m         \u001B[0;32mreturn\u001B[0m \u001B[0;34m[\u001B[0m\u001B[0m_traverse\u001B[0m\u001B[0;34m(\u001B[0m\u001B[0mx\u001B[0m\u001B[0;34m,\u001B[0m \u001B[0mvisitPre\u001B[0m\u001B[0;34m,\u001B[0m \u001B[0mvisitPost\u001B[0m\u001B[0;34m)\u001B[0m \u001B[0;32mfor\u001B[0m \u001B[0mx\u001B[0m \u001B[0;32min\u001B[0m \u001B[0me\u001B[0m\u001B[0;34m]\u001B[0m\u001B[0;34m\u001B[0m\u001B[0;34m\u001B[0m\u001B[0m\n\u001B[0m\u001B[1;32m    406\u001B[0m     \u001B[0;31m# type error: Statement is unreachable\u001B[0m\u001B[0;34m\u001B[0m\u001B[0;34m\u001B[0m\u001B[0m\n\u001B[1;32m    407\u001B[0m     \u001B[0;32melif\u001B[0m \u001B[0misinstance\u001B[0m\u001B[0;34m(\u001B[0m\u001B[0me\u001B[0m\u001B[0;34m,\u001B[0m \u001B[0mtuple\u001B[0m\u001B[0;34m)\u001B[0m\u001B[0;34m:\u001B[0m  \u001B[0;31m# type: ignore[unreachable]\u001B[0m\u001B[0;34m\u001B[0m\u001B[0;34m\u001B[0m\u001B[0m\n",
      "\u001B[0;32m~/.local/lib/python3.10/site-packages/rdflib/plugins/sparql/algebra.py\u001B[0m in \u001B[0;36m_traverse\u001B[0;34m(e, visitPre, visitPost)\u001B[0m\n\u001B[1;32m    413\u001B[0m \u001B[0;34m\u001B[0m\u001B[0m\n\u001B[1;32m    414\u001B[0m     \u001B[0;31m# type error: Statement is unreachable\u001B[0m\u001B[0;34m\u001B[0m\u001B[0;34m\u001B[0m\u001B[0m\n\u001B[0;32m--> 415\u001B[0;31m     \u001B[0m_e\u001B[0m \u001B[0;34m=\u001B[0m \u001B[0mvisitPost\u001B[0m\u001B[0;34m(\u001B[0m\u001B[0me\u001B[0m\u001B[0;34m)\u001B[0m  \u001B[0;31m# type: ignore[unreachable]\u001B[0m\u001B[0;34m\u001B[0m\u001B[0;34m\u001B[0m\u001B[0m\n\u001B[0m\u001B[1;32m    416\u001B[0m     \u001B[0;32mif\u001B[0m \u001B[0m_e\u001B[0m \u001B[0;32mis\u001B[0m \u001B[0;32mnot\u001B[0m \u001B[0;32mNone\u001B[0m\u001B[0;34m:\u001B[0m\u001B[0;34m\u001B[0m\u001B[0;34m\u001B[0m\u001B[0m\n\u001B[1;32m    417\u001B[0m         \u001B[0;32mreturn\u001B[0m \u001B[0m_e\u001B[0m\u001B[0;34m\u001B[0m\u001B[0;34m\u001B[0m\u001B[0m\n",
      "\u001B[0;32m~/.local/lib/python3.10/site-packages/rdflib/plugins/sparql/algebra.py\u001B[0m in \u001B[0;36mtranslatePName\u001B[0;34m(p, prologue)\u001B[0m\n\u001B[1;32m    187\u001B[0m     \u001B[0;32mif\u001B[0m \u001B[0misinstance\u001B[0m\u001B[0;34m(\u001B[0m\u001B[0mp\u001B[0m\u001B[0;34m,\u001B[0m \u001B[0mCompValue\u001B[0m\u001B[0;34m)\u001B[0m\u001B[0;34m:\u001B[0m\u001B[0;34m\u001B[0m\u001B[0;34m\u001B[0m\u001B[0m\n\u001B[1;32m    188\u001B[0m         \u001B[0;32mif\u001B[0m \u001B[0mp\u001B[0m\u001B[0;34m.\u001B[0m\u001B[0mname\u001B[0m \u001B[0;34m==\u001B[0m \u001B[0;34m\"pname\"\u001B[0m\u001B[0;34m:\u001B[0m\u001B[0;34m\u001B[0m\u001B[0;34m\u001B[0m\u001B[0m\n\u001B[0;32m--> 189\u001B[0;31m             \u001B[0;32mreturn\u001B[0m \u001B[0mprologue\u001B[0m\u001B[0;34m.\u001B[0m\u001B[0mabsolutize\u001B[0m\u001B[0;34m(\u001B[0m\u001B[0mp\u001B[0m\u001B[0;34m)\u001B[0m\u001B[0;34m\u001B[0m\u001B[0;34m\u001B[0m\u001B[0m\n\u001B[0m\u001B[1;32m    190\u001B[0m         \u001B[0;32mif\u001B[0m \u001B[0mp\u001B[0m\u001B[0;34m.\u001B[0m\u001B[0mname\u001B[0m \u001B[0;34m==\u001B[0m \u001B[0;34m\"literal\"\u001B[0m\u001B[0;34m:\u001B[0m\u001B[0;34m\u001B[0m\u001B[0;34m\u001B[0m\u001B[0m\n\u001B[1;32m    191\u001B[0m             \u001B[0;31m# type error: Argument \"datatype\" to \"Literal\" has incompatible type \"Union[CompValue, str, None]\"; expected \"Optional[str]\"\u001B[0m\u001B[0;34m\u001B[0m\u001B[0;34m\u001B[0m\u001B[0m\n",
      "\u001B[0;32m~/.local/lib/python3.10/site-packages/rdflib/plugins/sparql/sparql.py\u001B[0m in \u001B[0;36mabsolutize\u001B[0;34m(self, iri)\u001B[0m\n\u001B[1;32m    410\u001B[0m         \u001B[0;32mif\u001B[0m \u001B[0misinstance\u001B[0m\u001B[0;34m(\u001B[0m\u001B[0miri\u001B[0m\u001B[0;34m,\u001B[0m \u001B[0mCompValue\u001B[0m\u001B[0;34m)\u001B[0m\u001B[0;34m:\u001B[0m\u001B[0;34m\u001B[0m\u001B[0;34m\u001B[0m\u001B[0m\n\u001B[1;32m    411\u001B[0m             \u001B[0;32mif\u001B[0m \u001B[0miri\u001B[0m\u001B[0;34m.\u001B[0m\u001B[0mname\u001B[0m \u001B[0;34m==\u001B[0m \u001B[0;34m\"pname\"\u001B[0m\u001B[0;34m:\u001B[0m\u001B[0;34m\u001B[0m\u001B[0;34m\u001B[0m\u001B[0m\n\u001B[0;32m--> 412\u001B[0;31m                 \u001B[0;32mreturn\u001B[0m \u001B[0mself\u001B[0m\u001B[0;34m.\u001B[0m\u001B[0mresolvePName\u001B[0m\u001B[0;34m(\u001B[0m\u001B[0miri\u001B[0m\u001B[0;34m.\u001B[0m\u001B[0mprefix\u001B[0m\u001B[0;34m,\u001B[0m \u001B[0miri\u001B[0m\u001B[0;34m.\u001B[0m\u001B[0mlocalname\u001B[0m\u001B[0;34m)\u001B[0m\u001B[0;34m\u001B[0m\u001B[0;34m\u001B[0m\u001B[0m\n\u001B[0m\u001B[1;32m    413\u001B[0m             \u001B[0;32mif\u001B[0m \u001B[0miri\u001B[0m\u001B[0;34m.\u001B[0m\u001B[0mname\u001B[0m \u001B[0;34m==\u001B[0m \u001B[0;34m\"literal\"\u001B[0m\u001B[0;34m:\u001B[0m\u001B[0;34m\u001B[0m\u001B[0;34m\u001B[0m\u001B[0m\n\u001B[1;32m    414\u001B[0m                 \u001B[0;31m# type error: Argument \"datatype\" to \"Literal\" has incompatible type \"Union[CompValue, Identifier, None]\"; expected \"Optional[str]\"\u001B[0m\u001B[0;34m\u001B[0m\u001B[0;34m\u001B[0m\u001B[0m\n",
      "\u001B[0;32m~/.local/lib/python3.10/site-packages/rdflib/plugins/sparql/sparql.py\u001B[0m in \u001B[0;36mresolvePName\u001B[0;34m(self, prefix, localname)\u001B[0m\n\u001B[1;32m    392\u001B[0m         \u001B[0mns\u001B[0m \u001B[0;34m=\u001B[0m \u001B[0mself\u001B[0m\u001B[0;34m.\u001B[0m\u001B[0mnamespace_manager\u001B[0m\u001B[0;34m.\u001B[0m\u001B[0mstore\u001B[0m\u001B[0;34m.\u001B[0m\u001B[0mnamespace\u001B[0m\u001B[0;34m(\u001B[0m\u001B[0mprefix\u001B[0m \u001B[0;32mor\u001B[0m \u001B[0;34m\"\"\u001B[0m\u001B[0;34m)\u001B[0m\u001B[0;34m\u001B[0m\u001B[0;34m\u001B[0m\u001B[0m\n\u001B[1;32m    393\u001B[0m         \u001B[0;32mif\u001B[0m \u001B[0mns\u001B[0m \u001B[0;32mis\u001B[0m \u001B[0;32mNone\u001B[0m\u001B[0;34m:\u001B[0m\u001B[0;34m\u001B[0m\u001B[0;34m\u001B[0m\u001B[0m\n\u001B[0;32m--> 394\u001B[0;31m             \u001B[0;32mraise\u001B[0m \u001B[0mException\u001B[0m\u001B[0;34m(\u001B[0m\u001B[0;34m\"Unknown namespace prefix : %s\"\u001B[0m \u001B[0;34m%\u001B[0m \u001B[0mprefix\u001B[0m\u001B[0;34m)\u001B[0m\u001B[0;34m\u001B[0m\u001B[0;34m\u001B[0m\u001B[0m\n\u001B[0m\u001B[1;32m    395\u001B[0m         \u001B[0;32mreturn\u001B[0m \u001B[0mURIRef\u001B[0m\u001B[0;34m(\u001B[0m\u001B[0mns\u001B[0m \u001B[0;34m+\u001B[0m \u001B[0;34m(\u001B[0m\u001B[0mlocalname\u001B[0m \u001B[0;32mor\u001B[0m \u001B[0;34m\"\"\u001B[0m\u001B[0;34m)\u001B[0m\u001B[0;34m)\u001B[0m\u001B[0;34m\u001B[0m\u001B[0;34m\u001B[0m\u001B[0m\n\u001B[1;32m    396\u001B[0m \u001B[0;34m\u001B[0m\u001B[0m\n",
      "\u001B[0;31mException\u001B[0m: Unknown namespace prefix : wiki"
     ]
    }
   ],
   "source": [
    "#SPARQL Query 4\n",
    "# Give the mean (average) age of professors, both male and female, group by gender.\n",
    "# John Brown 53\n",
    "# Phillip Miller 38\n",
    "\n",
    "\n",
    "query_4 = \"\"\"\n",
    "SELECT (AVG(?age) as ?avgAge) ?gender\n",
    "WHERE {\n",
    "    ?a a wiki:Q121594 .\n",
    "    ?a rdfs:label ?name .\n",
    "    ?a dbp:age ?age.\n",
    "    ?a schema:gender ?gender .\n",
    "}\n",
    "GROUP BY ?gender\n",
    "\"\"\"\n",
    "\n",
    "qres_4 = g.query(query_4)\n",
    "for row in qres_4:\n",
    "    print(f\"{row.avgAge} {row.gender}\")"
   ]
  },
  {
   "cell_type": "code",
   "execution_count": null,
   "metadata": {
    "id": "I65-0_e74BAM"
   },
   "outputs": [],
   "source": [
    "#SPARQL Query 5"
   ]
  },
  {
   "cell_type": "code",
   "execution_count": null,
   "metadata": {
    "id": "wOIT7Pjy4A3U"
   },
   "outputs": [],
   "source": [
    "#SPARQL Query 6"
   ]
  },
  {
   "cell_type": "code",
   "execution_count": null,
   "metadata": {
    "id": "__vYWsP74ArZ"
   },
   "outputs": [],
   "source": [
    "#SPARQL Query 7"
   ]
  },
  {
   "cell_type": "code",
   "execution_count": null,
   "metadata": {
    "id": "Gq0CZCDK4AaK"
   },
   "outputs": [],
   "source": [
    "#SPARQL Query 8"
   ]
  },
  {
   "cell_type": "code",
   "execution_count": 147,
   "metadata": {},
   "outputs": [],
   "source": [
    "#SPARQL Query 9\n",
    "query9='''\n",
    "SELECT ?spouse ?spouseLabel WHERE {\n",
    "   wd:Q1744 wdt:P26 ?spouse.\n",
    "   SERVICE wikibase:label {\n",
    "     bd:serviceParam wikibase:language \"en\" .\n",
    "   }\n",
    "}\n",
    "'''\n",
    "qres = g.query(query9)\n",
    "for row in qres:\n",
    "    print(f\"{row}\")"
   ]
  },
  {
   "cell_type": "code",
   "execution_count": 169,
   "metadata": {},
   "outputs": [
    {
     "name": "stdout",
     "output_type": "stream",
     "text": [
      "http://example.org/AryaParker has inception query 1976-01-01T00:00:00+00:00\n"
     ]
    }
   ],
   "source": [
    "#SPARQL Query 10#\n",
    "# Write a federated query from wikidata for retrieving inception date of Arya Parker’s college\n",
    "# (CONCAT(STR(YEAR(?idate))\n",
    "\n",
    "\n",
    "query_10 = \"\"\"\n",
    "SELECT ?arya ?iDate\n",
    "WHERE\n",
    "{\n",
    "   ?arya rdfs:label \"Arya Parker\" .\n",
    "  SERVICE <https://query.wikidata.org/sparql> {\n",
    "    wd:Q1137652 wdt:P571 ?iDate . }\n",
    "}\n",
    "\n",
    "\"\"\"\n",
    "\n",
    "qres_10 = g.query(query_10)\n",
    "for row in qres_10:\n",
    "    print(f\"{row.arya} has inception query {row.iDate}\")"
   ]
  },
  {
   "cell_type": "code",
   "execution_count": null,
   "outputs": [],
   "source": [],
   "metadata": {
    "collapsed": false
   }
  }
 ],
 "metadata": {
  "colab": {
   "provenance": []
  },
  "kernelspec": {
   "display_name": "Python 3.10.7 64-bit (microsoft store)",
   "language": "python",
   "name": "python3"
  },
  "language_info": {
   "name": "python",
   "version": "3.10.7"
  },
  "vscode": {
   "interpreter": {
    "hash": "1d75c3ea719b656c16c0963ff244cdd1e8de030c5257ba72627e79b4e4939751"
   }
  }
 },
 "nbformat": 4,
 "nbformat_minor": 0
}
